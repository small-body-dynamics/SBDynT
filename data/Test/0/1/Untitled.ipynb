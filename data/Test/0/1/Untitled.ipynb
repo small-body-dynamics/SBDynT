{
 "cells": [
  {
   "cell_type": "code",
   "execution_count": 1,
   "metadata": {},
   "outputs": [],
   "source": [
    "import rebound"
   ]
  },
  {
   "cell_type": "code",
   "execution_count": 8,
   "metadata": {},
   "outputs": [
    {
     "name": "stdout",
     "output_type": "stream",
     "text": [
      "<rebound.particle.Particle object at 0x7f8502f80158, m=0.0009547919099366768 x=0.5223485954575768 y=-5.193583547161092 z=0.009853506315345952 vx=2.708687198371589 vy=0.4071903430596803 vz=-0.06228310629805021>\n"
     ]
    },
    {
     "data": {
      "text/plain": [
       "1424801690"
      ]
     },
     "execution_count": 8,
     "metadata": {},
     "output_type": "execute_result"
    }
   ],
   "source": [
    "sim = rebound.SimulationArchive('archive.bin')\n",
    "print(sim[0].particles['jupiter'])\n",
    "1424801690"
   ]
  },
  {
   "cell_type": "code",
   "execution_count": null,
   "metadata": {},
   "outputs": [],
   "source": []
  }
 ],
 "metadata": {
  "kernelspec": {
   "display_name": "SBDynT",
   "language": "python",
   "name": "sbdynt"
  },
  "language_info": {
   "codemirror_mode": {
    "name": "ipython",
    "version": 3
   },
   "file_extension": ".py",
   "mimetype": "text/x-python",
   "name": "python",
   "nbconvert_exporter": "python",
   "pygments_lexer": "ipython3",
   "version": "3.7.3"
  }
 },
 "nbformat": 4,
 "nbformat_minor": 4
}
