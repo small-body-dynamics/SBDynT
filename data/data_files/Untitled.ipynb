{
 "cells": [
  {
   "cell_type": "code",
   "execution_count": 2,
   "metadata": {},
   "outputs": [],
   "source": [
    "import pandas as pd\n",
    "import numpy as np\n",
    "\n",
    "ast = pd.read_csv('Asteroids.csv')\n",
    "ind = np.where(ast['a(AU)'] < 2.15)\n",
    "\n",
    "inner = ast.iloc[ind]\n",
    "inner.to_csv('InnerAst.csv')\n",
    "\n",
    "sample = ast.iloc[:len(ind)]\n",
    "sample.to_csv('SampleAst.csv')"
   ]
  },
  {
   "cell_type": "code",
   "execution_count": null,
   "metadata": {},
   "outputs": [],
   "source": []
  }
 ],
 "metadata": {
  "kernelspec": {
   "display_name": "SBDynT",
   "language": "python",
   "name": "sbdynt"
  },
  "language_info": {
   "codemirror_mode": {
    "name": "ipython",
    "version": 3
   },
   "file_extension": ".py",
   "mimetype": "text/x-python",
   "name": "python",
   "nbconvert_exporter": "python",
   "pygments_lexer": "ipython3",
   "version": "3.7.3"
  }
 },
 "nbformat": 4,
 "nbformat_minor": 4
}
