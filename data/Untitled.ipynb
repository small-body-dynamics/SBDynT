{
 "cells": [
  {
   "cell_type": "code",
   "execution_count": 38,
   "metadata": {},
   "outputs": [
    {
     "name": "stdout",
     "output_type": "stream",
     "text": [
      "10000000.0\n",
      "0.03\n",
      "10000000.0\n"
     ]
    }
   ],
   "source": [
    "import rebound\n",
    "\n",
    "sim = rebound.SimulationArchive('Inner_NoMerc/2735/archive.bin')\n",
    "\n",
    "print(sim[-1].t)\n",
    "print(sim[-1].dt)\n",
    "\n",
    "sim = rebound.SimulationArchive('Sample_NoMerc/33/archive.bin')\n",
    "\n",
    "print(sim[-1].t)"
   ]
  },
  {
   "cell_type": "code",
   "execution_count": null,
   "metadata": {},
   "outputs": [],
   "source": []
  },
  {
   "cell_type": "code",
   "execution_count": null,
   "metadata": {},
   "outputs": [],
   "source": []
  }
 ],
 "metadata": {
  "kernelspec": {
   "display_name": "SBDynT",
   "language": "python",
   "name": "sbdynt"
  },
  "language_info": {
   "codemirror_mode": {
    "name": "ipython",
    "version": 3
   },
   "file_extension": ".py",
   "mimetype": "text/x-python",
   "name": "python",
   "nbconvert_exporter": "python",
   "pygments_lexer": "ipython3",
   "version": "3.7.3"
  }
 },
 "nbformat": 4,
 "nbformat_minor": 4
}
