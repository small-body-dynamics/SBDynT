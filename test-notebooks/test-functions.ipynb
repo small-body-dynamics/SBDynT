{
 "cells": [
  {
   "cell_type": "code",
   "execution_count": 2,
   "metadata": {},
   "outputs": [],
   "source": [
    "import sys\n",
    "sys.path.insert(0, '/Users/kvolk/Documents/GitHub/SBDynT/src')\n",
    "\n",
    "sys.path.insert(0, '../src')\n",
    "import run_reb\n",
    "import rebound\n",
    "import numpy as np\n",
    "import horizons_api\n",
    "import tools\n",
    "\n",
    "\n"
   ]
  },
  {
   "cell_type": "code",
   "execution_count": 2,
   "metadata": {},
   "outputs": [
    {
     "data": {
      "text/plain": [
       "(1,\n",
       " 2457019.5,\n",
       " 20.608044425294043,\n",
       " 24.46023267047783,\n",
       " -0.43401061748237785,\n",
       " -0.8946950688262664,\n",
       " 0.8022771544245898,\n",
       " -0.15424196522623565)"
      ]
     },
     "execution_count": 2,
     "metadata": {},
     "output_type": "execute_result"
    }
   ],
   "source": [
    "horizons_api.query_sb_from_jpl(des='K14X40T',clones=0)"
   ]
  },
  {
   "cell_type": "code",
   "execution_count": 3,
   "metadata": {},
   "outputs": [
    {
     "name": "stdout",
     "output_type": "stream",
     "text": [
      "4.417200209211192E+01\t9.624223903043595E-02\t1.577372301751313E+00\t8.148945984797463E+01\t1.698538501346550E+02\t5.217559279538893E+01\n",
      "\n"
     ]
    }
   ],
   "source": [
    "import os\n",
    "sbody = '2004 PY107'\n",
    "objname = '2004PY107_5e8'\n",
    "\n",
    "filename = 'TNOs/'+objname\n",
    "if not os.path.exists(filename):\n",
    "    os.mkdir(filename)\n",
    "sim = rebound.Simulation()\n",
    "\n",
    "flag, epoch, sim = run_reb.initialize_simulation(planets=['Jupiter','Saturn','Uranus','Neptune'],des=sbody,clones=105)\n",
    "#sim.status()\n",
    "#print(epoch)\n",
    "com = sim.calculate_com()\n",
    "\n",
    "p = sim.particles[sbody+'_bf']\n",
    "o = p.calculate_orbit(com)\n",
    "r2d = 180./np.pi\n",
    "print(\"%20.15E\\t%20.15E\\t%20.15E\\t%20.15E\\t%20.15E\\t%20.15E\\n\" % (o.a,o.e,o.inc*r2d, o.Omega*r2d,o.omega*r2d,r2d*o.M))"
   ]
  },
  {
   "cell_type": "code",
   "execution_count": null,
   "metadata": {},
   "outputs": [],
   "source": [
    "tmax = 5e8\n",
    "tout = 1e5\n",
    "\n",
    "sim = run_reb.run_simulation(sim, tmax=tmax, tout=tout,filename=filename+\"/archive.bin\",deletefile=True,mindist=20.)"
   ]
  },
  {
   "cell_type": "code",
   "execution_count": 4,
   "metadata": {},
   "outputs": [
    {
     "name": "stdout",
     "output_type": "stream",
     "text": [
      "0.0\n",
      "500000000.0\n",
      "la  500001\n",
      "500001\n"
     ]
    },
    {
     "data": {
      "text/plain": [
       "<matplotlib.collections.PathCollection at 0x7f5e50d0b208>"
      ]
     },
     "execution_count": 4,
     "metadata": {},
     "output_type": "execute_result"
    },
    {
     "data": {
      "image/png": "[encoded data removed]",
      "text/plain": [
       "<Figure size 432x288 with 1 Axes>"
      ]
     },
     "metadata": {
      "needs_background": "light"
     },
     "output_type": "display_data"
    }
   ],
   "source": [
    "\n",
    "sbody = '2004 PY107'\n",
    "sa = rebound.SimulationArchive('archive_2.bin')\n",
    "\n",
    "a = np.zeros(len(sa));e = np.zeros(len(sa));inc = np.zeros(len(sa));qp = np.zeros(len(sa),dtype=complex);\n",
    "ptp = np.zeros(len(sa));qtp = np.zeros(len(sa));kh = np.zeros(len(sa),dtype=complex);#k = np.zeros(len(sa));\n",
    "t = np.zeros(len(sa));npl = 8;\n",
    "\n",
    "qppl = np.asfortranarray(np.zeros(shape=[len(sa),npl],dtype=complex));khpl = np.asfortranarray(np.zeros(shape=[len(sa),npl],dtype=complex));\n",
    "\n",
    "hpl = np.zeros((len(sa),npl));kpl = np.zeros((len(sa),npl));ppl = np.zeros((len(sa),npl));qpl = np.zeros((len(sa),npl));\n",
    "\n",
    "hpart = np.zeros(len(sa));kpart = np.zeros(len(sa));ppart = np.zeros(len(sa));qpart = np.zeros(len(sa))\n",
    "\n",
    "planets = ['mercury','venus','earth','mars','jupiter','saturn','uranus','neptune']\n",
    "print(sa.tmin)\n",
    "print(sa.tmax)\n",
    "print('la ',len(sa))\n",
    "for j,sim in enumerate(sa):\n",
    "    p = sim.particles[sbody+\"_bf\"]\n",
    "    n = sim.particles['neptune']\n",
    "    com = sim.calculate_com()\n",
    "    o = p.calculate_orbit(com)\n",
    "    on = n.calculate_orbit(com)\n",
    "    \n",
    "    t[j] = sim.t\n",
    "    a[j] = o.a\n",
    "    p = np.sin(o.inc)*np.sin(o.Omega)\n",
    "    q = np.sin(o.inc)*np.cos(o.Omega)\n",
    "    ptp[j] = p\n",
    "    qtp[j] = q\n",
    "    qp[j] = 1j*p + q\n",
    "    h = (o.e)*np.sin(o.Omega+o.omega)\n",
    "    k = (o.e)*np.cos(o.Omega+o.omega)\n",
    "    \n",
    "    hpart[j] = h\n",
    "    kpart[j] = k\n",
    "    ppart[j] = p\n",
    "    qpart[j] = q\n",
    "    \n",
    "    kh[j] = 1j*k + h\n",
    "    \n",
    "    e[j] = o.e\n",
    "    inc[j] = o.inc*180/np.pi\n",
    "    \n",
    "    for i in range (0,npl):\n",
    "        pl = sim.particles[planets[i]]\n",
    "        o = pl.calculate_orbit(com)\n",
    "        ptemp = np.sin(pl.inc)*np.sin(pl.Omega)\n",
    "        qtemp = np.sin(pl.inc)*np.cos(pl.Omega)\n",
    "        qppl[j,i] = 1j*ptemp + qtemp\n",
    "        htemp = (pl.e)*np.sin(pl.Omega+pl.omega)\n",
    "        ktemp = (pl.e)*np.cos(pl.Omega+pl.omega)\n",
    "        khpl[j,i] = 1j*ktemp + htemp\n",
    "        hpl[j,i] = htemp\n",
    "        kpl[j,i] = ktemp\n",
    "        ppl[j,i] = ptemp\n",
    "        qpl[j,i] = qtemp\n",
    "\n",
    "print(len(e))\n",
    "import matplotlib.pyplot as plt\n",
    "%matplotlib inline\n",
    "plt.ylim([0,360])\n",
    "plt.scatter(t,inc*180/np.pi)"
   ]
  },
  {
   "cell_type": "code",
   "execution_count": 6,
   "metadata": {},
   "outputs": [
    {
     "name": "stdout",
     "output_type": "stream",
     "text": [
      "500001 8\n"
     ]
    }
   ],
   "source": [
    "import pandas as pd\n",
    "series = pd.DataFrame(columns=['t','a','ecc','inc','p','q','h','k','hmc','kmc','pmc','qmc','hv','kv','pv','qv','he','ke','pe','qe','hmr','kmr','pmr','qmr','hj','kj','pj','qj','hs','ks','ps','qs','hu','ku','pu','qu','hn','kn','pn','qn'])\n",
    "\n",
    "print(len(hpl),len(hpl[0,:]))\n",
    "series['t'] = t\n",
    "series['a'] = a\n",
    "series['e'] = e\n",
    "series['inc'] = inc\n",
    "series['p'] = ppart\n",
    "series['q'] = qpart\n",
    "series['h'] = hpart\n",
    "series['k'] = kpart\n",
    "\n",
    "series['hmc'] = hpl[:,0]\n",
    "series['kmc'] = kpl[:,0]\n",
    "series['pmc'] = ppl[:,0]\n",
    "series['qmc'] = qpl[:,0]\n",
    "series['hv'] = hpl[:,1]\n",
    "series['kv'] = kpl[:,1]\n",
    "series['pv'] = ppl[:,1]\n",
    "series['qv'] = qpl[:,1]\n",
    "series['he'] = hpl[:,2]\n",
    "series['ke'] = kpl[:,2]\n",
    "series['pe'] = ppl[:,2]\n",
    "series['qe'] = qpl[:,2]\n",
    "series['hmr'] = hpl[:,3]\n",
    "series['kmr'] = kpl[:,3]\n",
    "series['pmr'] = ppl[:,3]\n",
    "series['qmr'] = qpl[:,3]\n",
    "\n",
    "series['hj'] = hpl[:,4]\n",
    "series['kj'] = kpl[:,4]\n",
    "series['pj'] = ppl[:,4]\n",
    "series['qj'] = qpl[:,4]\n",
    "series['hs'] = hpl[:,5]\n",
    "series['ks'] = kpl[:,5]\n",
    "series['ps'] = ppl[:,5]\n",
    "series['qs'] = qpl[:,5]\n",
    "series['hu'] = hpl[:,6]\n",
    "series['ku'] = kpl[:,6]\n",
    "series['pu'] = ppl[:,6]\n",
    "series['qu'] = qpl[:,6]\n",
    "series['hn'] = hpl[:,7]\n",
    "series['kn'] = kpl[:,7]\n",
    "series['pn'] = ppl[:,7]\n",
    "series['qn'] = qpl[:,7]\n",
    "\n",
    "series.to_csv('series_3.csv')"
   ]
  },
  {
   "cell_type": "code",
   "execution_count": 8,
   "metadata": {},
   "outputs": [
    {
     "name": "stdout",
     "output_type": "stream",
     "text": [
      "0         0.012082\n",
      "1         0.014582\n",
      "2         0.016937\n",
      "3         0.018525\n",
      "4         0.022265\n",
      "            ...   \n",
      "499996    0.017406\n",
      "499997    0.018370\n",
      "499998    0.021494\n",
      "499999    0.021629\n",
      "500000    0.024578\n",
      "Name: hj, Length: 500001, dtype: float64\n"
     ]
    }
   ],
   "source": [
    "print(series['hj'])"
   ]
  },
  {
   "cell_type": "code",
   "execution_count": null,
   "metadata": {},
   "outputs": [],
   "source": [
    "def new_run_simulation(sim, tmax=0, tout=0,filename=\"archive.bin\",deletefile=True,maxdist=1500,mindist=4.):\n",
    "    '''\n",
    "    run a mercurius simulation saving to a simulation archive every tout\n",
    "    removing particles if they exceed the maximum distance or go below\n",
    "    the minumum distance\n",
    "    '''\n",
    "    sim.automateSimulationArchive(\"archive.bin\",interval=tout,deletefile=deletefile)\n",
    "    sim.integrator = 'ias15'\n",
    "    sim.dt = 0.0001\n",
    "    #sim.collision = \"direct\"\n",
    "    #sim.ri_mercurius.hillfac = 3.\n",
    "    #sim.collision_resolve = \"merge\"\n",
    "\n",
    "\n",
    "    sim.integrate(tmax)\n",
    "    return sim"
   ]
  },
  {
   "cell_type": "code",
   "execution_count": null,
   "metadata": {},
   "outputs": [],
   "source": [
    "def new_initialize_simulation(planets=['Jupiter','Saturn','Uranus','Neptune'], des='', clones=0):\n",
    "    '''\n",
    "    inputs:\n",
    "        (optional) list of planets - defaults to JSUN\n",
    "        small body designation\n",
    "        (optional) number of clones - defaults to none\n",
    "    outputs:\n",
    "        flag (integer: 0 if failed, 1 if successful)\n",
    "        epoch of the simulation start (JD)\n",
    "        rebound simulation instance with planets and test particles added\n",
    "    '''\n",
    "    \n",
    "    #make all planet names lowercase\n",
    "    planets = [pl.lower() for pl in planets]\n",
    "    #create an array of planets not included in the simulation\n",
    "    #will be used to correct the simulation's barycenter for their absence\n",
    "    notplanets = []\n",
    "\n",
    "\n",
    "    # initialize simulation variable\n",
    "    sim = rebound.Simulation()\n",
    "    sim.units = ('yr', 'AU', 'Msun')\n",
    "\n",
    "    #set up small body variables\n",
    "    ntp = 1 + clones\n",
    "    sbx = np.zeros(ntp)\n",
    "    sby = np.zeros(ntp)\n",
    "    sbz = np.zeros(ntp)\n",
    "    sbvx = np.zeros(ntp)\n",
    "    sbvy = np.zeros(ntp)\n",
    "    sbvz = np.zeros(ntp)\n",
    "\n",
    "    #get the small body's position and velocity\n",
    "    flag, epoch, sbx, sby, sbz, sbvx, sbvy, sbvz = horizons_api.query_sb_from_jpl(des=des,clones=clones)\n",
    "    if(flag<1):\n",
    "        print(\"initialize_simulation failed at horizons_api.query_sb_from_jpl\")\n",
    "        return 0, 0., sim\n",
    "    \n",
    "    #set up massive body variables    \n",
    "    npl = len(planets) + 1 #for the sun\n",
    "\n",
    "    #define the planet-id numbers used by Horizons for the barycenters of each\n",
    "    #major planet in the solar system\n",
    "    planet_id = {1: 'mercury', 2: 'venus', 3:'earth', 4:'mars', 5: 'jupiter', 6:'saturn', 7:'uranus', 8:'neptune'}\n",
    "\n",
    "    #array of GM values queried January 2022\n",
    "    #(there isn't a way to get this from Horizons, so we just have to hard code it)\n",
    "    #values for giant planet systems are from Park et al. 2021 DE440 and DE441, \n",
    "    #https://doi.org/10.3847/1538-3881/abd414\n",
    "    #all in km^3 kg^–1 s^–2\n",
    "    #G = 6.6743015e-20 #in km^3 kg^–1 s^–2\n",
    "    SS_GM = np.zeros(9)\n",
    "    SS_GM[0] = 132712440041.93938 #Sun\n",
    "    SS_GM[1] = 22031.86855 #Mercury\n",
    "    SS_GM[2] = 324858.592 #Venus\n",
    "    SS_GM[3] = 403503.235502 #Earth-Moon\n",
    "    SS_GM[4] = 42828.375214 #Mars\n",
    "    SS_GM[5] = 126712764.10 #Jupiter system\n",
    "    SS_GM[6] = 37940584.8418 #Saturn system\n",
    "    SS_GM[7] = 5794556.4 #Uranus system\n",
    "    SS_GM[8] = 6836527.10058 #Neptune system\n",
    "\n",
    "    #set of reasonable whfast simulation timesteps for each planet\n",
    "    #(1/20 of its orbital period for terrestrial planets, 1/30 for giants)\n",
    "    dt = [0.012,0.03,0.05,0.09,0.4,0.98,2.7,5.4]\n",
    "\n",
    "    #add the mass of any not-included planets to the sun\n",
    "    msun = SS_GM[0]\n",
    "    #start with shortest timestep\n",
    "    sim.dt = dt[0]\n",
    "    for i in range(1,9):\n",
    "        if (not(planet_id[i] in planets )):\n",
    "            msun+=SS_GM[i]\n",
    "            notplanets.append(planet_id[i])\n",
    "            #make the timestep bigger\n",
    "            sim.dt = dt[i]\n",
    "\n",
    "    #sun's augmented mass in solar masses\n",
    "    msun = msun/SS_GM[0]\n",
    "    radius = 695700.*6.68459e-9\n",
    "    sim.add(m=msun,r=radius,x=0.,y=0.,z=0.,vx=0.,vy=0.,vz=0.,hash='sun')\n",
    "\n",
    "\n",
    "    #set the initial correction for the included planets'\n",
    "    #position and velocities to zero\n",
    "    sx = 0.;sy = 0.;sz=0.; svx = 0;svy = 0.;svz = 0.;\n",
    "\n",
    "    #calculate the correction\n",
    "    if(len(notplanets)>0):\n",
    "        #create a temporary simulation to calculate the barycenter of the sun+not\n",
    "        #included planets so their mass can be added to the sun in the \n",
    "        #simulation\n",
    "        tsim = rebound.Simulation()\n",
    "        tsim.units = ('yr', 'AU', 'Msun')\n",
    "        tsim.add(m=1.0,x=0.,y=0.,z=0.,vx=0.,vy=0.,vz=0.)\n",
    "        for pl in notplanets:\n",
    "            flag, mass, radius, [x, y, z], [vx, vy, vz] = horizons_api.query_horizons_planets(obj=pl,epoch=epoch)\n",
    "            if(flag<1):\n",
    "                print(\"initialize_simulation failed at horizons_api.query_horizons_planets for \", pl)\n",
    "                return 0, 0., sim\n",
    "            tsim.add(m=mass,r=radius,x=x,y=y,z=z,vx=vx,vy=vy,vz=vz)\n",
    "        #calculate the barycenter of the sun + missing planets\n",
    "        com = tsim.calculate_com()\n",
    "        #reset the corrections to the positions and velocities\n",
    "        sx = -com.x; sy = -com.y; sz = -com.z; \n",
    "        svx = -com.vx; svy = -com.vy; svz = -com.vz;\n",
    "\n",
    "\n",
    "    #add each included planet to the simulation and correct for the missing planets\n",
    "    for pl in planets:\n",
    "        flag, mass, radius, [x, y, z], [vx, vy, vz] = horizons_api.query_horizons_planets(obj=pl,epoch=epoch)\n",
    "        if(flag<1):\n",
    "            print(\"initialize_simulation failed at horizons_api.query_horizons_planets for \", pl)\n",
    "            return 0, 0., sim\n",
    "        #correct for the missing planets\n",
    "        x+=sx;y+=sy;z+=sz; vx+=svx;vy+=svy;vz+=svz;\n",
    "        sim.add(m=mass,r=radius,x=x,y=y,z=z,vx=vx,vy=vy,vz=vz,hash=rebound.hash(pl))\n",
    "\n",
    "    sim.N_active = npl\n",
    "\n",
    "    if(clones>0):\n",
    "        for i in range(0,ntp):\n",
    "            if(i==0):\n",
    "                sbhash = des + '_bf'\n",
    "            else:\n",
    "                sbhash = str(des) + '_' + str(i)\n",
    "            #correct for the missing planets\n",
    "            sbx[i]+=sx;sby[i]+=sy;sbz[i]+=sz; sbvx[i]+=svx;sbvy[i]+=svy;sbvz[i]+=svz;\n",
    "            sim.add(m=0.,x=sbx[i],y=sby[i],z=sbz[i],vx=sbvx[i],vy=sbvy[i],vz=sbvz[i],hash=sbhash)\n",
    "    else:\n",
    "        sbx+=sx;sby+=sy;sbz+=sz; sbvx+=svx;sbvy+=svy;sbvz+=svz;\n",
    "        sbhash = des + '_bf'\n",
    "        sim.add(m=0.,x=sbx,y=sby,z=sbz,vx=sbvx,vy=sbvy,vz=sbvz,hash=sbhash)\n",
    "\n",
    "    sim.move_to_com()\n",
    "\n",
    "\n",
    "    return 1, epoch, sim\n"
   ]
  },
  {
   "cell_type": "code",
   "execution_count": null,
   "metadata": {},
   "outputs": [],
   "source": []
  },
  {
   "cell_type": "code",
   "execution_count": null,
   "metadata": {},
   "outputs": [],
   "source": []
  }
 ],
 "metadata": {
  "kernelspec": {
   "display_name": "SBDynT",
   "language": "python",
   "name": "sbdynt"
  },
  "language_info": {
   "codemirror_mode": {
    "name": "ipython",
    "version": 3
   },
   "file_extension": ".py",
   "mimetype": "text/x-python",
   "name": "python",
   "nbconvert_exporter": "python",
   "pygments_lexer": "ipython3",
   "version": "3.7.3"
  }
 },
 "nbformat": 4,
 "nbformat_minor": 5
}
