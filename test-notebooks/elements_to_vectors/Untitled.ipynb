{
 "cells": [
  {
   "cell_type": "code",
   "execution_count": 18,
   "metadata": {},
   "outputs": [],
   "source": [
    "import numpy as np\n",
    "import pandas as pd\n",
    "\n",
    "data = pd.read_csv('DEEP_elem.csv',index_col=0)"
   ]
  },
  {
   "cell_type": "code",
   "execution_count": 34,
   "metadata": {},
   "outputs": [
    {
     "ename": "NameError",
     "evalue": "name 'self' is not defined",
     "output_type": "error",
     "traceback": [
      "\u001b[0;31m---------------------------------------------------------------------------\u001b[0m",
      "\u001b[0;31mNameError\u001b[0m                                 Traceback (most recent call last)",
      "\u001b[0;32m/tmp/ipykernel_2183665/304066869.py\u001b[0m in \u001b[0;36m<module>\u001b[0;34m\u001b[0m\n\u001b[1;32m      1\u001b[0m \u001b[0;32mimport\u001b[0m \u001b[0morb_to_vec\u001b[0m \u001b[0;32mas\u001b[0m \u001b[0motv\u001b[0m\u001b[0;34m\u001b[0m\u001b[0;34m\u001b[0m\u001b[0m\n\u001b[1;32m      2\u001b[0m \u001b[0;34m\u001b[0m\u001b[0m\n\u001b[0;32m----> 3\u001b[0;31m \u001b[0mconv\u001b[0m \u001b[0;34m=\u001b[0m \u001b[0motv\u001b[0m\u001b[0;34m.\u001b[0m\u001b[0morbitalElements\u001b[0m\u001b[0;34m(\u001b[0m\u001b[0ma\u001b[0m \u001b[0;34m=\u001b[0m \u001b[0;36m10\u001b[0m\u001b[0;34m,\u001b[0m \u001b[0mi\u001b[0m \u001b[0;34m=\u001b[0m \u001b[0;36m10\u001b[0m\u001b[0;34m,\u001b[0m \u001b[0me\u001b[0m \u001b[0;34m=\u001b[0m \u001b[0;36m10\u001b[0m\u001b[0;34m,\u001b[0m \u001b[0mlongascend\u001b[0m \u001b[0;34m=\u001b[0m \u001b[0;36m10\u001b[0m\u001b[0;34m,\u001b[0m \u001b[0mtrueanom\u001b[0m \u001b[0;34m=\u001b[0m \u001b[0;36m10\u001b[0m\u001b[0;34m,\u001b[0m \u001b[0margper\u001b[0m \u001b[0;34m=\u001b[0m \u001b[0;36m10\u001b[0m\u001b[0;34m,\u001b[0m \u001b[0mG\u001b[0m \u001b[0;34m=\u001b[0m \u001b[0mself\u001b[0m\u001b[0;34m.\u001b[0m\u001b[0mG\u001b[0m\u001b[0;34m)\u001b[0m\u001b[0;34m\u001b[0m\u001b[0;34m\u001b[0m\u001b[0m\n\u001b[0m\u001b[1;32m      4\u001b[0m \u001b[0;34m\u001b[0m\u001b[0m\n\u001b[1;32m      5\u001b[0m \u001b[0mconv\u001b[0m\u001b[0;34m.\u001b[0m\u001b[0ma\u001b[0m \u001b[0;34m=\u001b[0m \u001b[0;36m10\u001b[0m\u001b[0;34m\u001b[0m\u001b[0;34m\u001b[0m\u001b[0m\n",
      "\u001b[0;31mNameError\u001b[0m: name 'self' is not defined"
     ]
    }
   ],
   "source": [
    "import orb_to_vec as otv\n",
    "\n",
    "conv = otv.orbitalElements(a = 10, i = 10, e = 10, longascend = 10, trueanom = 10, argper = 10, G = self.G)\n",
    "\n",
    "conv.a = 10\n",
    "conv.i = 10\n",
    "conv.e = 10\n",
    "conv.longascend = 10 \n",
    "conv.argper = 10\n",
    "conv.trueanom = 10\n",
    "print(conv.calcVectorFromOrbit())"
   ]
  },
  {
   "cell_type": "code",
   "execution_count": 22,
   "metadata": {},
   "outputs": [],
   "source": [
    "import horizons_api\n",
    "vals = np.zeros((1,8))\n",
    "plan_vals = np.zeros((1,64))\n",
    "epoch = data['epoch'][0]\n",
    "plan_cols = []\n",
    "\n",
    "for i in range(8):\n",
    "   plan_cols.append('mass_'+str(i+1))\n",
    "   plan_cols.append('radius_'+str(i+1))\n",
    "   plan_cols.append('x_'+str(i+1))\n",
    "   plan_cols.append('y_'+str(i+1))\n",
    "   plan_cols.append('z_'+str(i+1))\n",
    "   plan_cols.append('vx_'+str(i+1))\n",
    "   plan_cols.append('vy_'+str(i+1))\n",
    "   plan_cols.append('vz_'+str(i+1))\n",
    "    \n",
    "horizon_planets = pd.DataFrame(plan_vals, columns=plan_cols)\n",
    "planet_id = {1: 'mercury', 2: 'venus', 3:'earth', 4:'mars', 5: 'jupiter', 6 : 'saturn', 7 : 'uranus', 8 : 'neptune'}\n",
    "    \n",
    "notplanets = [1,2,3,4]\n",
    "planets = [5,6,7,8]\n",
    "                    \n",
    "for pl in notplanets:\n",
    "    flag, mass, radius, [x, y, z], [vx, vy, vz] = horizons_api.query_horizons_planets(obj=planet_id[pl],epoch=epoch)\n",
    "    horizon_planets['mass_'+str(pl)] = mass\n",
    "    horizon_planets['radius_'+str(pl)] = radius\n",
    "    horizon_planets['x_'+str(pl)] = x\n",
    "    horizon_planets['y_'+str(pl)] = y\n",
    "    horizon_planets['z_'+str(pl)] = z\n",
    "    horizon_planets['vx_'+str(pl)] = vx\n",
    "    horizon_planets['vy_'+str(pl)] = vy\n",
    "    horizon_planets['vz_'+str(pl)] = vz\n",
    "    \n",
    "for pl in planets:\n",
    "    flag, mass, radius, [x, y, z], [vx, vy, vz] = horizons_api.query_horizons_planets(obj=planet_id[pl], epoch=epoch)\n",
    "    horizon_planets['mass_'+str(pl)] = mass\n",
    "    horizon_planets['radius_'+str(pl)] = radius\n",
    "    horizon_planets['x_'+str(pl)] = x\n",
    "    horizon_planets['y_'+str(pl)] = y\n",
    "    horizon_planets['z_'+str(pl)] = z\n",
    "    horizon_planets['vx_'+str(pl)] = vx\n",
    "    horizon_planets['vy_'+str(pl)] = vy\n",
    "    horizon_planets['vz_'+str(pl)] = vz\n",
    "    \n",
    "horizon_planets.to_csv('horizon_planets.csv')\n",
    "        "
   ]
  },
  {
   "cell_type": "code",
   "execution_count": null,
   "metadata": {},
   "outputs": [],
   "source": []
  }
 ],
 "metadata": {
  "kernelspec": {
   "display_name": "SBDynT",
   "language": "python",
   "name": "sbdynt"
  },
  "language_info": {
   "codemirror_mode": {
    "name": "ipython",
    "version": 3
   },
   "file_extension": ".py",
   "mimetype": "text/x-python",
   "name": "python",
   "nbconvert_exporter": "python",
   "pygments_lexer": "ipython3",
   "version": "3.7.3"
  }
 },
 "nbformat": 4,
 "nbformat_minor": 4
}
