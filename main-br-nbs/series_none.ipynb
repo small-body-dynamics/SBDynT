{
 "cells": [
  {
   "cell_type": "code",
   "execution_count": 2,
   "metadata": {},
   "outputs": [
    {
     "name": "stdout",
     "output_type": "stream",
     "text": [
      "2159999.999984023\n",
      "199800000.1333912\n"
     ]
    }
   ],
   "source": [
    "import pandas as pd\n",
    "import numpy as np\n",
    "import rebound\n",
    "import tools\n",
    "\n",
    "a = np.zeros(1);e = np.zeros(1);inc = np.zeros(1);phi = np.zeros(1)\n",
    "t = np.zeros(1);\n",
    "\n",
    "r2d = 180/np.pi\n",
    "objname = '2004PY107_none'\n",
    "sbody = '2004 PY107'\n",
    "#filename = \"Asteroids/\"+objname\n",
    "filename = \"TNOs/\"+objname\n",
    "sa = rebound.SimulationArchive(filename+'/archive.bin')\n",
    "print(sa.tmin)\n",
    "print(sa.tmax)\n",
    "\n",
    "planets = []\n",
    "\n",
    "a = np.zeros(len(sa));\n",
    "e = np.zeros(len(sa));\n",
    "inc = np.zeros(len(sa));\n",
    "qp = np.zeros(len(sa),dtype=complex);\n",
    "ptp = np.zeros(len(sa));\n",
    "qtp = np.zeros(len(sa));\n",
    "kh = np.zeros(len(sa),dtype=complex);\n",
    "#k = np.zeros(len(sa));\n",
    "t = np.zeros(len(sa));\n",
    "npl = 0\n",
    "\n",
    "qppl = np.asfortranarray(np.zeros(shape=[len(sa),npl],dtype=complex));\n",
    "#qpl = np.asfortranarray(np.zeros(shape=[len(sa),npl]));\n",
    "khpl = np.asfortranarray(np.zeros(shape=[len(sa),npl],dtype=complex));\n",
    "#kpl = np.asfortranarray(np.zeros(shape=[len(sa),npl]));\n",
    "\n",
    "hpl = np.zeros((len(sa),npl))\n",
    "kpl = np.zeros((len(sa),npl))\n",
    "ppl = np.zeros((len(sa),npl))\n",
    "qpl = np.zeros((len(sa),npl))\n",
    "\n",
    "hpart = np.zeros(len(sa))\n",
    "kpart = np.zeros(len(sa))\n",
    "ppart = np.zeros(len(sa))\n",
    "qpart = np.zeros(len(sa))\n",
    "\n",
    "for j,sim in enumerate(sa):\n",
    "    tp = sim.particles[sbody+\"_bf\"]\n",
    "    com = sim.calculate_com()\n",
    "    o = tp.calculate_orbit(com)\n",
    "    t[j] = sim.t\n",
    "    a[j] = o.a\n",
    "    p = np.sin(o.inc)*np.sin(o.Omega)\n",
    "    q = np.sin(o.inc)*np.cos(o.Omega)\n",
    "    ptp[j] = p\n",
    "    qtp[j] = q\n",
    "    qp[j] = 1j*p + q\n",
    "    h = (o.e)*np.sin(o.Omega+o.omega)\n",
    "    k = (o.e)*np.cos(o.Omega+o.omega)\n",
    "    \n",
    "    hpart[j] = h\n",
    "    kpart[j] = k\n",
    "    ppart[j] = p\n",
    "    qpart[j] = q\n",
    "    \n",
    "    kh[j] = 1j*k + h\n",
    "    \n",
    "    e[j] = o.e\n",
    "    inc[j] = o.inc*180/np.pi\n",
    "    #print(sim.particles[1].inc)\n"
   ]
  },
  {
   "cell_type": "code",
   "execution_count": 3,
   "metadata": {},
   "outputs": [
    {
     "name": "stdout",
     "output_type": "stream",
     "text": [
      "184 0\n"
     ]
    }
   ],
   "source": [
    "series = pd.DataFrame(columns=['t','a','ecc','inc','p','q','h','k'])\n",
    "\n",
    "print(len(hpl),len(hpl[0,:]))\n",
    "series['t'] = t\n",
    "series['a'] = a\n",
    "series['e'] = e\n",
    "series['inc'] = inc\n",
    "series['p'] = ppart\n",
    "series['q'] = qpart\n",
    "series['h'] = hpart\n",
    "series['k'] = kpart\n",
    "\n",
    "\n",
    "series.to_csv(filename+'/series.csv')"
   ]
  },
  {
   "cell_type": "code",
   "execution_count": null,
   "metadata": {},
   "outputs": [],
   "source": []
  }
 ],
 "metadata": {
  "kernelspec": {
   "display_name": "SBDynT",
   "language": "python",
   "name": "sbdynt"
  },
  "language_info": {
   "codemirror_mode": {
    "name": "ipython",
    "version": 3
   },
   "file_extension": ".py",
   "mimetype": "text/x-python",
   "name": "python",
   "nbconvert_exporter": "python",
   "pygments_lexer": "ipython3",
   "version": "3.7.3"
  }
 },
 "nbformat": 4,
 "nbformat_minor": 4
}
