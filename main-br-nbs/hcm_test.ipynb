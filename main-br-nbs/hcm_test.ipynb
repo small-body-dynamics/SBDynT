{
 "cells": [
  {
   "cell_type": "code",
   "execution_count": null,
   "metadata": {},
   "outputs": [],
   "source": [
    "import numpy as np\n",
    "import pandas as pd\n",
    "import matplotlib.pyplot as plt\n",
    "\n",
    "\n",
    "prop_elem = pd.read_csv('AstFam_families_prop_elem.csv')\n",
    "\n",
    "k1 = 5/4\n",
    "k2 = 2\n",
    "k3 = 2\n",
    "\n",
    "for i in range(len(prop_elem)):\n",
    "    a = \n",
    "    hcm_d = n*a*np.sqrt(k1*(da/a)**2+k2*de**2+k3*di**2)"
   ]
  }
 ],
 "metadata": {
  "kernelspec": {
   "display_name": "SBDynT",
   "language": "python",
   "name": "sbdynt"
  },
  "language_info": {
   "codemirror_mode": {
    "name": "ipython",
    "version": 3
   },
   "file_extension": ".py",
   "mimetype": "text/x-python",
   "name": "python",
   "nbconvert_exporter": "python",
   "pygments_lexer": "ipython3",
   "version": "3.7.3"
  }
 },
 "nbformat": 4,
 "nbformat_minor": 4
}
