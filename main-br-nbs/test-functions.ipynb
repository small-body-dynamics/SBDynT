{
 "cells": [
  {
   "cell_type": "code",
   "execution_count": 1,
   "metadata": {},
   "outputs": [],
   "source": [
    "import sys\n",
    "sys.path.insert(0, '/Users/kvolk/Documents/GitHub/SBDynT/src')\n",
    "sys.path.insert(0, '../src')\n",
    "import run_reb\n",
    "import rebound\n",
    "import numpy as np\n",
    "import horizons_api\n",
    "import tools\n",
    "\n",
    "\n"
   ]
  },
  {
   "cell_type": "code",
   "execution_count": 2,
   "metadata": {},
   "outputs": [
    {
     "data": {
      "text/plain": [
       "(1,\n",
       " 2457019.5,\n",
       " 20.608044425294043,\n",
       " 24.46023267047783,\n",
       " -0.43401061748237785,\n",
       " -0.8946950688262664,\n",
       " 0.8022771544245898,\n",
       " -0.15424196522623565)"
      ]
     },
     "execution_count": 2,
     "metadata": {},
     "output_type": "execute_result"
    }
   ],
   "source": [
    "horizons_api.query_sb_from_jpl(des='K14X40T',clones=0)"
   ]
  },
  {
   "cell_type": "code",
   "execution_count": 23,
   "metadata": {},
   "outputs": [
    {
     "name": "stdout",
     "output_type": "stream",
     "text": [
      "JPL small body database browser query did not return the expected data\n",
      "0\n",
      "2009 KL30\n",
      "initialize_simulation failed at horizons_api.query_sb_from_jpl\n"
     ]
    },
    {
     "ename": "ParticleNotFound",
     "evalue": "Particle was not found in the simulation.",
     "output_type": "error",
     "traceback": [
      "\u001b[0;31m---------------------------------------------------------------------------\u001b[0m",
      "\u001b[0;31mParticleNotFound\u001b[0m                          Traceback (most recent call last)",
      "\u001b[0;32m/tmp/ipykernel_412349/768252609.py\u001b[0m in \u001b[0;36m<module>\u001b[0;34m\u001b[0m\n\u001b[1;32m      9\u001b[0m \u001b[0;34m\u001b[0m\u001b[0m\n\u001b[1;32m     10\u001b[0m \u001b[0;34m\u001b[0m\u001b[0m\n\u001b[0;32m---> 11\u001b[0;31m \u001b[0mp\u001b[0m \u001b[0;34m=\u001b[0m \u001b[0msim\u001b[0m\u001b[0;34m.\u001b[0m\u001b[0mparticles\u001b[0m\u001b[0;34m[\u001b[0m\u001b[0msbody\u001b[0m\u001b[0;34m+\u001b[0m\u001b[0;34m\"_bf\"\u001b[0m\u001b[0;34m]\u001b[0m\u001b[0;34m\u001b[0m\u001b[0;34m\u001b[0m\u001b[0m\n\u001b[0m\u001b[1;32m     12\u001b[0m \u001b[0mo\u001b[0m \u001b[0;34m=\u001b[0m \u001b[0mp\u001b[0m\u001b[0;34m.\u001b[0m\u001b[0mcalculate_orbit\u001b[0m\u001b[0;34m(\u001b[0m\u001b[0mcom\u001b[0m\u001b[0;34m)\u001b[0m\u001b[0;34m\u001b[0m\u001b[0;34m\u001b[0m\u001b[0m\n\u001b[1;32m     13\u001b[0m \u001b[0mr2d\u001b[0m \u001b[0;34m=\u001b[0m \u001b[0;36m180.\u001b[0m\u001b[0;34m/\u001b[0m\u001b[0mnp\u001b[0m\u001b[0;34m.\u001b[0m\u001b[0mpi\u001b[0m\u001b[0;34m\u001b[0m\u001b[0;34m\u001b[0m\u001b[0m\n",
      "\u001b[0;32m~/.SBDynT/lib/python3.7/site-packages/rebound/simulation.py\u001b[0m in \u001b[0;36m__getitem__\u001b[0;34m(self, key)\u001b[0m\n\u001b[1;32m   2321\u001b[0m                 \u001b[0;32mreturn\u001b[0m \u001b[0mp\u001b[0m\u001b[0;34m.\u001b[0m\u001b[0mfrom_address\u001b[0m\u001b[0;34m(\u001b[0m\u001b[0mctypes\u001b[0m\u001b[0;34m.\u001b[0m\u001b[0maddressof\u001b[0m\u001b[0;34m(\u001b[0m\u001b[0mptr\u001b[0m\u001b[0;34m.\u001b[0m\u001b[0mcontents\u001b[0m\u001b[0;34m)\u001b[0m\u001b[0;34m)\u001b[0m\u001b[0;34m\u001b[0m\u001b[0;34m\u001b[0m\u001b[0m\n\u001b[1;32m   2322\u001b[0m             \u001b[0;32melse\u001b[0m\u001b[0;34m:\u001b[0m\u001b[0;34m\u001b[0m\u001b[0;34m\u001b[0m\u001b[0m\n\u001b[0;32m-> 2323\u001b[0;31m                 \u001b[0;32mraise\u001b[0m \u001b[0mParticleNotFound\u001b[0m\u001b[0;34m(\u001b[0m\u001b[0;34m\"Particle was not found in the simulation.\"\u001b[0m\u001b[0;34m)\u001b[0m\u001b[0;34m\u001b[0m\u001b[0;34m\u001b[0m\u001b[0m\n\u001b[0m\u001b[1;32m   2324\u001b[0m \u001b[0;34m\u001b[0m\u001b[0m\n\u001b[1;32m   2325\u001b[0m     \u001b[0;32mdef\u001b[0m \u001b[0m__setitem__\u001b[0m\u001b[0;34m(\u001b[0m\u001b[0mself\u001b[0m\u001b[0;34m,\u001b[0m \u001b[0mkey\u001b[0m\u001b[0;34m,\u001b[0m \u001b[0mvalue\u001b[0m\u001b[0;34m)\u001b[0m\u001b[0;34m:\u001b[0m\u001b[0;34m\u001b[0m\u001b[0;34m\u001b[0m\u001b[0m\n",
      "\u001b[0;31mParticleNotFound\u001b[0m: Particle was not found in the simulation."
     ]
    }
   ],
   "source": [
    "sbody = '2009 KL30'\n",
    "objname = '2008tc3'\n",
    "filename = 'TNOs/'+objname\n",
    "sim= rebound.Simulation()\n",
    "flag, epoch, sim = run_reb.initialize_simulation(planets=['jupiter','saturn','uranus','neptune'],des=sbody,clones=0)\n",
    "#sim.status()\n",
    "#print(epoch)\n",
    "com = sim.calculate_com()\n",
    "\n",
    "\n",
    "p = sim.particles[sbody+\"_bf\"]\n",
    "o = p.calculate_orbit(com)\n",
    "r2d = 180./np.pi\n",
    "print(\"%20.15E\\t%20.15E\\t%20.15E\\t%20.15E\\t%20.15E\\t%20.15E\\n\" % (o.a,o.e,o.inc*r2d, o.Omega*r2d,o.omega*r2d,r2d*o.M))"
   ]
  },
  {
   "cell_type": "code",
   "execution_count": 16,
   "metadata": {},
   "outputs": [
    {
     "name": "stdout",
     "output_type": "stream",
     "text": [
      "Starting Integration\n",
      "Simulation integration finished in  0:00:06.107796  seconds.\n"
     ]
    }
   ],
   "source": [
    "tmax = 1e6\n",
    "tout = 1e2\n",
    "\n",
    "sim = run_reb.run_simulation(sim, tmax=tmax, tout=tout,filename=filename+\"/archive.bin\",deletefile=True,mindist=20.)"
   ]
  },
  {
   "cell_type": "code",
   "execution_count": 17,
   "metadata": {},
   "outputs": [
    {
     "name": "stdout",
     "output_type": "stream",
     "text": [
      "0.0\n",
      "1000000.0\n",
      "[0.000e+00 1.000e+02 2.000e+02 ... 9.998e+05 9.999e+05 1.000e+06]\n"
     ]
    },
    {
     "data": {
      "text/plain": [
       "[<matplotlib.lines.Line2D at 0x7fb2ef92a940>]"
      ]
     },
     "execution_count": 17,
     "metadata": {},
     "output_type": "execute_result"
    },
    {
     "data": {
      "image/png": "[encoded data removed]",
      "text/plain": [
       "<Figure size 432x288 with 1 Axes>"
      ]
     },
     "metadata": {
      "needs_background": "light"
     },
     "output_type": "display_data"
    }
   ],
   "source": [
    "a = np.zeros(1);e = np.zeros(1);inc = np.zeros(1);phi = np.zeros(1)\n",
    "t = np.zeros(1);\n",
    "sa = rebound.SimulationArchive(filename+'/archive.bin')\n",
    "print(sa.tmin)\n",
    "print(sa.tmax)\n",
    "for i,sim in enumerate(sa):\n",
    "    p = sim.particles[sbody+\"_bf\"]\n",
    "    n = sim.particles['neptune']\n",
    "    com = sim.calculate_com()\n",
    "    o = p.calculate_orbit(com)\n",
    "    on = n.calculate_orbit(com)\n",
    "\n",
    "\n",
    "    t = np.append(t, sim.t)\n",
    "    a = np.append(a, o.a)\n",
    "    e = np.append(e, o.e)\n",
    "    inc = np.append(inc, o.inc*r2d)\n",
    "    lamda = o.Omega+o.omega+o.M\n",
    "    lamdan = on.Omega+on.omega+on.M\n",
    "    pt = 3*lamda - 2*lamdan - (o.Omega+o.omega)\n",
    "    pt = tools.mod2pi(pt)\n",
    "    phi = np.append(phi,pt)\n",
    "    \n",
    "t = np.delete(t,0)\n",
    "a= np.delete(a,0)\n",
    "e = np.delete(e,0)\n",
    "inc = np.delete(inc,0)\n",
    "\n",
    "phi = np.delete(phi,0)\n",
    "\n",
    "print(t)\n",
    "\n",
    "import matplotlib.pyplot as plt\n",
    "%matplotlib inline\n",
    "plt.ylim([0,360])\n",
    "plt.plot(t,phi*180/np.pi)"
   ]
  },
  {
   "cell_type": "code",
   "execution_count": null,
   "metadata": {},
   "outputs": [],
   "source": []
  },
  {
   "cell_type": "code",
   "execution_count": null,
   "metadata": {},
   "outputs": [],
   "source": [
    "def new_run_simulation(sim, tmax=0, tout=0,filename=\"archive.bin\",deletefile=True,maxdist=1500,mindist=4.):\n",
    "    '''\n",
    "    run a mercurius simulation saving to a simulation archive every tout\n",
    "    removing particles if they exceed the maximum distance or go below\n",
    "    the minumum distance\n",
    "    '''\n",
    "    sim.automateSimulationArchive(\"archive.bin\",interval=tout,deletefile=deletefile)\n",
    "    sim.integrator = 'ias15'\n",
    "    sim.dt = 0.0001\n",
    "    #sim.collision = \"direct\"\n",
    "    #sim.ri_mercurius.hillfac = 3.\n",
    "    #sim.collision_resolve = \"merge\"\n",
    "\n",
    "\n",
    "    sim.integrate(tmax)\n",
    "    return sim"
   ]
  },
  {
   "cell_type": "code",
   "execution_count": null,
   "metadata": {},
   "outputs": [],
   "source": [
    "def new_initialize_simulation(planets=['Jupiter','Saturn','Uranus','Neptune'], des='', clones=0):\n",
    "    '''\n",
    "    inputs:\n",
    "        (optional) list of planets - defaults to JSUN\n",
    "        small body designation\n",
    "        (optional) number of clones - defaults to none\n",
    "    outputs:\n",
    "        flag (integer: 0 if failed, 1 if successful)\n",
    "        epoch of the simulation start (JD)\n",
    "        rebound simulation instance with planets and test particles added\n",
    "    '''\n",
    "    \n",
    "    #make all planet names lowercase\n",
    "    planets = [pl.lower() for pl in planets]\n",
    "    #create an array of planets not included in the simulation\n",
    "    #will be used to correct the simulation's barycenter for their absence\n",
    "    notplanets = []\n",
    "\n",
    "\n",
    "    # initialize simulation variable\n",
    "    sim = rebound.Simulation()\n",
    "    sim.units = ('yr', 'AU', 'Msun')\n",
    "\n",
    "    #set up small body variables\n",
    "    ntp = 1 + clones\n",
    "    sbx = np.zeros(ntp)\n",
    "    sby = np.zeros(ntp)\n",
    "    sbz = np.zeros(ntp)\n",
    "    sbvx = np.zeros(ntp)\n",
    "    sbvy = np.zeros(ntp)\n",
    "    sbvz = np.zeros(ntp)\n",
    "\n",
    "    #get the small body's position and velocity\n",
    "    flag, epoch, sbx, sby, sbz, sbvx, sbvy, sbvz = horizons_api.query_sb_from_jpl(des=des,clones=clones)\n",
    "    if(flag<1):\n",
    "        print(\"initialize_simulation failed at horizons_api.query_sb_from_jpl\")\n",
    "        return 0, 0., sim\n",
    "    \n",
    "    #set up massive body variables    \n",
    "    npl = len(planets) + 1 #for the sun\n",
    "\n",
    "    #define the planet-id numbers used by Horizons for the barycenters of each\n",
    "    #major planet in the solar system\n",
    "    planet_id = {1: 'mercury', 2: 'venus', 3:'earth', 4:'mars', 5: 'jupiter', 6:'saturn', 7:'uranus', 8:'neptune'}\n",
    "\n",
    "    #array of GM values queried January 2022\n",
    "    #(there isn't a way to get this from Horizons, so we just have to hard code it)\n",
    "    #values for giant planet systems are from Park et al. 2021 DE440 and DE441, \n",
    "    #https://doi.org/10.3847/1538-3881/abd414\n",
    "    #all in km^3 kg^–1 s^–2\n",
    "    #G = 6.6743015e-20 #in km^3 kg^–1 s^–2\n",
    "    SS_GM = np.zeros(9)\n",
    "    SS_GM[0] = 132712440041.93938 #Sun\n",
    "    SS_GM[1] = 22031.86855 #Mercury\n",
    "    SS_GM[2] = 324858.592 #Venus\n",
    "    SS_GM[3] = 403503.235502 #Earth-Moon\n",
    "    SS_GM[4] = 42828.375214 #Mars\n",
    "    SS_GM[5] = 126712764.10 #Jupiter system\n",
    "    SS_GM[6] = 37940584.8418 #Saturn system\n",
    "    SS_GM[7] = 5794556.4 #Uranus system\n",
    "    SS_GM[8] = 6836527.10058 #Neptune system\n",
    "\n",
    "    #set of reasonable whfast simulation timesteps for each planet\n",
    "    #(1/20 of its orbital period for terrestrial planets, 1/30 for giants)\n",
    "    dt = [0.012,0.03,0.05,0.09,0.4,0.98,2.7,5.4]\n",
    "\n",
    "    #add the mass of any not-included planets to the sun\n",
    "    msun = SS_GM[0]\n",
    "    #start with shortest timestep\n",
    "    sim.dt = dt[0]\n",
    "    for i in range(1,9):\n",
    "        if (not(planet_id[i] in planets )):\n",
    "            msun+=SS_GM[i]\n",
    "            notplanets.append(planet_id[i])\n",
    "            #make the timestep bigger\n",
    "            sim.dt = dt[i]\n",
    "\n",
    "    #sun's augmented mass in solar masses\n",
    "    msun = msun/SS_GM[0]\n",
    "    radius = 695700.*6.68459e-9\n",
    "    sim.add(m=msun,r=radius,x=0.,y=0.,z=0.,vx=0.,vy=0.,vz=0.,hash='sun')\n",
    "\n",
    "\n",
    "    #set the initial correction for the included planets'\n",
    "    #position and velocities to zero\n",
    "    sx = 0.;sy = 0.;sz=0.; svx = 0;svy = 0.;svz = 0.;\n",
    "\n",
    "    #calculate the correction\n",
    "    if(len(notplanets)>0):\n",
    "        #create a temporary simulation to calculate the barycenter of the sun+not\n",
    "        #included planets so their mass can be added to the sun in the \n",
    "        #simulation\n",
    "        tsim = rebound.Simulation()\n",
    "        tsim.units = ('yr', 'AU', 'Msun')\n",
    "        tsim.add(m=1.0,x=0.,y=0.,z=0.,vx=0.,vy=0.,vz=0.)\n",
    "        for pl in notplanets:\n",
    "            flag, mass, radius, [x, y, z], [vx, vy, vz] = horizons_api.query_horizons_planets(obj=pl,epoch=epoch)\n",
    "            if(flag<1):\n",
    "                print(\"initialize_simulation failed at horizons_api.query_horizons_planets for \", pl)\n",
    "                return 0, 0., sim\n",
    "            tsim.add(m=mass,r=radius,x=x,y=y,z=z,vx=vx,vy=vy,vz=vz)\n",
    "        #calculate the barycenter of the sun + missing planets\n",
    "        com = tsim.calculate_com()\n",
    "        #reset the corrections to the positions and velocities\n",
    "        sx = -com.x; sy = -com.y; sz = -com.z; \n",
    "        svx = -com.vx; svy = -com.vy; svz = -com.vz;\n",
    "\n",
    "\n",
    "    #add each included planet to the simulation and correct for the missing planets\n",
    "    for pl in planets:\n",
    "        flag, mass, radius, [x, y, z], [vx, vy, vz] = horizons_api.query_horizons_planets(obj=pl,epoch=epoch)\n",
    "        if(flag<1):\n",
    "            print(\"initialize_simulation failed at horizons_api.query_horizons_planets for \", pl)\n",
    "            return 0, 0., sim\n",
    "        #correct for the missing planets\n",
    "        x+=sx;y+=sy;z+=sz; vx+=svx;vy+=svy;vz+=svz;\n",
    "        sim.add(m=mass,r=radius,x=x,y=y,z=z,vx=vx,vy=vy,vz=vz,hash=rebound.hash(pl))\n",
    "\n",
    "    sim.N_active = npl\n",
    "\n",
    "    if(clones>0):\n",
    "        for i in range(0,ntp):\n",
    "            if(i==0):\n",
    "                sbhash = des + '_bf'\n",
    "            else:\n",
    "                sbhash = str(des) + '_' + str(i)\n",
    "            #correct for the missing planets\n",
    "            sbx[i]+=sx;sby[i]+=sy;sbz[i]+=sz; sbvx[i]+=svx;sbvy[i]+=svy;sbvz[i]+=svz;\n",
    "            sim.add(m=0.,x=sbx[i],y=sby[i],z=sbz[i],vx=sbvx[i],vy=sbvy[i],vz=sbvz[i],hash=sbhash)\n",
    "    else:\n",
    "        sbx+=sx;sby+=sy;sbz+=sz; sbvx+=svx;sbvy+=svy;sbvz+=svz;\n",
    "        sbhash = des + '_bf'\n",
    "        sim.add(m=0.,x=sbx,y=sby,z=sbz,vx=sbvx,vy=sbvy,vz=sbvz,hash=sbhash)\n",
    "\n",
    "    sim.move_to_com()\n",
    "\n",
    "\n",
    "    return 1, epoch, sim\n"
   ]
  },
  {
   "cell_type": "code",
   "execution_count": null,
   "metadata": {},
   "outputs": [],
   "source": []
  },
  {
   "cell_type": "code",
   "execution_count": null,
   "metadata": {},
   "outputs": [],
   "source": []
  }
 ],
 "metadata": {
  "kernelspec": {
   "display_name": "SBDynT",
   "language": "python",
   "name": "sbdynt"
  },
  "language_info": {
   "codemirror_mode": {
    "name": "ipython",
    "version": 3
   },
   "file_extension": ".py",
   "mimetype": "text/x-python",
   "name": "python",
   "nbconvert_exporter": "python",
   "pygments_lexer": "ipython3",
   "version": "3.7.3"
  }
 },
 "nbformat": 4,
 "nbformat_minor": 5
}
