{
 "cells": [
  {
   "cell_type": "code",
   "execution_count": 2,
   "metadata": {},
   "outputs": [],
   "source": [
    "import numpy as np\n",
    "import pandas as pd\n",
    "import matplotlib.pyplot as plt"
   ]
  },
  {
   "cell_type": "code",
   "execution_count": 27,
   "metadata": {},
   "outputs": [
    {
     "ename": "KeyError",
     "evalue": "'sma'",
     "output_type": "error",
     "traceback": [
      "\u001b[0;31m---------------------------------------------------------------------------\u001b[0m",
      "\u001b[0;31mKeyError\u001b[0m                                  Traceback (most recent call last)",
      "\u001b[0;32m~/.SBDynT/lib/python3.7/site-packages/pandas/core/indexes/base.py\u001b[0m in \u001b[0;36mget_loc\u001b[0;34m(self, key, method, tolerance)\u001b[0m\n\u001b[1;32m   3360\u001b[0m             \u001b[0;32mtry\u001b[0m\u001b[0;34m:\u001b[0m\u001b[0;34m\u001b[0m\u001b[0;34m\u001b[0m\u001b[0m\n\u001b[0;32m-> 3361\u001b[0;31m                 \u001b[0;32mreturn\u001b[0m \u001b[0mself\u001b[0m\u001b[0;34m.\u001b[0m\u001b[0m_engine\u001b[0m\u001b[0;34m.\u001b[0m\u001b[0mget_loc\u001b[0m\u001b[0;34m(\u001b[0m\u001b[0mcasted_key\u001b[0m\u001b[0;34m)\u001b[0m\u001b[0;34m\u001b[0m\u001b[0;34m\u001b[0m\u001b[0m\n\u001b[0m\u001b[1;32m   3362\u001b[0m             \u001b[0;32mexcept\u001b[0m \u001b[0mKeyError\u001b[0m \u001b[0;32mas\u001b[0m \u001b[0merr\u001b[0m\u001b[0;34m:\u001b[0m\u001b[0;34m\u001b[0m\u001b[0;34m\u001b[0m\u001b[0m\n",
      "\u001b[0;32m~/.SBDynT/lib/python3.7/site-packages/pandas/_libs/index.pyx\u001b[0m in \u001b[0;36mpandas._libs.index.IndexEngine.get_loc\u001b[0;34m()\u001b[0m\n",
      "\u001b[0;32m~/.SBDynT/lib/python3.7/site-packages/pandas/_libs/index.pyx\u001b[0m in \u001b[0;36mpandas._libs.index.IndexEngine.get_loc\u001b[0;34m()\u001b[0m\n",
      "\u001b[0;32mpandas/_libs/hashtable_class_helper.pxi\u001b[0m in \u001b[0;36mpandas._libs.hashtable.PyObjectHashTable.get_item\u001b[0;34m()\u001b[0m\n",
      "\u001b[0;32mpandas/_libs/hashtable_class_helper.pxi\u001b[0m in \u001b[0;36mpandas._libs.hashtable.PyObjectHashTable.get_item\u001b[0;34m()\u001b[0m\n",
      "\u001b[0;31mKeyError\u001b[0m: 'sma'",
      "\nThe above exception was the direct cause of the following exception:\n",
      "\u001b[0;31mKeyError\u001b[0m                                  Traceback (most recent call last)",
      "\u001b[0;32m/tmp/ipykernel_347569/2696797444.py\u001b[0m in \u001b[0;36m<module>\u001b[0;34m\u001b[0m\n\u001b[1;32m     69\u001b[0m \u001b[0;34m\u001b[0m\u001b[0m\n\u001b[1;32m     70\u001b[0m \u001b[0mres\u001b[0m \u001b[0;34m=\u001b[0m \u001b[0mnp\u001b[0m\u001b[0;34m.\u001b[0m\u001b[0mzeros\u001b[0m\u001b[0;34m(\u001b[0m\u001b[0mlen\u001b[0m\u001b[0;34m(\u001b[0m\u001b[0mprop_elem\u001b[0m\u001b[0;34m)\u001b[0m\u001b[0;34m)\u001b[0m\u001b[0;34m\u001b[0m\u001b[0;34m\u001b[0m\u001b[0m\n\u001b[0;32m---> 71\u001b[0;31m \u001b[0mres31up\u001b[0m \u001b[0;34m=\u001b[0m \u001b[0mnp\u001b[0m\u001b[0;34m.\u001b[0m\u001b[0mwhere\u001b[0m\u001b[0;34m(\u001b[0m\u001b[0mprop_elem\u001b[0m\u001b[0;34m[\u001b[0m\u001b[0;34m'sma'\u001b[0m\u001b[0;34m]\u001b[0m \u001b[0;34m<\u001b[0m \u001b[0;36m2.55\u001b[0m\u001b[0;34m)\u001b[0m\u001b[0;34m\u001b[0m\u001b[0;34m\u001b[0m\u001b[0m\n\u001b[0m\u001b[1;32m     72\u001b[0m \u001b[0mres21up\u001b[0m \u001b[0;34m=\u001b[0m \u001b[0mnp\u001b[0m\u001b[0;34m.\u001b[0m\u001b[0mwhere\u001b[0m\u001b[0;34m(\u001b[0m\u001b[0mprop_elem\u001b[0m\u001b[0;34m[\u001b[0m\u001b[0;34m'sma'\u001b[0m\u001b[0;34m]\u001b[0m \u001b[0;34m<\u001b[0m \u001b[0;36m3.329\u001b[0m\u001b[0;34m)\u001b[0m\u001b[0;34m\u001b[0m\u001b[0;34m\u001b[0m\u001b[0m\n\u001b[1;32m     73\u001b[0m \u001b[0mres52up\u001b[0m \u001b[0;34m=\u001b[0m \u001b[0mnp\u001b[0m\u001b[0;34m.\u001b[0m\u001b[0mwhere\u001b[0m\u001b[0;34m(\u001b[0m\u001b[0mprop_elem\u001b[0m\u001b[0;34m[\u001b[0m\u001b[0;34m'sma'\u001b[0m\u001b[0;34m]\u001b[0m \u001b[0;34m<\u001b[0m \u001b[0;36m2.875\u001b[0m\u001b[0;34m)\u001b[0m\u001b[0;34m\u001b[0m\u001b[0;34m\u001b[0m\u001b[0m\n",
      "\u001b[0;32m~/.SBDynT/lib/python3.7/site-packages/pandas/core/frame.py\u001b[0m in \u001b[0;36m__getitem__\u001b[0;34m(self, key)\u001b[0m\n\u001b[1;32m   3456\u001b[0m             \u001b[0;32mif\u001b[0m \u001b[0mself\u001b[0m\u001b[0;34m.\u001b[0m\u001b[0mcolumns\u001b[0m\u001b[0;34m.\u001b[0m\u001b[0mnlevels\u001b[0m \u001b[0;34m>\u001b[0m \u001b[0;36m1\u001b[0m\u001b[0;34m:\u001b[0m\u001b[0;34m\u001b[0m\u001b[0;34m\u001b[0m\u001b[0m\n\u001b[1;32m   3457\u001b[0m                 \u001b[0;32mreturn\u001b[0m \u001b[0mself\u001b[0m\u001b[0;34m.\u001b[0m\u001b[0m_getitem_multilevel\u001b[0m\u001b[0;34m(\u001b[0m\u001b[0mkey\u001b[0m\u001b[0;34m)\u001b[0m\u001b[0;34m\u001b[0m\u001b[0;34m\u001b[0m\u001b[0m\n\u001b[0;32m-> 3458\u001b[0;31m             \u001b[0mindexer\u001b[0m \u001b[0;34m=\u001b[0m \u001b[0mself\u001b[0m\u001b[0;34m.\u001b[0m\u001b[0mcolumns\u001b[0m\u001b[0;34m.\u001b[0m\u001b[0mget_loc\u001b[0m\u001b[0;34m(\u001b[0m\u001b[0mkey\u001b[0m\u001b[0;34m)\u001b[0m\u001b[0;34m\u001b[0m\u001b[0;34m\u001b[0m\u001b[0m\n\u001b[0m\u001b[1;32m   3459\u001b[0m             \u001b[0;32mif\u001b[0m \u001b[0mis_integer\u001b[0m\u001b[0;34m(\u001b[0m\u001b[0mindexer\u001b[0m\u001b[0;34m)\u001b[0m\u001b[0;34m:\u001b[0m\u001b[0;34m\u001b[0m\u001b[0;34m\u001b[0m\u001b[0m\n\u001b[1;32m   3460\u001b[0m                 \u001b[0mindexer\u001b[0m \u001b[0;34m=\u001b[0m \u001b[0;34m[\u001b[0m\u001b[0mindexer\u001b[0m\u001b[0;34m]\u001b[0m\u001b[0;34m\u001b[0m\u001b[0;34m\u001b[0m\u001b[0m\n",
      "\u001b[0;32m~/.SBDynT/lib/python3.7/site-packages/pandas/core/indexes/base.py\u001b[0m in \u001b[0;36mget_loc\u001b[0;34m(self, key, method, tolerance)\u001b[0m\n\u001b[1;32m   3361\u001b[0m                 \u001b[0;32mreturn\u001b[0m \u001b[0mself\u001b[0m\u001b[0;34m.\u001b[0m\u001b[0m_engine\u001b[0m\u001b[0;34m.\u001b[0m\u001b[0mget_loc\u001b[0m\u001b[0;34m(\u001b[0m\u001b[0mcasted_key\u001b[0m\u001b[0;34m)\u001b[0m\u001b[0;34m\u001b[0m\u001b[0;34m\u001b[0m\u001b[0m\n\u001b[1;32m   3362\u001b[0m             \u001b[0;32mexcept\u001b[0m \u001b[0mKeyError\u001b[0m \u001b[0;32mas\u001b[0m \u001b[0merr\u001b[0m\u001b[0;34m:\u001b[0m\u001b[0;34m\u001b[0m\u001b[0;34m\u001b[0m\u001b[0m\n\u001b[0;32m-> 3363\u001b[0;31m                 \u001b[0;32mraise\u001b[0m \u001b[0mKeyError\u001b[0m\u001b[0;34m(\u001b[0m\u001b[0mkey\u001b[0m\u001b[0;34m)\u001b[0m \u001b[0;32mfrom\u001b[0m \u001b[0merr\u001b[0m\u001b[0;34m\u001b[0m\u001b[0;34m\u001b[0m\u001b[0m\n\u001b[0m\u001b[1;32m   3364\u001b[0m \u001b[0;34m\u001b[0m\u001b[0m\n\u001b[1;32m   3365\u001b[0m         \u001b[0;32mif\u001b[0m \u001b[0mis_scalar\u001b[0m\u001b[0;34m(\u001b[0m\u001b[0mkey\u001b[0m\u001b[0;34m)\u001b[0m \u001b[0;32mand\u001b[0m \u001b[0misna\u001b[0m\u001b[0;34m(\u001b[0m\u001b[0mkey\u001b[0m\u001b[0;34m)\u001b[0m \u001b[0;32mand\u001b[0m \u001b[0;32mnot\u001b[0m \u001b[0mself\u001b[0m\u001b[0;34m.\u001b[0m\u001b[0mhasnans\u001b[0m\u001b[0;34m:\u001b[0m\u001b[0;34m\u001b[0m\u001b[0;34m\u001b[0m\u001b[0m\n",
      "\u001b[0;31mKeyError\u001b[0m: 'sma'"
     ]
    }
   ],
   "source": [
    "#prop_elem = pd.read_csv('prop_elem_AstFam.csv')\n",
    "#prop_elem = pd.read_csv('prop_elem_AstFam_1freq.csv')\n",
    "prop_elem = pd.read_csv('prop_elem_AstFam_1freq_spr.csv') #Good sinI, bad ecc\n",
    "prop_elem = pd.read_csv('prop_elem_AstFam_3 freq.csv')\n",
    "#prop_elem = pd.read_csv('prop_elem_AstFam_500.csv')\n",
    "#prop_elem = pd.read_csv('prop_elem_AstFam_8p.csv')\n",
    "#prop_elem = pd.read_csv('prop_elem_AstFam_8p_1.csv')\n",
    "#prop_elem = pd.read_csv('prop_elem_AstFam_secres.csv')\n",
    "#prop_elem = pd.read_csv('prop_elem_AstFam_secres_gs0.csv') # Ok\n",
    "#prop_elem = pd.read_csv('prop_elem_AstFam_secres_gs1.csv')\n",
    "#prop_elem = pd.read_csv('prop_elem_AstFam_secres_gs2.csv')\n",
    "#prop_elem = pd.read_csv('prop_elem_AstFam_secres_spr1.csv') #Ok\n",
    "prop_elem = pd.read_csv('prop_elem_AstFam_secres_spr4.csv')\n",
    "#prop_elem = pd.read_csv('prop_elem_AstFam_secres_test.csv')\n",
    "#prop_elem = pd.read_csv('prop_elem_AstFam_secres_vs.csv')\n",
    "prop_elem = pd.read_csv('prop_elem_AstFam_secres_set.csv')\n",
    "prop_elem = pd.read_csv('prop_elem_AstFam_secres_orbfit.csv')\n",
    "#prop_elem = pd.read_csv('prop_elem_AstFam_secres_orbfit_all.csv')\n",
    "#prop_elem = pd.read_csv('prop_elem_tnos_multi_ident.csv')\n",
    "\n",
    "\n",
    "AstFam = pd.read_csv('AstFam_data.csv')\n",
    "AstDys = pd.read_csv('Asteroids_data.csv')\n",
    "AstFam_sig = pd.read_csv('AstFam_sig.txt')\n",
    "AstDys_sig = pd.read_csv('AstDys_sig.txt')\n",
    "\n",
    "names1 = np.array(AstDys['Name'])\n",
    "names2 = np.array(AstDys_sig['Name'])\n",
    "names3 = np.array(AstFam['Name'])\n",
    "names4 = np.array(AstFam_sig['Name'])\n",
    "names5 = np.array(prop_elem['Name'])\n",
    "\n",
    "plt.rcParams['font.size'] = 11\n",
    "prop_elem = prop_elem.loc[prop_elem['Name'].isin(names1)]\n",
    "AstFam = AstFam.loc[AstFam['Name'].isin(names1)]\n",
    "AstDys = AstDys.loc[AstDys['Name'].isin(names1)]\n",
    "AstFam_sig = AstFam_sig.loc[AstFam_sig['Name'].isin(names1)]\n",
    "AstDys_sig = AstDys_sig.loc[AstDys_sig['Name'].isin(names1)]\n",
    "\n",
    "prop_elem = prop_elem.loc[prop_elem['Name'].isin(names2)]\n",
    "AstFam = AstFam.loc[AstFam['Name'].isin(names2)]\n",
    "AstDys = AstDys.loc[AstDys['Name'].isin(names2)]\n",
    "AstFam_sig = AstFam_sig.loc[AstFam_sig['Name'].isin(names2)]\n",
    "AstDys_sig = AstDys_sig.loc[AstDys_sig['Name'].isin(names2)]\n",
    "\n",
    "prop_elem = prop_elem.loc[prop_elem['Name'].isin(names3)]\n",
    "AstFam = AstFam.loc[AstFam['Name'].isin(names3)]\n",
    "AstDys = AstDys.loc[AstDys['Name'].isin(names3)]\n",
    "AstFam_sig = AstFam_sig.loc[AstFam_sig['Name'].isin(names3)]\n",
    "AstDys_sig = AstDys_sig.loc[AstDys_sig['Name'].isin(names3)]\n",
    "\n",
    "prop_elem = prop_elem.loc[prop_elem['Name'].isin(names4)]\n",
    "AstFam = AstFam.loc[AstFam['Name'].isin(names4)]\n",
    "AstDys = AstDys.loc[AstDys['Name'].isin(names4)]\n",
    "AstFam_sig = AstFam_sig.loc[AstFam_sig['Name'].isin(names4)]\n",
    "AstDys_sig = AstDys_sig.loc[AstDys_sig['Name'].isin(names4)]\n",
    "\n",
    "prop_elem = prop_elem.loc[prop_elem['Name'].isin(names5)]\n",
    "AstFam = AstFam.loc[AstFam['Name'].isin(names5)]\n",
    "AstDys = AstDys.loc[AstDys['Name'].isin(names5)]\n",
    "AstFam_sig = AstFam_sig.loc[AstFam_sig['Name'].isin(names5)]\n",
    "AstDys_sig = AstDys_sig.loc[AstDys_sig['Name'].isin(names5)]\n",
    "\n",
    "prop_elem = prop_elem.reset_index()\n",
    "AstFam = AstFam.reset_index()\n",
    "AstDys = AstDys.reset_index()\n",
    "AstFam_sig = AstFam_sig.reset_index()\n",
    "AstDys_sig = AstDys_sig.reset_index()\n",
    "\n",
    "res = np.zeros(len(prop_elem))\n",
    "res31up = np.where(prop_elem['sma'] < 2.55)\n",
    "res21up = np.where(prop_elem['sma'] < 3.329)\n",
    "res52up = np.where(prop_elem['sma'] < 2.875)\n",
    "res73up = np.where(prop_elem['sma'] < 3.008)\n",
    "\n",
    "res31down = np.where(prop_elem['sma'] > 2.45)\n",
    "res21down = np.where(prop_elem['sma'] > 3.229)\n",
    "res52down = np.where(prop_elem['sma'] > 2.775)\n",
    "res73down = np.where(prop_elem['sma'] > 2.908)\n",
    "\n",
    "res31 = np.intersect1d(res31up,res31down)\n",
    "res21 = np.intersect1d(res21up,res21down)\n",
    "res52 = np.intersect1d(res52up,res52down)\n",
    "res73 = np.intersect1d(res73up,res73down)\n",
    "\n",
    "res = np.concatenate([res31,res21,res52,res73],axis=None)\n",
    "res = np.sort(res)\n",
    "\n",
    "noneject = np.where(np.abs(prop_elem['sma']) < 10)\n",
    "prop_elem = prop_elem.loc[noneject]\n",
    "AstFam = AstFam.loc[noneject]\n",
    "AstFam_sig = AstFam_sig.loc[noneject]\n",
    "AstDys = AstDys.loc[noneject]\n",
    "AstDys_sig = AstDys_sig.loc[noneject]\n",
    "\n",
    "fig,ax = plt.subplots(2,2,figsize=(16,8))\n",
    "print(prop_elem['sma'][161])\n",
    "ax[0,0].scatter(prop_elem['sma'],prop_elem['calc_sinI']-AstFam['sinI'],s=10)\n",
    "#plt.scatter(prop_elem['sma'][res],prop_elem['calc_sinI'][res]-AstFam['sinI'][res],s=10,c='r')\n",
    "ax[0,0].errorbar(prop_elem['sma'],prop_elem['calc_sinI']-AstFam['sinI'], yerr=AstFam_sig['sinI'], xerr=None,fmt='none')\n",
    "ax[0,0].set_xlabel('SMA (AU)')\n",
    "ax[0,0].set_ylabel('AstFam SinI Residuals')\n",
    "ax[0,0].set_title('Asteroid Families Portal-SBDynT Residuals',fontsize=16)\n",
    "ax[0,0].set_ylim(-0.04,0.04)\n",
    "\n",
    "\n",
    "\n",
    "ax[1,0].scatter(prop_elem['sma'],prop_elem['calc_ecc']-AstFam['e'],s=5)\n",
    "#plt.scatter(prop_elem['sma'][res],prop_elem['calc_ecc'][res]-AstFam['e'][res],s=10,c='r')\n",
    "ax[1,0].errorbar(prop_elem['sma'],prop_elem['calc_ecc']-AstFam['e'], yerr=AstFam_sig['e'], xerr=None,fmt='none')\n",
    "ax[1,0].set_xlabel('SMA (AU)')\n",
    "ax[1,0].set_ylabel('AstFam Ecc Residuals')\n",
    "ax[1,0].set_ylim(-0.1,0.1)\n",
    "\n",
    "\n",
    "ax[0,1].scatter(prop_elem['sma'],np.array(prop_elem['calc_sinI'])-np.array(AstDys['sinI']),s=10)\n",
    "#plt.scatter(prop_elem['sma'][res],prop_elem['calc_sinI'][res]-AstDys['sinI'][res],s=10,c='r')\n",
    "ax[0,1].errorbar(prop_elem['sma'],np.array(prop_elem['calc_sinI'])-np.array(AstDys['sinI']), yerr=AstDys_sig['sinI'], xerr=None,fmt='none')\n",
    "ax[0,1].set_xlabel('SMA (AU)')\n",
    "ax[0,1].set_ylabel('AstDys SinI Residuals')\n",
    "ax[0,1].set_title('AstDys-SBDynT Residuals',fontsize=16)\n",
    "ax[0,1].set_ylim(-0.04,0.04)\n",
    "\n",
    "ax[1,1].scatter(prop_elem['sma'],np.array(prop_elem['calc_ecc'])-np.array(AstDys['e']),s=10)\n",
    "#plt.scatter(prop_elem['sma'][res],prop_elem['calc_ecc'][res]-AstDys['e'][res],s=10,c='r')\n",
    "ax[1,1].errorbar(prop_elem['sma'],np.array(prop_elem['calc_ecc'])-np.array(AstDys['e']), yerr=AstDys_sig['e'], xerr=None,fmt='none')\n",
    "ax[1,1].set_xlabel('SMA (AU)')\n",
    "ax[1,1].set_ylabel('AstDys Ecc Residuals')\n",
    "ax[1,1].set_ylim(-0.1,0.1)\n",
    "#plt.scatter(prop_elem['sma'][170:180],np.array(prop_elem['calc_ecc'])[170:180]-np.array(AstDys['e'])[170:180],s=50,c='r')\n",
    "#ax[1,1].scatter(prop_elem['sma'][120],np.array(prop_elem['calc_ecc'])[120]-np.array(AstDys['e'])[120],s=50,c='r')\n",
    "\n",
    "\n",
    "print(prop_elem['Name'][170])\n",
    "\n",
    "AstFam_resid_sini = prop_elem['calc_sinI']-AstFam['sinI']\n",
    "AstFam_resid_e = prop_elem['calc_ecc']-AstFam['e']\n",
    "\n",
    "AstDys_resid_sini = prop_elem['calc_sinI']-AstDys['sinI']\n",
    "AstDys_resid_e = prop_elem['calc_ecc']-AstDys['e']\n",
    "\n",
    "redsini = np.sum(AstFam_resid_sini**2)\n",
    "rede = np.sum(AstFam_resid_e**2)\n",
    "print('Resid reduced chi-square sinI: ', redsini)\n",
    "print('Resid reduced chi-square ecc: ', rede)\n",
    "\n",
    "redsini = np.sum(AstDys_resid_sini**2)\n",
    "rede = np.sum(AstDys_resid_e**2)\n",
    "print('Resid reduced chi-square sinI: ', redsini)\n",
    "print('Resid reduced chi-square ecc: ', rede)"
   ]
  },
  {
   "cell_type": "code",
   "execution_count": 275,
   "metadata": {},
   "outputs": [
    {
     "name": "stdout",
     "output_type": "stream",
     "text": [
      "[ 717 1795]\n",
      "326.0\n",
      "[-0.04877482 -0.24348176]\n",
      "[0.16620518 0.14601144]\n",
      "[0.21498   0.3894932]\n"
     ]
    },
    {
     "ename": "KeyError",
     "evalue": "'[977] not in index'",
     "output_type": "error",
     "traceback": [
      "\u001b[0;31m---------------------------------------------------------------------------\u001b[0m",
      "\u001b[0;31mKeyError\u001b[0m                                  Traceback (most recent call last)",
      "\u001b[0;32m/tmp/ipykernel_1587487/473476121.py\u001b[0m in \u001b[0;36m<module>\u001b[0;34m\u001b[0m\n\u001b[1;32m     14\u001b[0m \u001b[0mprint\u001b[0m\u001b[0;34m(\u001b[0m\u001b[0mAstFam\u001b[0m\u001b[0;34m[\u001b[0m\u001b[0;34m'sinI'\u001b[0m\u001b[0;34m]\u001b[0m\u001b[0;34m.\u001b[0m\u001b[0mvalues\u001b[0m\u001b[0;34m[\u001b[0m\u001b[0mlow_i\u001b[0m\u001b[0;34m[\u001b[0m\u001b[0;36m0\u001b[0m\u001b[0;34m]\u001b[0m\u001b[0;34m]\u001b[0m\u001b[0;34m)\u001b[0m\u001b[0;34m\u001b[0m\u001b[0;34m\u001b[0m\u001b[0m\n\u001b[1;32m     15\u001b[0m \u001b[0;31m#print(prop_elem['obs_ecc'][low_e[0]])\u001b[0m\u001b[0;34m\u001b[0m\u001b[0;34m\u001b[0m\u001b[0;34m\u001b[0m\u001b[0m\n\u001b[0;32m---> 16\u001b[0;31m \u001b[0mprint\u001b[0m\u001b[0;34m(\u001b[0m\u001b[0mprop_elem\u001b[0m\u001b[0;34m[\u001b[0m\u001b[0;34m'calc_ecc'\u001b[0m\u001b[0;34m]\u001b[0m\u001b[0;34m[\u001b[0m\u001b[0mlow_e\u001b[0m\u001b[0;34m[\u001b[0m\u001b[0;36m0\u001b[0m\u001b[0;34m]\u001b[0m\u001b[0;34m]\u001b[0m\u001b[0;34m)\u001b[0m\u001b[0;34m\u001b[0m\u001b[0;34m\u001b[0m\u001b[0m\n\u001b[0m\u001b[1;32m     17\u001b[0m \u001b[0mprint\u001b[0m\u001b[0;34m(\u001b[0m\u001b[0mAstFam\u001b[0m\u001b[0;34m[\u001b[0m\u001b[0;34m'e'\u001b[0m\u001b[0;34m]\u001b[0m\u001b[0;34m[\u001b[0m\u001b[0mlow_e\u001b[0m\u001b[0;34m[\u001b[0m\u001b[0;36m0\u001b[0m\u001b[0;34m]\u001b[0m\u001b[0;34m]\u001b[0m\u001b[0;34m)\u001b[0m\u001b[0;34m\u001b[0m\u001b[0;34m\u001b[0m\u001b[0m\n\u001b[1;32m     18\u001b[0m \u001b[0;34m\u001b[0m\u001b[0m\n",
      "\u001b[0;32m~/.SBDynT/lib/python3.7/site-packages/pandas/core/series.py\u001b[0m in \u001b[0;36m__getitem__\u001b[0;34m(self, key)\u001b[0m\n\u001b[1;32m    964\u001b[0m             \u001b[0;32mreturn\u001b[0m \u001b[0mself\u001b[0m\u001b[0;34m.\u001b[0m\u001b[0m_get_values\u001b[0m\u001b[0;34m(\u001b[0m\u001b[0mkey\u001b[0m\u001b[0;34m)\u001b[0m\u001b[0;34m\u001b[0m\u001b[0;34m\u001b[0m\u001b[0m\n\u001b[1;32m    965\u001b[0m \u001b[0;34m\u001b[0m\u001b[0m\n\u001b[0;32m--> 966\u001b[0;31m         \u001b[0;32mreturn\u001b[0m \u001b[0mself\u001b[0m\u001b[0;34m.\u001b[0m\u001b[0m_get_with\u001b[0m\u001b[0;34m(\u001b[0m\u001b[0mkey\u001b[0m\u001b[0;34m)\u001b[0m\u001b[0;34m\u001b[0m\u001b[0;34m\u001b[0m\u001b[0m\n\u001b[0m\u001b[1;32m    967\u001b[0m \u001b[0;34m\u001b[0m\u001b[0m\n\u001b[1;32m    968\u001b[0m     \u001b[0;32mdef\u001b[0m \u001b[0m_get_with\u001b[0m\u001b[0;34m(\u001b[0m\u001b[0mself\u001b[0m\u001b[0;34m,\u001b[0m \u001b[0mkey\u001b[0m\u001b[0;34m)\u001b[0m\u001b[0;34m:\u001b[0m\u001b[0;34m\u001b[0m\u001b[0;34m\u001b[0m\u001b[0m\n",
      "\u001b[0;32m~/.SBDynT/lib/python3.7/site-packages/pandas/core/series.py\u001b[0m in \u001b[0;36m_get_with\u001b[0;34m(self, key)\u001b[0m\n\u001b[1;32m    999\u001b[0m             \u001b[0;31m#  (i.e. self.iloc) or label-based (i.e. self.loc)\u001b[0m\u001b[0;34m\u001b[0m\u001b[0;34m\u001b[0m\u001b[0;34m\u001b[0m\u001b[0m\n\u001b[1;32m   1000\u001b[0m             \u001b[0;32mif\u001b[0m \u001b[0;32mnot\u001b[0m \u001b[0mself\u001b[0m\u001b[0;34m.\u001b[0m\u001b[0mindex\u001b[0m\u001b[0;34m.\u001b[0m\u001b[0m_should_fallback_to_positional\u001b[0m\u001b[0;34m(\u001b[0m\u001b[0;34m)\u001b[0m\u001b[0;34m:\u001b[0m\u001b[0;34m\u001b[0m\u001b[0;34m\u001b[0m\u001b[0m\n\u001b[0;32m-> 1001\u001b[0;31m                 \u001b[0;32mreturn\u001b[0m \u001b[0mself\u001b[0m\u001b[0;34m.\u001b[0m\u001b[0mloc\u001b[0m\u001b[0;34m[\u001b[0m\u001b[0mkey\u001b[0m\u001b[0;34m]\u001b[0m\u001b[0;34m\u001b[0m\u001b[0;34m\u001b[0m\u001b[0m\n\u001b[0m\u001b[1;32m   1002\u001b[0m             \u001b[0;32melse\u001b[0m\u001b[0;34m:\u001b[0m\u001b[0;34m\u001b[0m\u001b[0;34m\u001b[0m\u001b[0m\n\u001b[1;32m   1003\u001b[0m                 \u001b[0;32mreturn\u001b[0m \u001b[0mself\u001b[0m\u001b[0;34m.\u001b[0m\u001b[0miloc\u001b[0m\u001b[0;34m[\u001b[0m\u001b[0mkey\u001b[0m\u001b[0;34m]\u001b[0m\u001b[0;34m\u001b[0m\u001b[0;34m\u001b[0m\u001b[0m\n",
      "\u001b[0;32m~/.SBDynT/lib/python3.7/site-packages/pandas/core/indexing.py\u001b[0m in \u001b[0;36m__getitem__\u001b[0;34m(self, key)\u001b[0m\n\u001b[1;32m    929\u001b[0m \u001b[0;34m\u001b[0m\u001b[0m\n\u001b[1;32m    930\u001b[0m             \u001b[0mmaybe_callable\u001b[0m \u001b[0;34m=\u001b[0m \u001b[0mcom\u001b[0m\u001b[0;34m.\u001b[0m\u001b[0mapply_if_callable\u001b[0m\u001b[0;34m(\u001b[0m\u001b[0mkey\u001b[0m\u001b[0;34m,\u001b[0m \u001b[0mself\u001b[0m\u001b[0;34m.\u001b[0m\u001b[0mobj\u001b[0m\u001b[0;34m)\u001b[0m\u001b[0;34m\u001b[0m\u001b[0;34m\u001b[0m\u001b[0m\n\u001b[0;32m--> 931\u001b[0;31m             \u001b[0;32mreturn\u001b[0m \u001b[0mself\u001b[0m\u001b[0;34m.\u001b[0m\u001b[0m_getitem_axis\u001b[0m\u001b[0;34m(\u001b[0m\u001b[0mmaybe_callable\u001b[0m\u001b[0;34m,\u001b[0m \u001b[0maxis\u001b[0m\u001b[0;34m=\u001b[0m\u001b[0maxis\u001b[0m\u001b[0;34m)\u001b[0m\u001b[0;34m\u001b[0m\u001b[0;34m\u001b[0m\u001b[0m\n\u001b[0m\u001b[1;32m    932\u001b[0m \u001b[0;34m\u001b[0m\u001b[0m\n\u001b[1;32m    933\u001b[0m     \u001b[0;32mdef\u001b[0m \u001b[0m_is_scalar_access\u001b[0m\u001b[0;34m(\u001b[0m\u001b[0mself\u001b[0m\u001b[0;34m,\u001b[0m \u001b[0mkey\u001b[0m\u001b[0;34m:\u001b[0m \u001b[0mtuple\u001b[0m\u001b[0;34m)\u001b[0m\u001b[0;34m:\u001b[0m\u001b[0;34m\u001b[0m\u001b[0;34m\u001b[0m\u001b[0m\n",
      "\u001b[0;32m~/.SBDynT/lib/python3.7/site-packages/pandas/core/indexing.py\u001b[0m in \u001b[0;36m_getitem_axis\u001b[0;34m(self, key, axis)\u001b[0m\n\u001b[1;32m   1151\u001b[0m                     \u001b[0;32mraise\u001b[0m \u001b[0mValueError\u001b[0m\u001b[0;34m(\u001b[0m\u001b[0;34m\"Cannot index with multidimensional key\"\u001b[0m\u001b[0;34m)\u001b[0m\u001b[0;34m\u001b[0m\u001b[0;34m\u001b[0m\u001b[0m\n\u001b[1;32m   1152\u001b[0m \u001b[0;34m\u001b[0m\u001b[0m\n\u001b[0;32m-> 1153\u001b[0;31m                 \u001b[0;32mreturn\u001b[0m \u001b[0mself\u001b[0m\u001b[0;34m.\u001b[0m\u001b[0m_getitem_iterable\u001b[0m\u001b[0;34m(\u001b[0m\u001b[0mkey\u001b[0m\u001b[0;34m,\u001b[0m \u001b[0maxis\u001b[0m\u001b[0;34m=\u001b[0m\u001b[0maxis\u001b[0m\u001b[0;34m)\u001b[0m\u001b[0;34m\u001b[0m\u001b[0;34m\u001b[0m\u001b[0m\n\u001b[0m\u001b[1;32m   1154\u001b[0m \u001b[0;34m\u001b[0m\u001b[0m\n\u001b[1;32m   1155\u001b[0m             \u001b[0;31m# nested tuple slicing\u001b[0m\u001b[0;34m\u001b[0m\u001b[0;34m\u001b[0m\u001b[0;34m\u001b[0m\u001b[0m\n",
      "\u001b[0;32m~/.SBDynT/lib/python3.7/site-packages/pandas/core/indexing.py\u001b[0m in \u001b[0;36m_getitem_iterable\u001b[0;34m(self, key, axis)\u001b[0m\n\u001b[1;32m   1091\u001b[0m \u001b[0;34m\u001b[0m\u001b[0m\n\u001b[1;32m   1092\u001b[0m         \u001b[0;31m# A collection of keys\u001b[0m\u001b[0;34m\u001b[0m\u001b[0;34m\u001b[0m\u001b[0;34m\u001b[0m\u001b[0m\n\u001b[0;32m-> 1093\u001b[0;31m         \u001b[0mkeyarr\u001b[0m\u001b[0;34m,\u001b[0m \u001b[0mindexer\u001b[0m \u001b[0;34m=\u001b[0m \u001b[0mself\u001b[0m\u001b[0;34m.\u001b[0m\u001b[0m_get_listlike_indexer\u001b[0m\u001b[0;34m(\u001b[0m\u001b[0mkey\u001b[0m\u001b[0;34m,\u001b[0m \u001b[0maxis\u001b[0m\u001b[0;34m)\u001b[0m\u001b[0;34m\u001b[0m\u001b[0;34m\u001b[0m\u001b[0m\n\u001b[0m\u001b[1;32m   1094\u001b[0m         return self.obj._reindex_with_indexers(\n\u001b[1;32m   1095\u001b[0m             \u001b[0;34m{\u001b[0m\u001b[0maxis\u001b[0m\u001b[0;34m:\u001b[0m \u001b[0;34m[\u001b[0m\u001b[0mkeyarr\u001b[0m\u001b[0;34m,\u001b[0m \u001b[0mindexer\u001b[0m\u001b[0;34m]\u001b[0m\u001b[0;34m}\u001b[0m\u001b[0;34m,\u001b[0m \u001b[0mcopy\u001b[0m\u001b[0;34m=\u001b[0m\u001b[0;32mTrue\u001b[0m\u001b[0;34m,\u001b[0m \u001b[0mallow_dups\u001b[0m\u001b[0;34m=\u001b[0m\u001b[0;32mTrue\u001b[0m\u001b[0;34m\u001b[0m\u001b[0;34m\u001b[0m\u001b[0m\n",
      "\u001b[0;32m~/.SBDynT/lib/python3.7/site-packages/pandas/core/indexing.py\u001b[0m in \u001b[0;36m_get_listlike_indexer\u001b[0;34m(self, key, axis)\u001b[0m\n\u001b[1;32m   1312\u001b[0m             \u001b[0mkeyarr\u001b[0m\u001b[0;34m,\u001b[0m \u001b[0mindexer\u001b[0m\u001b[0;34m,\u001b[0m \u001b[0mnew_indexer\u001b[0m \u001b[0;34m=\u001b[0m \u001b[0max\u001b[0m\u001b[0;34m.\u001b[0m\u001b[0m_reindex_non_unique\u001b[0m\u001b[0;34m(\u001b[0m\u001b[0mkeyarr\u001b[0m\u001b[0;34m)\u001b[0m\u001b[0;34m\u001b[0m\u001b[0;34m\u001b[0m\u001b[0m\n\u001b[1;32m   1313\u001b[0m \u001b[0;34m\u001b[0m\u001b[0m\n\u001b[0;32m-> 1314\u001b[0;31m         \u001b[0mself\u001b[0m\u001b[0;34m.\u001b[0m\u001b[0m_validate_read_indexer\u001b[0m\u001b[0;34m(\u001b[0m\u001b[0mkeyarr\u001b[0m\u001b[0;34m,\u001b[0m \u001b[0mindexer\u001b[0m\u001b[0;34m,\u001b[0m \u001b[0maxis\u001b[0m\u001b[0;34m)\u001b[0m\u001b[0;34m\u001b[0m\u001b[0;34m\u001b[0m\u001b[0m\n\u001b[0m\u001b[1;32m   1315\u001b[0m \u001b[0;34m\u001b[0m\u001b[0m\n\u001b[1;32m   1316\u001b[0m         if needs_i8_conversion(ax.dtype) or isinstance(\n",
      "\u001b[0;32m~/.SBDynT/lib/python3.7/site-packages/pandas/core/indexing.py\u001b[0m in \u001b[0;36m_validate_read_indexer\u001b[0;34m(self, key, indexer, axis)\u001b[0m\n\u001b[1;32m   1375\u001b[0m \u001b[0;34m\u001b[0m\u001b[0m\n\u001b[1;32m   1376\u001b[0m             \u001b[0mnot_found\u001b[0m \u001b[0;34m=\u001b[0m \u001b[0mlist\u001b[0m\u001b[0;34m(\u001b[0m\u001b[0mensure_index\u001b[0m\u001b[0;34m(\u001b[0m\u001b[0mkey\u001b[0m\u001b[0;34m)\u001b[0m\u001b[0;34m[\u001b[0m\u001b[0mmissing_mask\u001b[0m\u001b[0;34m.\u001b[0m\u001b[0mnonzero\u001b[0m\u001b[0;34m(\u001b[0m\u001b[0;34m)\u001b[0m\u001b[0;34m[\u001b[0m\u001b[0;36m0\u001b[0m\u001b[0;34m]\u001b[0m\u001b[0;34m]\u001b[0m\u001b[0;34m.\u001b[0m\u001b[0munique\u001b[0m\u001b[0;34m(\u001b[0m\u001b[0;34m)\u001b[0m\u001b[0;34m)\u001b[0m\u001b[0;34m\u001b[0m\u001b[0;34m\u001b[0m\u001b[0m\n\u001b[0;32m-> 1377\u001b[0;31m             \u001b[0;32mraise\u001b[0m \u001b[0mKeyError\u001b[0m\u001b[0;34m(\u001b[0m\u001b[0;34mf\"{not_found} not in index\"\u001b[0m\u001b[0;34m)\u001b[0m\u001b[0;34m\u001b[0m\u001b[0;34m\u001b[0m\u001b[0m\n\u001b[0m\u001b[1;32m   1378\u001b[0m \u001b[0;34m\u001b[0m\u001b[0m\n\u001b[1;32m   1379\u001b[0m \u001b[0;34m\u001b[0m\u001b[0m\n",
      "\u001b[0;31mKeyError\u001b[0m: '[977] not in index'"
     ]
    }
   ],
   "source": [
    "AstFam_resid_sini = (prop_elem['calc_sinI']-AstFam['sinI']).values\n",
    "AstFam_resid_e = (prop_elem['calc_ecc']-AstFam['e']).values\n",
    "\n",
    "AstDys_resid_sini = prop_elem['calc_sinI']-AstDys['sinI']\n",
    "AstDys_resid_e = prop_elem['calc_ecc']-AstDys['e']\n",
    "\n",
    "low_i = np.where(AstFam_resid_sini < -0.04)\n",
    "low_e = np.where(AstFam_resid_e < -0.04)\n",
    "\n",
    "print(low_i[0])\n",
    "print(prop_elem['Name'].values[316])\n",
    "print(AstFam_resid_sini[low_i[0]])\n",
    "print(prop_elem['calc_sinI'].values[low_i[0]])\n",
    "print(AstFam['sinI'].values[low_i[0]])\n",
    "#print(prop_elem['obs_ecc'][low_e[0]])\n",
    "print(prop_elem['calc_ecc'][low_e[0]])\n",
    "print(AstFam['e'][low_e[0]])\n",
    "\n",
    "low_i = np.where(AstDys_resid_sini < -0.1)\n",
    "low_e = np.where(AstDys_resid_e < -0.1)\n",
    "\n",
    "#print(prop_elem['obs_sinI'][low_i[0]])\n",
    "print(prop_elem['calc_sinI'][low_i[0]])\n",
    "print(AstFam['sinI'][low_i[0]])\n",
    "\n",
    "print(prop_elem['calc_ecc'][low_e[0]])\n",
    "#print(prop_elem['obs_ecc'][low_e[0]])\n",
    "print(AstFam['e'][low_e[0]])"
   ]
  },
  {
   "cell_type": "code",
   "execution_count": 276,
   "metadata": {},
   "outputs": [],
   "source": [
    "prop_elem.to_csv('prop_elem_AstFam_3 freq.csv')"
   ]
  },
  {
   "cell_type": "code",
   "execution_count": 277,
   "metadata": {},
   "outputs": [
    {
     "data": {
      "image/png": "[encoded data removed]",
      "text/plain": [
       "<Figure size 720x432 with 1 Axes>"
      ]
     },
     "metadata": {
      "needs_background": "light"
     },
     "output_type": "display_data"
    },
    {
     "data": {
      "image/png": "[encoded data removed]",
      "text/plain": [
       "<Figure size 720x432 with 1 Axes>"
      ]
     },
     "metadata": {
      "needs_background": "light"
     },
     "output_type": "display_data"
    }
   ],
   "source": [
    "plt.figure(figsize=(10,6))\n",
    "plt.scatter(prop_elem['sma'],np.array(AstFam['sinI'])-np.array(AstDys['sinI']),s=10)\n",
    "#plt.scatter(prop_elem['sma'][res],AstFam['sinI'][res]-AstDys['sinI'][res],s=10,c='r')\n",
    "plt.errorbar(prop_elem['sma'],np.array(AstFam['sinI'])-np.array(AstDys['sinI']), yerr=AstDys_sig['sinI'], xerr=None,fmt='none')\n",
    "plt.xlabel('SMA (AU)')\n",
    "plt.ylabel('Database SinI Residuals')\n",
    "plt.ylim(-0.04,0.04)\n",
    "plt.show()\n",
    "\n",
    "plt.figure(figsize=(10,6))\n",
    "plt.scatter(prop_elem['sma'],np.array(AstFam['e'])-np.array(AstDys['e']),s=10)\n",
    "#plt.scatter(prop_elem['sma'][res],AstFam['e'][res]-AstDys['e'][res],s=10,c='r')\n",
    "plt.errorbar(prop_elem['sma'],np.array(AstFam['e'])-np.array(AstDys['e']), yerr=AstDys_sig['e'], xerr=None,fmt='none')\n",
    "plt.xlabel('SMA (AU)')\n",
    "plt.ylabel('Database Ecc Residuals')\n",
    "plt.ylim(-0.1,0.1)\n",
    "plt.show()\n",
    "\n"
   ]
  },
  {
   "cell_type": "code",
   "execution_count": 178,
   "metadata": {},
   "outputs": [
    {
     "name": "stdout",
     "output_type": "stream",
     "text": [
      "[ 440 1001 1327 1832]\n",
      "454.0\n",
      "[0.9259004 0.9181786 0.8245586 0.9214022]\n",
      "440     0.139621\n",
      "1001    0.104501\n",
      "1327    0.235551\n",
      "1832    0.175325\n",
      "Name: e, dtype: float64\n",
      "440     0.137265\n",
      "1001    0.104502\n",
      "1327    0.236155\n",
      "1832    0.171851\n",
      "Name: e, dtype: float64\n",
      "Resid reduced chi-square sinI:  0.005557662342910001\n",
      "Resid reduced chi-square ecc:  3.2529848022937604\n"
     ]
    }
   ],
   "source": [
    "Ast_resid_sini = np.array(AstFam['sinI'])-np.array(AstDys['sinI'])\n",
    "Ast_resid_e = np.array(AstFam['e'])-np.array(AstDys['e'])\n",
    "\n",
    "\n",
    "\n",
    "low_i = np.where(Ast_resid_sini > 0.1)\n",
    "low_e = np.where(Ast_resid_e > 0.1)\n",
    "\n",
    "print(low_e[0])\n",
    "print(prop_elem['Name'].values[440])\n",
    "print(Ast_resid_e[low_e[0]])\n",
    "print(AstDys['e'][low_e[0]])\n",
    "print(AstFam['e'][low_e[0]])\n",
    "\n",
    "redsini = np.sum(Ast_resid_sini**2)\n",
    "rede = np.sum(Ast_resid_e**2)\n",
    "print('Resid reduced chi-square sinI: ', redsini)\n",
    "print('Resid reduced chi-square ecc: ', rede)"
   ]
  },
  {
   "cell_type": "code",
   "execution_count": 168,
   "metadata": {},
   "outputs": [
    {
     "name": "stdout",
     "output_type": "stream",
     "text": [
      "[35]\n"
     ]
    },
    {
     "data": {
      "text/plain": [
       "34"
      ]
     },
     "execution_count": 168,
     "metadata": {},
     "output_type": "execute_result"
    }
   ],
   "source": [
    "thing = np.arange(100)\n",
    "\n",
    "print(thing[35:36])\n",
    "round(34.5)"
   ]
  },
  {
   "cell_type": "code",
   "execution_count": 25,
   "metadata": {},
   "outputs": [
    {
     "name": "stdout",
     "output_type": "stream",
     "text": [
      "20358.13212446179\n"
     ]
    }
   ],
   "source": [
    "# p1**2 = a1**3\n",
    "# p2**2 = a2**3\n",
    "# p1/p2 = 5:2\n",
    "# a1**3/a2**3 = 25/4\n",
    "\n",
    "perrat = (2/5)**2\n",
    "print((37500**3*perrat)**(1/3))"
   ]
  },
  {
   "cell_type": "code",
   "execution_count": 26,
   "metadata": {},
   "outputs": [
    {
     "ename": "ModuleNotFoundError",
     "evalue": "No module named 'bin_to_df'",
     "output_type": "error",
     "traceback": [
      "\u001b[0;31m---------------------------------------------------------------------------\u001b[0m",
      "\u001b[0;31mModuleNotFoundError\u001b[0m                       Traceback (most recent call last)",
      "\u001b[0;32m/tmp/ipykernel_347569/634174269.py\u001b[0m in \u001b[0;36m<module>\u001b[0;34m\u001b[0m\n\u001b[0;32m----> 1\u001b[0;31m \u001b[0;32mfrom\u001b[0m \u001b[0mbin_to_df\u001b[0m \u001b[0;32mimport\u001b[0m \u001b[0mbin_to_df\u001b[0m\u001b[0;34m\u001b[0m\u001b[0;34m\u001b[0m\u001b[0m\n\u001b[0m\u001b[1;32m      2\u001b[0m \u001b[0;34m\u001b[0m\u001b[0m\n\u001b[1;32m      3\u001b[0m \u001b[0marc1\u001b[0m \u001b[0;34m=\u001b[0m \u001b[0mrebound\u001b[0m\u001b[0;34m.\u001b[0m\u001b[0marchive\u001b[0m\u001b[0;34m(\u001b[0m\u001b[0;34m'Sims/AstFam/175/archive_megno.bin'\u001b[0m\u001b[0;34m)\u001b[0m\u001b[0;34m\u001b[0m\u001b[0;34m\u001b[0m\u001b[0m\n\u001b[1;32m      4\u001b[0m \u001b[0mser\u001b[0m \u001b[0;34m=\u001b[0m \u001b[0mbin_to_df\u001b[0m\u001b[0;34m(\u001b[0m\u001b[0marc1\u001b[0m\u001b[0;34m)\u001b[0m\u001b[0;34m\u001b[0m\u001b[0;34m\u001b[0m\u001b[0m\n",
      "\u001b[0;31mModuleNotFoundError\u001b[0m: No module named 'bin_to_df'"
     ]
    }
   ],
   "source": [
    "from bin_to_df import bin_to_df\n",
    "\n",
    "arc1 = rebound.archive('Sims/AstFam/175/archive_megno.bin')\n",
    "ser = bin_to_df(arc1)"
   ]
  },
  {
   "cell_type": "code",
   "execution_count": null,
   "metadata": {},
   "outputs": [],
   "source": []
  }
 ],
 "metadata": {
  "kernelspec": {
   "display_name": "SBDynT",
   "language": "python",
   "name": "sbdynt"
  },
  "language_info": {
   "codemirror_mode": {
    "name": "ipython",
    "version": 3
   },
   "file_extension": ".py",
   "mimetype": "text/x-python",
   "name": "python",
   "nbconvert_exporter": "python",
   "pygments_lexer": "ipython3",
   "version": "3.7.3"
  }
 },
 "nbformat": 4,
 "nbformat_minor": 4
}
