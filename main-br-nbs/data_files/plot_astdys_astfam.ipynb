{
 "cells": [
  {
   "cell_type": "code",
   "execution_count": 2,
   "metadata": {},
   "outputs": [],
   "source": [
    "import numpy as np\n",
    "import pandas as pd\n",
    "import matplotlib.pyplot as plt"
   ]
  },
  {
   "cell_type": "code",
   "execution_count": 38,
   "metadata": {},
   "outputs": [
    {
     "ename": "NameError",
     "evalue": "name 'astdys' is not defined",
     "output_type": "error",
     "traceback": [
      "\u001b[0;31m---------------------------------------------------------------------------\u001b[0m",
      "\u001b[0;31mNameError\u001b[0m                                 Traceback (most recent call last)",
      "\u001b[0;32m/tmp/ipykernel_347569/634844207.py\u001b[0m in \u001b[0;36m<module>\u001b[0;34m\u001b[0m\n\u001b[1;32m     87\u001b[0m \u001b[0mres\u001b[0m \u001b[0;34m=\u001b[0m \u001b[0mnp\u001b[0m\u001b[0;34m.\u001b[0m\u001b[0msort\u001b[0m\u001b[0;34m(\u001b[0m\u001b[0mres\u001b[0m\u001b[0;34m)\u001b[0m\u001b[0;34m\u001b[0m\u001b[0;34m\u001b[0m\u001b[0m\n\u001b[1;32m     88\u001b[0m \u001b[0;34m\u001b[0m\u001b[0m\n\u001b[0;32m---> 89\u001b[0;31m \u001b[0mnoneject\u001b[0m \u001b[0;34m=\u001b[0m \u001b[0mnp\u001b[0m\u001b[0;34m.\u001b[0m\u001b[0mwhere\u001b[0m\u001b[0;34m(\u001b[0m\u001b[0mnp\u001b[0m\u001b[0;34m.\u001b[0m\u001b[0mabs\u001b[0m\u001b[0;34m(\u001b[0m\u001b[0mastdys\u001b[0m\u001b[0;34m[\u001b[0m\u001b[0;34m'sma'\u001b[0m\u001b[0;34m]\u001b[0m\u001b[0;34m)\u001b[0m \u001b[0;34m<\u001b[0m \u001b[0;36m10\u001b[0m\u001b[0;34m)\u001b[0m\u001b[0;34m\u001b[0m\u001b[0;34m\u001b[0m\u001b[0m\n\u001b[0m\u001b[1;32m     90\u001b[0m \u001b[0mprop_elem\u001b[0m \u001b[0;34m=\u001b[0m \u001b[0mprop_elem\u001b[0m\u001b[0;34m.\u001b[0m\u001b[0mloc\u001b[0m\u001b[0;34m[\u001b[0m\u001b[0mnoneject\u001b[0m\u001b[0;34m]\u001b[0m\u001b[0;34m\u001b[0m\u001b[0;34m\u001b[0m\u001b[0m\n\u001b[1;32m     91\u001b[0m \u001b[0mAstFam\u001b[0m \u001b[0;34m=\u001b[0m \u001b[0mAstFam\u001b[0m\u001b[0;34m.\u001b[0m\u001b[0mloc\u001b[0m\u001b[0;34m[\u001b[0m\u001b[0mnoneject\u001b[0m\u001b[0;34m]\u001b[0m\u001b[0;34m\u001b[0m\u001b[0;34m\u001b[0m\u001b[0m\n",
      "\u001b[0;31mNameError\u001b[0m: name 'astdys' is not defined"
     ]
    }
   ],
   "source": [
    "#prop_elem = pd.read_csv('prop_elem_AstFam.csv')\n",
    "#prop_elem = pd.read_csv('prop_elem_AstFam_1freq.csv')\n",
    "prop_elem = pd.read_csv('prop_elem_AstFam_1freq_spr.csv') #Good sinI, bad ecc\n",
    "prop_elem = pd.read_csv('prop_elem_AstFam_3 freq.csv')\n",
    "#prop_elem = pd.read_csv('prop_elem_AstFam_500.csv')\n",
    "#prop_elem = pd.read_csv('prop_elem_AstFam_8p.csv')\n",
    "#prop_elem = pd.read_csv('prop_elem_AstFam_8p_1.csv')\n",
    "#prop_elem = pd.read_csv('prop_elem_AstFam_secres.csv')\n",
    "#prop_elem = pd.read_csv('prop_elem_AstFam_secres_gs0.csv') # Ok\n",
    "#prop_elem = pd.read_csv('prop_elem_AstFam_secres_gs1.csv')\n",
    "#prop_elem = pd.read_csv('prop_elem_AstFam_secres_gs2.csv')\n",
    "#prop_elem = pd.read_csv('prop_elem_AstFam_secres_spr1.csv') #Ok\n",
    "prop_elem = pd.read_csv('prop_elem_AstFam_secres_spr4.csv')\n",
    "#prop_elem = pd.read_csv('prop_elem_AstFam_secres_test.csv')\n",
    "#prop_elem = pd.read_csv('prop_elem_AstFam_secres_vs.csv')\n",
    "prop_elem = pd.read_csv('prop_elem_AstFam_secres_set.csv')\n",
    "prop_elem = pd.read_csv('prop_elem_AstFam_secres_orbfit.csv')\n",
    "#prop_elem = pd.read_csv('prop_elem_AstFam_secres_orbfit_all.csv')\n",
    "#prop_elem = pd.read_csv('prop_elem_tnos_multi_ident.csv')\n",
    "#prop_elem = pd.read_csv('prop_elem_astfam_multi_sec_hires.csv')\n",
    "\n",
    "AstFam = pd.read_csv('AstFam_new_data.csv')\n",
    "AstDys = pd.read_csv('Asteroids_data.csv')\n",
    "AstFam_sig = pd.read_csv('AstFam_sig.txt')\n",
    "AstDys_sig = pd.read_csv('AstDys_sig.txt')\n",
    "\n",
    "names1 = np.array(AstDys['Name'])\n",
    "names2 = np.array(AstDys_sig['Name'])\n",
    "names3 = np.array(AstFam['Name'])\n",
    "names4 = np.array(AstFam_sig['Name'])\n",
    "names5 = np.array(prop_elem['Name'])\n",
    "\n",
    "plt.rcParams['font.size'] = 11\n",
    "prop_elem = prop_elem.loc[prop_elem['Name'].isin(names1)]\n",
    "AstFam = AstFam.loc[AstFam['Name'].isin(names1)]\n",
    "AstDys = AstDys.loc[AstDys['Name'].isin(names1)]\n",
    "AstFam_sig = AstFam_sig.loc[AstFam_sig['Name'].isin(names1)]\n",
    "AstDys_sig = AstDys_sig.loc[AstDys_sig['Name'].isin(names1)]\n",
    "\n",
    "prop_elem = prop_elem.loc[prop_elem['Name'].isin(names2)]\n",
    "AstFam = AstFam.loc[AstFam['Name'].isin(names2)]\n",
    "AstDys = AstDys.loc[AstDys['Name'].isin(names2)]\n",
    "AstFam_sig = AstFam_sig.loc[AstFam_sig['Name'].isin(names2)]\n",
    "AstDys_sig = AstDys_sig.loc[AstDys_sig['Name'].isin(names2)]\n",
    "\n",
    "prop_elem = prop_elem.loc[prop_elem['Name'].isin(names3)]\n",
    "AstFam = AstFam.loc[AstFam['Name'].isin(names3)]\n",
    "AstDys = AstDys.loc[AstDys['Name'].isin(names3)]\n",
    "AstFam_sig = AstFam_sig.loc[AstFam_sig['Name'].isin(names3)]\n",
    "AstDys_sig = AstDys_sig.loc[AstDys_sig['Name'].isin(names3)]\n",
    "\n",
    "prop_elem = prop_elem.loc[prop_elem['Name'].isin(names4)]\n",
    "AstFam = AstFam.loc[AstFam['Name'].isin(names4)]\n",
    "AstDys = AstDys.loc[AstDys['Name'].isin(names4)]\n",
    "AstFam_sig = AstFam_sig.loc[AstFam_sig['Name'].isin(names4)]\n",
    "AstDys_sig = AstDys_sig.loc[AstDys_sig['Name'].isin(names4)]\n",
    "\n",
    "prop_elem = prop_elem.loc[prop_elem['Name'].isin(names5)]\n",
    "AstFam = AstFam.loc[AstFam['Name'].isin(names5)]\n",
    "AstDys = AstDys.loc[AstDys['Name'].isin(names5)]\n",
    "AstFam_sig = AstFam_sig.loc[AstFam_sig['Name'].isin(names5)]\n",
    "AstDys_sig = AstDys_sig.loc[AstDys_sig['Name'].isin(names5)]\n",
    "\n",
    "prop_elem = prop_elem.reset_index()\n",
    "AstFam = AstFam.reset_index()\n",
    "AstDys = AstDys.reset_index()\n",
    "AstFam_sig = AstFam_sig.reset_index()\n",
    "AstDys_sig = AstDys_sig.reset_index()\n",
    "\n",
    "res = np.zeros(len(prop_elem))\n",
    "res31up = np.where(prop_elem['sma'] < 2.55)\n",
    "res21up = np.where(prop_elem['sma'] < 3.329)\n",
    "res52up = np.where(prop_elem['sma'] < 2.875)\n",
    "res73up = np.where(prop_elem['sma'] < 3.008)\n",
    "\n",
    "res31down = np.where(prop_elem['sma'] > 2.45)\n",
    "res21down = np.where(prop_elem['sma'] > 3.229)\n",
    "res52down = np.where(prop_elem['sma'] > 2.775)\n",
    "res73down = np.where(prop_elem['sma'] > 2.908)\n",
    "\n",
    "res31 = np.intersect1d(res31up,res31down)\n",
    "res21 = np.intersect1d(res21up,res21down)\n",
    "res52 = np.intersect1d(res52up,res52down)\n",
    "res73 = np.intersect1d(res73up,res73down)\n",
    "\n",
    "res = np.concatenate([res31,res21,res52,res73],axis=None)\n",
    "res = np.sort(res)\n",
    "\n",
    "noneject = np.where(np.abs(astdys['sma']) < 10)\n",
    "prop_elem = prop_elem.loc[noneject]\n",
    "AstFam = AstFam.loc[noneject]\n",
    "AstFam_sig = AstFam_sig.loc[noneject]\n",
    "AstDys = AstDys.loc[noneject]\n",
    "AstDys_sig = AstDys_sig.loc[noneject]\n",
    "\n",
    "fig,ax = plt.subplots(2,2,figsize=(16,8))\n",
    "print(prop_elem['sma'][161])\n",
    "ax[0,0].scatter(prop_elem['sma'],prop_elem['calc_sinI']-AstFam['sinI'],s=10)\n",
    "#plt.scatter(prop_elem['sma'][res],prop_elem['calc_sinI'][res]-AstFam['sinI'][res],s=10,c='r')\n",
    "ax[0,0].errorbar(prop_elem['sma'],prop_elem['calc_sinI']-AstFam['sinI'], yerr=AstFam_sig['sinI'], xerr=None,fmt='none')\n",
    "ax[0,0].set_xlabel('SMA (AU)')\n",
    "ax[0,0].set_ylabel('AstFam SinI Residuals')\n",
    "ax[0,0].set_title('Asteroid Families Portal-SBDynT Residuals',fontsize=16)\n",
    "ax[0,0].set_ylim(-0.04,0.04)\n",
    "\n",
    "\n",
    "\n",
    "ax[1,0].scatter(prop_elem['sma'],prop_elem['calc_ecc']-AstFam['e'],s=5)\n",
    "#plt.scatter(prop_elem['sma'][res],prop_elem['calc_ecc'][res]-AstFam['e'][res],s=10,c='r')\n",
    "ax[1,0].errorbar(prop_elem['sma'],prop_elem['calc_ecc']-AstFam['e'], yerr=AstFam_sig['e'], xerr=None,fmt='none')\n",
    "ax[1,0].set_xlabel('SMA (AU)')\n",
    "ax[1,0].set_ylabel('AstFam Ecc Residuals')\n",
    "ax[1,0].set_ylim(-0.1,0.1)\n",
    "\n",
    "\n",
    "ax[0,1].scatter(prop_elem['sma'],np.array(prop_elem['calc_sinI'])-np.array(AstDys['sinI']),s=10)\n",
    "#plt.scatter(prop_elem['sma'][res],prop_elem['calc_sinI'][res]-AstDys['sinI'][res],s=10,c='r')\n",
    "ax[0,1].errorbar(prop_elem['sma'],np.array(prop_elem['calc_sinI'])-np.array(AstDys['sinI']), yerr=AstDys_sig['sinI'], xerr=None,fmt='none')\n",
    "ax[0,1].set_xlabel('SMA (AU)')\n",
    "ax[0,1].set_ylabel('AstDys SinI Residuals')\n",
    "ax[0,1].set_title('AstDys-SBDynT Residuals',fontsize=16)\n",
    "ax[0,1].set_ylim(-0.04,0.04)\n",
    "\n",
    "ax[1,1].scatter(prop_elem['sma'],np.array(prop_elem['calc_ecc'])-np.array(AstDys['e']),s=10)\n",
    "#plt.scatter(prop_elem['sma'][res],prop_elem['calc_ecc'][res]-AstDys['e'][res],s=10,c='r')\n",
    "ax[1,1].errorbar(prop_elem['sma'],np.array(prop_elem['calc_ecc'])-np.array(AstDys['e']), yerr=AstDys_sig['e'], xerr=None,fmt='none')\n",
    "ax[1,1].set_xlabel('SMA (AU)')\n",
    "ax[1,1].set_ylabel('AstDys Ecc Residuals')\n",
    "ax[1,1].set_ylim(-0.1,0.1)\n",
    "#plt.scatter(prop_elem['sma'][170:180],np.array(prop_elem['calc_ecc'])[170:180]-np.array(AstDys['e'])[170:180],s=50,c='r')\n",
    "#ax[1,1].scatter(prop_elem['sma'][120],np.array(prop_elem['calc_ecc'])[120]-np.array(AstDys['e'])[120],s=50,c='r')\n",
    "\n",
    "\n",
    "print(prop_elem['Name'][170])\n",
    "\n",
    "AstFam_resid_sini = prop_elem['calc_sinI']-AstFam['sinI']\n",
    "AstFam_resid_e = prop_elem['calc_ecc']-AstFam['e']\n",
    "\n",
    "AstDys_resid_sini = prop_elem['calc_sinI']-AstDys['sinI']\n",
    "AstDys_resid_e = prop_elem['calc_ecc']-AstDys['e']\n",
    "\n",
    "redsini = np.sum(AstFam_resid_sini**2)\n",
    "rede = np.sum(AstFam_resid_e**2)\n",
    "print('Resid reduced chi-square sinI: ', redsini)\n",
    "print('Resid reduced chi-square ecc: ', rede)\n",
    "\n",
    "redsini = np.sum(AstDys_resid_sini**2)\n",
    "rede = np.sum(AstDys_resid_e**2)\n",
    "print('Resid reduced chi-square sinI: ', redsini)\n",
    "print('Resid reduced chi-square ecc: ', rede)"
   ]
  },
  {
   "cell_type": "code",
   "execution_count": 39,
   "metadata": {},
   "outputs": [
    {
     "name": "stdout",
     "output_type": "stream",
     "text": [
      "[  29   83  460  527  608  659  703  719  730  785  789  790  815  892\n",
      " 1057 1152 1269 1314 1349 1397 1801]\n",
      "325.0\n",
      "[-0.20716023 -0.04550642 -0.19933171 -0.07810148 -0.182716   -0.13139737\n",
      " -0.1843873  -0.04874279 -0.04062827 -0.12088954 -0.19935981 -0.05391232\n",
      " -0.21332435 -0.14589511 -0.11133555 -0.09182094 -0.17275696 -0.064677\n",
      " -0.05914599 -0.05306764 -0.23728151]\n",
      "[0.23971727 0.17324208 0.03117319 0.08103502 0.0403502  0.07694573\n",
      " 0.1147334  0.16623721 0.30117883 0.10130576 0.02864599 0.13266358\n",
      " 0.03438955 0.10183139 0.03820175 0.03743446 0.09480684 0.2345386\n",
      " 0.05746451 0.05322956 0.15221169]\n",
      "[0.4468775 0.2187485 0.2305049 0.1591365 0.2230662 0.2083431 0.2991207\n",
      " 0.21498   0.3418071 0.2221953 0.2280058 0.1865759 0.2477139 0.2477265\n",
      " 0.1495373 0.1292554 0.2675638 0.2992156 0.1166105 0.1062972 0.3894932]\n",
      "51      0.179342\n",
      "127     0.137048\n",
      "152     0.208355\n",
      "171     0.117605\n",
      "178     0.163891\n",
      "211     0.142786\n",
      "262     0.131604\n",
      "407     0.204735\n",
      "431     0.026762\n",
      "432     0.096949\n",
      "441     0.186488\n",
      "481     0.051188\n",
      "514     0.137658\n",
      "565     0.148039\n",
      "579     0.220066\n",
      "622     0.025675\n",
      "815     0.073780\n",
      "846     0.079058\n",
      "944     0.155780\n",
      "948     0.210938\n",
      "967     0.045308\n",
      "981     0.137697\n",
      "1004    0.042133\n",
      "1006    0.097053\n",
      "1081    0.091260\n",
      "1101    0.161113\n",
      "1133    0.128153\n",
      "1332    0.183227\n",
      "1513    0.136282\n",
      "1556    0.058324\n",
      "1838    0.105575\n",
      "Name: calc_ecc, dtype: float64\n",
      "51      0.219447\n",
      "127     0.185312\n",
      "152     0.281983\n",
      "171     0.194636\n",
      "178     0.246347\n",
      "211     0.225966\n",
      "262     0.264946\n",
      "407     0.262008\n",
      "431     0.144339\n",
      "432     0.158689\n",
      "441     1.089028\n",
      "481     0.117034\n",
      "514     0.255368\n",
      "565     0.227533\n",
      "579     0.260419\n",
      "622     0.106535\n",
      "815     0.116312\n",
      "846     0.194571\n",
      "944     0.204330\n",
      "948     0.258629\n",
      "967     0.125023\n",
      "981     0.189337\n",
      "1004    0.090883\n",
      "1006    1.071987\n",
      "1081    0.206880\n",
      "1101    0.245915\n",
      "1133    0.182493\n",
      "1332    1.041726\n",
      "1513    0.216233\n",
      "1556    0.113590\n",
      "1838    1.049965\n",
      "Name: e, dtype: float64\n",
      "29      0.239717\n",
      "460     0.031173\n",
      "608     0.040350\n",
      "659     0.076946\n",
      "703     0.114733\n",
      "785     0.101306\n",
      "789     0.028646\n",
      "815     0.034390\n",
      "892     0.101831\n",
      "1057    0.038202\n",
      "1269    0.094807\n",
      "1801    0.152212\n",
      "Name: calc_sinI, dtype: float64\n",
      "29      0.446877\n",
      "460     0.230505\n",
      "608     0.223066\n",
      "659     0.208343\n",
      "703     0.299121\n",
      "785     0.222195\n",
      "789     0.228006\n",
      "815     0.247714\n",
      "892     0.247726\n",
      "1057    0.149537\n",
      "1269    0.267564\n",
      "1801    0.389493\n",
      "Name: sinI, dtype: float64\n",
      "262     0.131604\n",
      "431     0.026762\n",
      "514     0.137658\n",
      "846     0.079058\n",
      "1081    0.091260\n",
      "Name: calc_ecc, dtype: float64\n",
      "262     0.264946\n",
      "431     0.144339\n",
      "514     0.255368\n",
      "846     0.194571\n",
      "1081    0.206880\n",
      "Name: e, dtype: float64\n"
     ]
    }
   ],
   "source": [
    "AstFam_resid_sini = (prop_elem['calc_sinI']-AstFam['sinI']).values\n",
    "AstFam_resid_e = (prop_elem['calc_ecc']-AstFam['e']).values\n",
    "\n",
    "AstDys_resid_sini = prop_elem['calc_sinI']-AstDys['sinI']\n",
    "AstDys_resid_e = prop_elem['calc_ecc']-AstDys['e']\n",
    "\n",
    "low_i = np.where(AstFam_resid_sini < -0.04)\n",
    "low_e = np.where(AstFam_resid_e < -0.04)\n",
    "\n",
    "print(low_i[0])\n",
    "print(prop_elem['Name'].values[316])\n",
    "print(AstFam_resid_sini[low_i[0]])\n",
    "print(prop_elem['calc_sinI'].values[low_i[0]])\n",
    "print(AstFam['sinI'].values[low_i[0]])\n",
    "#print(prop_elem['obs_ecc'][low_e[0]])\n",
    "print(prop_elem['calc_ecc'][low_e[0]])\n",
    "print(AstFam['e'][low_e[0]])\n",
    "\n",
    "low_i = np.where(AstDys_resid_sini < -0.1)\n",
    "low_e = np.where(AstDys_resid_e < -0.1)\n",
    "\n",
    "#print(prop_elem['obs_sinI'][low_i[0]])\n",
    "print(prop_elem['calc_sinI'][low_i[0]])\n",
    "print(AstFam['sinI'][low_i[0]])\n",
    "\n",
    "print(prop_elem['calc_ecc'][low_e[0]])\n",
    "#print(prop_elem['obs_ecc'][low_e[0]])\n",
    "print(AstFam['e'][low_e[0]])"
   ]
  },
  {
   "cell_type": "code",
   "execution_count": 40,
   "metadata": {},
   "outputs": [],
   "source": [
    "prop_elem.to_csv('prop_elem_AstFam_3 freq.csv')"
   ]
  },
  {
   "cell_type": "code",
   "execution_count": 43,
   "metadata": {},
   "outputs": [
    {
     "data": {
      "image/png": "[encoded data removed]",
      "text/plain": [
       "<Figure size 720x432 with 1 Axes>"
      ]
     },
     "metadata": {
      "needs_background": "light"
     },
     "output_type": "display_data"
    },
    {
     "data": {
      "image/png": "[encoded data removed]",
      "text/plain": [
       "<Figure size 720x432 with 1 Axes>"
      ]
     },
     "metadata": {
      "needs_background": "light"
     },
     "output_type": "display_data"
    }
   ],
   "source": [
    "plt.figure(figsize=(10,6))\n",
    "plt.scatter(prop_elem['sma'],np.array(AstFam['sinI'])-np.array(AstDys['sinI']),s=10)\n",
    "#plt.scatter(prop_elem['sma'][res],AstFam['sinI'][res]-AstDys['sinI'][res],s=10,c='r')\n",
    "plt.errorbar(prop_elem['sma'],np.array(AstFam['sinI'])-np.array(AstDys['sinI']), yerr=AstDys_sig['sinI'], xerr=None,fmt='none')\n",
    "plt.xlabel('SMA (AU)')\n",
    "plt.ylabel('Database SinI Residuals')\n",
    "plt.xlim(2,4)\n",
    "plt.ylim(-0.04,0.04)\n",
    "plt.show()\n",
    "\n",
    "plt.figure(figsize=(10,6))\n",
    "plt.scatter(prop_elem['sma'],np.array(AstFam['e'])-np.array(AstDys['e']),s=10)\n",
    "#plt.scatter(prop_elem['sma'][res],AstFam['e'][res]-AstDys['e'][res],s=10,c='r')\n",
    "plt.errorbar(prop_elem['sma'],np.array(AstFam['e'])-np.array(AstDys['e']), yerr=AstDys_sig['e'], xerr=None,fmt='none')\n",
    "plt.xlabel('SMA (AU)')\n",
    "plt.ylabel('Database Ecc Residuals')\n",
    "plt.xlim(2,4)\n",
    "plt.ylim(-0.1,0.1)\n",
    "plt.show()\n",
    "\n"
   ]
  },
  {
   "cell_type": "code",
   "execution_count": 37,
   "metadata": {},
   "outputs": [
    {
     "name": "stdout",
     "output_type": "stream",
     "text": [
      "[ 441 1006 1332 1838]\n",
      "447.0\n",
      "[0.9259004 0.9181786 0.8245586 0.9214022]\n",
      "441     0.163128\n",
      "1006    0.153808\n",
      "1332    0.217167\n",
      "1838    0.128563\n",
      "Name: e, dtype: float64\n",
      "441     1.089028\n",
      "1006    1.071987\n",
      "1332    1.041726\n",
      "1838    1.049965\n",
      "Name: e, dtype: float64\n",
      "Resid reduced chi-square sinI:  0.005564932498020001\n",
      "Resid reduced chi-square ecc:  3.2529910564089906\n"
     ]
    }
   ],
   "source": [
    "Ast_resid_sini = np.array(AstFam['sinI'])-np.array(AstDys['sinI'])\n",
    "Ast_resid_e = np.array(AstFam['e'])-np.array(AstDys['e'])\n",
    "\n",
    "\n",
    "\n",
    "low_i = np.where(Ast_resid_sini > 0.1)\n",
    "low_e = np.where(Ast_resid_e > 0.1)\n",
    "\n",
    "print(low_e[0])\n",
    "print(prop_elem['Name'].values[440])\n",
    "print(Ast_resid_e[low_e[0]])\n",
    "print(AstDys['e'][low_e[0]])\n",
    "print(AstFam['e'][low_e[0]])\n",
    "\n",
    "redsini = np.sum(Ast_resid_sini**2)\n",
    "rede = np.sum(Ast_resid_e**2)\n",
    "print('Resid reduced chi-square sinI: ', redsini)\n",
    "print('Resid reduced chi-square ecc: ', rede)"
   ]
  },
  {
   "cell_type": "code",
   "execution_count": 168,
   "metadata": {},
   "outputs": [
    {
     "name": "stdout",
     "output_type": "stream",
     "text": [
      "[35]\n"
     ]
    },
    {
     "data": {
      "text/plain": [
       "34"
      ]
     },
     "execution_count": 168,
     "metadata": {},
     "output_type": "execute_result"
    }
   ],
   "source": [
    "thing = np.arange(100)\n",
    "\n",
    "print(thing[35:36])\n",
    "round(34.5)"
   ]
  },
  {
   "cell_type": "code",
   "execution_count": 25,
   "metadata": {},
   "outputs": [
    {
     "name": "stdout",
     "output_type": "stream",
     "text": [
      "20358.13212446179\n"
     ]
    }
   ],
   "source": [
    "# p1**2 = a1**3\n",
    "# p2**2 = a2**3\n",
    "# p1/p2 = 5:2\n",
    "# a1**3/a2**3 = 25/4\n",
    "\n",
    "perrat = (2/5)**2\n",
    "print((37500**3*perrat)**(1/3))"
   ]
  },
  {
   "cell_type": "code",
   "execution_count": 26,
   "metadata": {},
   "outputs": [
    {
     "ename": "ModuleNotFoundError",
     "evalue": "No module named 'bin_to_df'",
     "output_type": "error",
     "traceback": [
      "\u001b[0;31m---------------------------------------------------------------------------\u001b[0m",
      "\u001b[0;31mModuleNotFoundError\u001b[0m                       Traceback (most recent call last)",
      "\u001b[0;32m/tmp/ipykernel_347569/634174269.py\u001b[0m in \u001b[0;36m<module>\u001b[0;34m\u001b[0m\n\u001b[0;32m----> 1\u001b[0;31m \u001b[0;32mfrom\u001b[0m \u001b[0mbin_to_df\u001b[0m \u001b[0;32mimport\u001b[0m \u001b[0mbin_to_df\u001b[0m\u001b[0;34m\u001b[0m\u001b[0;34m\u001b[0m\u001b[0m\n\u001b[0m\u001b[1;32m      2\u001b[0m \u001b[0;34m\u001b[0m\u001b[0m\n\u001b[1;32m      3\u001b[0m \u001b[0marc1\u001b[0m \u001b[0;34m=\u001b[0m \u001b[0mrebound\u001b[0m\u001b[0;34m.\u001b[0m\u001b[0marchive\u001b[0m\u001b[0;34m(\u001b[0m\u001b[0;34m'Sims/AstFam/175/archive_megno.bin'\u001b[0m\u001b[0;34m)\u001b[0m\u001b[0;34m\u001b[0m\u001b[0;34m\u001b[0m\u001b[0m\n\u001b[1;32m      4\u001b[0m \u001b[0mser\u001b[0m \u001b[0;34m=\u001b[0m \u001b[0mbin_to_df\u001b[0m\u001b[0;34m(\u001b[0m\u001b[0marc1\u001b[0m\u001b[0;34m)\u001b[0m\u001b[0;34m\u001b[0m\u001b[0;34m\u001b[0m\u001b[0m\n",
      "\u001b[0;31mModuleNotFoundError\u001b[0m: No module named 'bin_to_df'"
     ]
    }
   ],
   "source": [
    "from bin_to_df import bin_to_df\n",
    "\n",
    "arc1 = rebound.archive('Sims/AstFam/175/archive_megno.bin')\n",
    "ser = bin_to_df(arc1)"
   ]
  },
  {
   "cell_type": "code",
   "execution_count": null,
   "metadata": {},
   "outputs": [],
   "source": []
  }
 ],
 "metadata": {
  "kernelspec": {
   "display_name": "SBDynT",
   "language": "python",
   "name": "sbdynt"
  },
  "language_info": {
   "codemirror_mode": {
    "name": "ipython",
    "version": 3
   },
   "file_extension": ".py",
   "mimetype": "text/x-python",
   "name": "python",
   "nbconvert_exporter": "python",
   "pygments_lexer": "ipython3",
   "version": "3.7.3"
  }
 },
 "nbformat": 4,
 "nbformat_minor": 4
}
