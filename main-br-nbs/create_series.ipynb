{
 "cells": [
  {
   "cell_type": "code",
   "execution_count": 55,
   "metadata": {},
   "outputs": [
    {
     "name": "stdout",
     "output_type": "stream",
     "text": [
      "0.0\n",
      "20000000.0\n"
     ]
    }
   ],
   "source": [
    "import pandas as pd\n",
    "import numpy as np\n",
    "import rebound\n",
    "import tools\n",
    "\n",
    "a = np.zeros(1);e = np.zeros(1);inc = np.zeros(1);phi = np.zeros(1)\n",
    "t = np.zeros(1);\n",
    "\n",
    "r2d = 180/np.pi\n",
    "objname = 'Ceres'\n",
    "sbody = 'Ceres'\n",
    "filename = \"Asteroids/\"+objname\n",
    "#filename = \"TNOs/\"+objname\n",
    "sa = rebound.SimulationArchive(filename+'/archive.bin')\n",
    "print(sa.tmin)\n",
    "print(sa.tmax)\n",
    "\n",
    "planets = ['mercury','venus','earth','mars','jupiter','saturn','uranus','neptune']\n",
    "\n",
    "a = np.zeros(len(sa));\n",
    "e = np.zeros(len(sa));\n",
    "inc = np.zeros(len(sa));\n",
    "qp = np.zeros(len(sa),dtype=complex);\n",
    "ptp = np.zeros(len(sa));\n",
    "qtp = np.zeros(len(sa));\n",
    "kh = np.zeros(len(sa),dtype=complex);\n",
    "#k = np.zeros(len(sa));\n",
    "t = np.zeros(len(sa));\n",
    "npl = 9\n",
    "\n",
    "qppl = np.asfortranarray(np.zeros(shape=[len(sa),npl],dtype=complex));\n",
    "#qpl = np.asfortranarray(np.zeros(shape=[len(sa),npl]));\n",
    "khpl = np.asfortranarray(np.zeros(shape=[len(sa),npl],dtype=complex));\n",
    "#kpl = np.asfortranarray(np.zeros(shape=[len(sa),npl]));\n",
    "\n",
    "hpl = np.zeros((len(sa),npl))\n",
    "kpl = np.zeros((len(sa),npl))\n",
    "ppl = np.zeros((len(sa),npl))\n",
    "qpl = np.zeros((len(sa),npl))\n",
    "\n",
    "hpart = np.zeros(len(sa))\n",
    "kpart = np.zeros(len(sa))\n",
    "ppart = np.zeros(len(sa))\n",
    "qpart = np.zeros(len(sa))\n",
    "\n",
    "apl = np.zeros((len(sa),npl))\n",
    "for j,sim in enumerate(sa):\n",
    "    tp = sim.particles[sbody+\"_bf\"]\n",
    "    com = sim.calculate_com()\n",
    "    o = tp.calculate_orbit(com)\n",
    "    t[j] = sim.t\n",
    "    a[j] = o.a\n",
    "    p = np.sin(o.inc)*np.sin(o.Omega)\n",
    "    q = np.sin(o.inc)*np.cos(o.Omega)\n",
    "    ptp[j] = p\n",
    "    qtp[j] = q\n",
    "    qp[j] = 1j*p + q\n",
    "    h = (o.e)*np.sin(o.Omega+o.omega)\n",
    "    k = (o.e)*np.cos(o.Omega+o.omega)\n",
    "    \n",
    "    hpart[j] = h\n",
    "    kpart[j] = k\n",
    "    ppart[j] = p\n",
    "    qpart[j] = q\n",
    "    \n",
    "    kh[j] = 1j*k + h\n",
    "    \n",
    "    e[j] = o.e\n",
    "    inc[j] = o.inc*180/np.pi\n",
    "    #print(sim.particles[1].inc)\n",
    "    for i in range (0,npl):\n",
    "        #print(planets[i])\n",
    "        \n",
    "        pl = sim.particles[i]\n",
    "        o = pl.calculate_orbit(com)\n",
    "        \n",
    "        apl[j,i] = o.a\n",
    "        ptemp = np.sin(o.inc)*np.sin(o.Omega)\n",
    "        qtemp = np.sin(o.inc)*np.cos(o.Omega)\n",
    "        qppl[j,i] = 1j*ptemp + qtemp\n",
    "        htemp = (o.e)*np.sin(o.Omega+o.omega)\n",
    "        ktemp = (o.e)*np.cos(o.Omega+o.omega)\n",
    "        khpl[j,i] = 1j*ktemp + htemp\n",
    "        hpl[j,i] = htemp\n",
    "        kpl[j,i] = ktemp\n",
    "        ppl[j,i] = ptemp\n",
    "        qpl[j,i] = qtemp"
   ]
  },
  {
   "cell_type": "code",
   "execution_count": 56,
   "metadata": {},
   "outputs": [
    {
     "name": "stdout",
     "output_type": "stream",
     "text": [
      "200001 9\n"
     ]
    }
   ],
   "source": [
    "series = pd.DataFrame(columns=['t','a','ecc','inc','p','q','h','k','hj','kj','pj','qj','hs','ks','ps','qs','hu','ku','pu','qu','hn','kn','pn','qn'])\n",
    "\n",
    "print(len(hpl),len(hpl[0,:]))\n",
    "series['t'] = t\n",
    "series['a'] = a\n",
    "series['e'] = e\n",
    "series['inc'] = inc\n",
    "series['p'] = ppart\n",
    "series['q'] = qpart\n",
    "series['h'] = hpart\n",
    "series['k'] = kpart\n",
    "series['hmc'] = hpl[:,0]\n",
    "series['kmc'] = kpl[:,0]\n",
    "series['pmc'] = ppl[:,0]\n",
    "series['qmc'] = qpl[:,0]\n",
    "series['hv'] = hpl[:,1]\n",
    "series['kv'] = kpl[:,1]\n",
    "series['pv'] = ppl[:,1]\n",
    "series['qv'] = qpl[:,1]\n",
    "series['he'] = hpl[:,2]\n",
    "series['ke'] = kpl[:,2]\n",
    "series['pe'] = ppl[:,2]\n",
    "series['qe'] = qpl[:,2]\n",
    "series['hmr'] = hpl[:,3]\n",
    "series['kmr'] = kpl[:,3]\n",
    "series['pmr'] = ppl[:,3]\n",
    "series['qmr'] = qpl[:,3]\n",
    "series['hj'] = hpl[:,4]\n",
    "series['kj'] = kpl[:,4]\n",
    "series['pj'] = ppl[:,4]\n",
    "series['qj'] = qpl[:,4]\n",
    "series['hs'] = hpl[:,5]\n",
    "series['ks'] = kpl[:,5]\n",
    "series['ps'] = ppl[:,5]\n",
    "series['qs'] = qpl[:,5]\n",
    "series['hu'] = hpl[:,6]\n",
    "series['ku'] = kpl[:,6]\n",
    "series['pu'] = ppl[:,6]\n",
    "series['qu'] = qpl[:,6]\n",
    "series['hn'] = hpl[:,7]\n",
    "series['kn'] = kpl[:,7]\n",
    "series['pn'] = ppl[:,7]\n",
    "series['qn'] = qpl[:,7]\n",
    "\n",
    "series.to_csv(filename+'/series.csv')"
   ]
  },
  {
   "cell_type": "code",
   "execution_count": 57,
   "metadata": {},
   "outputs": [
    {
     "name": "stdout",
     "output_type": "stream",
     "text": [
      "9\n",
      "[0.00417664 0.00369827 0.00355992 ... 0.00287113 0.00361433 0.00393199]\n",
      "[0.7159571  0.73105785 0.73719002 ... 0.72144577 0.72609832 0.73346744]\n",
      "[1.01626819 0.98305448 1.00566794 ... 1.00472689 0.99248581 1.00251304]\n",
      "[1.51922225 1.5398925  1.5333361  ... 1.53256158 1.52815696 1.50239854]\n",
      "[5.16958273 5.16957603 5.17394754 ... 5.17031937 5.17450886 5.16893986]\n",
      "[9.52620583 9.519402   9.52406816 ... 9.53845783 9.53685799 9.52635421]\n",
      "[19.18461624 19.18504202 19.18777973 ... 19.18320208 19.19305587\n",
      " 19.18472991]\n",
      "[30.06834593 30.06844679 30.06957538 ... 30.06818506 30.06632307\n",
      " 30.06273859]\n"
     ]
    }
   ],
   "source": [
    "print(len(sim.particles))\n",
    "print(apl[:,0])\n",
    "print(apl[:,1])\n",
    "print(apl[:,2])\n",
    "print(apl[:,3])\n",
    "print(apl[:,4])\n",
    "print(apl[:,5])\n",
    "print(apl[:,6])\n",
    "print(apl[:,7])"
   ]
  },
  {
   "cell_type": "code",
   "execution_count": 45,
   "metadata": {},
   "outputs": [
    {
     "ename": "IndexError",
     "evalue": "index 8 is out of bounds for axis 1 with size 8",
     "output_type": "error",
     "traceback": [
      "\u001b[0;31m---------------------------------------------------------------------------\u001b[0m",
      "\u001b[0;31mIndexError\u001b[0m                                Traceback (most recent call last)",
      "\u001b[0;32m/tmp/ipykernel_368843/70411273.py\u001b[0m in \u001b[0;36m<module>\u001b[0;34m\u001b[0m\n\u001b[0;32m----> 1\u001b[0;31m \u001b[0mprint\u001b[0m\u001b[0;34m(\u001b[0m\u001b[0mh\u001b[0m\u001b[0;34m-\u001b[0m\u001b[0mhpl\u001b[0m\u001b[0;34m[\u001b[0m\u001b[0;34m:\u001b[0m\u001b[0;34m,\u001b[0m\u001b[0;36m8\u001b[0m\u001b[0;34m]\u001b[0m\u001b[0;34m)\u001b[0m\u001b[0;34m\u001b[0m\u001b[0;34m\u001b[0m\u001b[0m\n\u001b[0m",
      "\u001b[0;31mIndexError\u001b[0m: index 8 is out of bounds for axis 1 with size 8"
     ]
    }
   ],
   "source": [
    "print(h-hpl[:,8])"
   ]
  },
  {
   "cell_type": "code",
   "execution_count": null,
   "metadata": {},
   "outputs": [],
   "source": []
  }
 ],
 "metadata": {
  "kernelspec": {
   "display_name": "SBDynT",
   "language": "python",
   "name": "sbdynt"
  },
  "language_info": {
   "codemirror_mode": {
    "name": "ipython",
    "version": 3
   },
   "file_extension": ".py",
   "mimetype": "text/x-python",
   "name": "python",
   "nbconvert_exporter": "python",
   "pygments_lexer": "ipython3",
   "version": "3.7.3"
  }
 },
 "nbformat": 4,
 "nbformat_minor": 4
}
