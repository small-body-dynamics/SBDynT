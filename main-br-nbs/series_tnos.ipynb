{
 "cells": [
  {
   "cell_type": "code",
   "execution_count": 6,
   "metadata": {},
   "outputs": [
    {
     "name": "stdout",
     "output_type": "stream",
     "text": [
      "0.0\n",
      "200000000.0\n"
     ]
    }
   ],
   "source": [
    "import pandas as pd\n",
    "import numpy as np\n",
    "import rebound\n",
    "import tools\n",
    "\n",
    "a = np.zeros(1);e = np.zeros(1);inc = np.zeros(1);phi = np.zeros(1)\n",
    "t = np.zeros(1);\n",
    "\n",
    "r2d = 180/np.pi\n",
    "objname = '2004PY107'\n",
    "sbody = '2004PY107'\n",
    "#filename = \"Asteroids/\"+objname\n",
    "filename = \"TNOs/\"+objname\n",
    "sa = rebound.SimulationArchive(filename+'/archive.bin')\n",
    "print(sa.tmin)\n",
    "print(sa.tmax)\n",
    "\n",
    "planets = ['jupiter','saturn','uranus','neptune']\n",
    "\n",
    "a = np.zeros(len(sa));\n",
    "e = np.zeros(len(sa));\n",
    "inc = np.zeros(len(sa));\n",
    "qp = np.zeros(len(sa),dtype=complex);\n",
    "ptp = np.zeros(len(sa));\n",
    "qtp = np.zeros(len(sa));\n",
    "kh = np.zeros(len(sa),dtype=complex);\n",
    "#k = np.zeros(len(sa));\n",
    "t = np.zeros(len(sa));\n",
    "npl = 4\n",
    "\n",
    "qppl = np.asfortranarray(np.zeros(shape=[len(sa),npl],dtype=complex));\n",
    "#qpl = np.asfortranarray(np.zeros(shape=[len(sa),npl]));\n",
    "khpl = np.asfortranarray(np.zeros(shape=[len(sa),npl],dtype=complex));\n",
    "#kpl = np.asfortranarray(np.zeros(shape=[len(sa),npl]));\n",
    "\n",
    "hpl = np.zeros((len(sa),npl))\n",
    "kpl = np.zeros((len(sa),npl))\n",
    "ppl = np.zeros((len(sa),npl))\n",
    "qpl = np.zeros((len(sa),npl))\n",
    "\n",
    "hpart = np.zeros(len(sa))\n",
    "kpart = np.zeros(len(sa))\n",
    "ppart = np.zeros(len(sa))\n",
    "qpart = np.zeros(len(sa))\n",
    "\n",
    "for j,sim in enumerate(sa):\n",
    "    tp = sim.particles[sbody+\"_bf\"]\n",
    "    com = sim.calculate_com()\n",
    "    o = tp.calculate_orbit(com)\n",
    "    t[j] = sim.t\n",
    "    a[j] = o.a\n",
    "    p = np.sin(o.inc)*np.sin(o.Omega)\n",
    "    q = np.sin(o.inc)*np.cos(o.Omega)\n",
    "    ptp[j] = p\n",
    "    qtp[j] = q\n",
    "    qp[j] = 1j*p + q\n",
    "    h = (o.e)*np.sin(o.Omega+o.omega)\n",
    "    k = (o.e)*np.cos(o.Omega+o.omega)\n",
    "    \n",
    "    hpart[j] = h\n",
    "    kpart[j] = k\n",
    "    ppart[j] = p\n",
    "    qpart[j] = q\n",
    "    \n",
    "    kh[j] = 1j*k + h\n",
    "    \n",
    "    e[j] = o.e\n",
    "    inc[j] = o.inc*180/np.pi\n",
    "    #print(sim.particles[1].inc)\n",
    "    for i in range (1,npl+1):\n",
    "        #print(planets[i])\n",
    "        pl = sim.particles[i]\n",
    "        o = pl.calculate_orbit(com)\n",
    "        ptemp = np.sin(pl.inc)*np.sin(pl.Omega)\n",
    "        qtemp = np.sin(pl.inc)*np.cos(pl.Omega)\n",
    "        qppl[j,i-1] = 1j*ptemp + qtemp\n",
    "        htemp = (pl.e)*np.sin(pl.Omega+pl.omega)\n",
    "        ktemp = (pl.e)*np.cos(pl.Omega+pl.omega)\n",
    "        khpl[j,i-1] = 1j*ktemp + htemp\n",
    "        hpl[j,i-1] = htemp\n",
    "        kpl[j,i-1] = ktemp\n",
    "        ppl[j,i-1] = ptemp\n",
    "        qpl[j,i-1] = qtemp"
   ]
  },
  {
   "cell_type": "code",
   "execution_count": 7,
   "metadata": {},
   "outputs": [
    {
     "name": "stdout",
     "output_type": "stream",
     "text": [
      "200001 4\n"
     ]
    }
   ],
   "source": [
    "series = pd.DataFrame(columns=['t','a','ecc','inc','p','q','h','k','hj','kj','pj','qj','hs','ks','ps','qs','hu','ku','pu','qu','hn','kn','pn','qn'])\n",
    "\n",
    "print(len(hpl),len(hpl[0,:]))\n",
    "series['t'] = t\n",
    "series['a'] = a\n",
    "series['e'] = e\n",
    "series['inc'] = inc\n",
    "series['p'] = ppart\n",
    "series['q'] = qpart\n",
    "series['h'] = hpart\n",
    "series['k'] = kpart\n",
    "series['hj'] = hpl[:,0]\n",
    "series['kj'] = kpl[:,0]\n",
    "series['pj'] = ppl[:,0]\n",
    "series['qj'] = qpl[:,0]\n",
    "series['hs'] = hpl[:,1]\n",
    "series['ks'] = kpl[:,1]\n",
    "series['ps'] = ppl[:,1]\n",
    "series['qs'] = qpl[:,1]\n",
    "series['hu'] = hpl[:,2]\n",
    "series['ku'] = kpl[:,2]\n",
    "series['pu'] = ppl[:,2]\n",
    "series['qu'] = qpl[:,2]\n",
    "series['hn'] = hpl[:,3]\n",
    "series['kn'] = kpl[:,3]\n",
    "series['pn'] = ppl[:,3]\n",
    "series['qn'] = qpl[:,3]\n",
    "\n",
    "series.to_csv(filename+'/series.csv')"
   ]
  },
  {
   "cell_type": "code",
   "execution_count": null,
   "metadata": {},
   "outputs": [],
   "source": []
  }
 ],
 "metadata": {
  "kernelspec": {
   "display_name": "SBDynT",
   "language": "python",
   "name": "sbdynt"
  },
  "language_info": {
   "codemirror_mode": {
    "name": "ipython",
    "version": 3
   },
   "file_extension": ".py",
   "mimetype": "text/x-python",
   "name": "python",
   "nbconvert_exporter": "python",
   "pygments_lexer": "ipython3",
   "version": "3.7.3"
  }
 },
 "nbformat": 4,
 "nbformat_minor": 4
}
