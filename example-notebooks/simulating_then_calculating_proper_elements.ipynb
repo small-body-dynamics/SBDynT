{
 "cells": [
  {
   "cell_type": "code",
   "execution_count": 1,
   "metadata": {},
   "outputs": [],
   "source": [
    "import numpy as np\n",
    "import rebound\n",
    "import matplotlib.pyplot as plt\n",
    "import os\n",
    "import pandas as pd\n",
    "\n",
    "os.chdir('../src/')\n",
    "\n",
    "import make_files\n",
    "import integrate\n",
    "import prop_elem"
   ]
  },
  {
   "cell_type": "markdown",
   "metadata": {},
   "source": [
    "# Running a Single Object and Producing Proper Elements"
   ]
  },
  {
   "cell_type": "markdown",
   "metadata": {},
   "source": [
    "# Initializing your data\n",
    "\n",
    "SBDynT allows you to start an integration by producing a Rebound SimulationArchive with all of the particles needed for the simulation. You do so with the \"make_files.py\" script.\n",
    "\n",
    "The make function in this script takes 4 inputs,\n",
    "- (str) obj_directory: The name of the destination folder with the archive file.\n",
    "- (boolean) rocky_planets: If True, will include all 8 planets in integration, otherwise will just use gas giants. The default is False.\n",
    "- (str) des: The name/designation of the object in question according to JPL Horizons naming coventions in the Small Body Database.\n",
    "- (int) clones: The number of clones you want to include in the run. Defualt is set to 0.\n",
    "\n",
    "This will produce a small archive.bin file contianing the particles representing the Sun, 8 planets, and the primary object, plus any clones you include in the run."
   ]
  },
  {
   "cell_type": "code",
   "execution_count": 2,
   "metadata": {},
   "outputs": [
    {
     "name": "stdout",
     "output_type": "stream",
     "text": [
      "OrderedDict([('elements', OrderedDict([('e', 0.1890254906762681), ('e_sig', 4.07772156992209e-06), ('q', <Quantity 35.15753531 AU>), ('q_sig', <Quantity 0.0003345 AU>), ('tp', <Quantity 2500348.14687054 d>), ('tp_sig', <Quantity 0.50408975 d>), ('om', <Quantity 121.91785657 deg>), ('om_sig', <Quantity 7.46983015e-05 deg>), ('w', <Quantity 239.1087799 deg>), ('w_sig', <Quantity 0.00121133 deg>), ('i', <Quantity 28.20045202 deg>), ('i_sig', <Quantity 5.6967942e-06 deg>)])), ('labels', ['e', 'q', 'tp', 'node', 'peri', 'i']), ('epoch', <Quantity 2457790.5 d>), ('data', array([[ 1.66278132e-11, -1.31819456e-09, -1.54982565e-06,\n",
      "        -4.46176132e-11, -4.08136126e-10, -2.61384397e-12],\n",
      "       [-1.31819456e-09,  1.11889341e-07,  9.52379215e-05,\n",
      "         3.57619570e-09, -6.98869320e-08,  2.16972346e-10],\n",
      "       [-1.54982565e-06,  9.52379215e-05,  2.54106476e-01,\n",
      "         4.22343507e-06,  4.35922644e-04,  2.12878287e-07],\n",
      "       [-4.46176132e-11,  3.57619570e-09,  4.22343507e-06,\n",
      "         5.57983625e-09, -3.72953634e-09,  4.19395567e-10],\n",
      "       [-4.08136126e-10, -6.98869320e-08,  4.35922644e-04,\n",
      "        -3.72953634e-09,  1.46732611e-06, -4.20518564e-10],\n",
      "       [-2.61384397e-12,  2.16972346e-10,  2.12878287e-07,\n",
      "         4.19395567e-10, -4.20518564e-10,  3.24534642e-11]]))]) 0.1890254906762681\n"
     ]
    }
   ],
   "source": [
    "make_files.make('Haumea',True)"
   ]
  },
  {
   "cell_type": "markdown",
   "metadata": {},
   "source": [
    "# Integrating A Single or Multiple Simulations\n",
    "\n",
    "The integrate.py script can take the produced archive.bin from make_file, and can then run Rebound integrations for a specified amount of time on the files. You do so with the integrate function, with the following inputs:\n",
    "- (str) objname: The name of the object you are running, or if you are running a list of multiple objects, it will be the integer index of the object in the file list.\n",
    "- (float) tmax: The number of years to run the integration for. Default is set to 10 Myr.\n",
    "- (float) tout: The desired increment of years to save in your archive.bin. Default is set to save data once every 1000 years. \n",
    "- (str) filename: The name of the file containing the list of object names you are integrating. If you are only running a single object, this string can be left alone, since the defualt is the \"Single\" filename.\n",
    "\n",
    "Below, I run the Haumea system, which I initizalied above, for a 100,000 year period, saving data every 100 years. "
   ]
  },
  {
   "cell_type": "code",
   "execution_count": 3,
   "metadata": {},
   "outputs": [
    {
     "name": "stdout",
     "output_type": "stream",
     "text": [
      "../data/Single/Haumea\n"
     ]
    }
   ],
   "source": [
    "integrate.integrate('Haumea',1e5,1e2)"
   ]
  },
  {
   "cell_type": "markdown",
   "metadata": {},
   "source": [
    "# Producing Proper Elements\n",
    "\n",
    "Proper elements can be produced for a single object, or for a given list of objects with finished integrations, using the prop_elem.py script. You cna do so using the prop_calc function with the following inputs:\n",
    "- (str) objname: The name of the object. \n",
    "- (str) filename: The name of the run objects. The default is \"Single\", representing the single objects. \n"
   ]
  },
  {
   "cell_type": "code",
   "execution_count": 4,
   "metadata": {},
   "outputs": [
    {
     "name": "stdout",
     "output_type": "stream",
     "text": [
      "../data/Single/Haumea/archive.bin\n",
      "1001\n"
     ]
    }
   ],
   "source": [
    "data = prop_elem.prop_calc('Haumea')\n",
    "\n",
    "#print(len(data),len(data[0]),data)\n",
    "#column_names = ['Objname','ObsEcc','ObsSin(Inc)','PropEcc','PropSin(Inc)','PropSMA','0_2PE','1_3PE','2_4PE','3_5PE','4_6PE','5_7PE','6_8PE','7_9PE','8_10PE']\n",
    "#data_df = pd.DataFrame(np.array([data]),columns = column_names)\n",
    "#data_df.to_csv('../data/Single/Lempo/Lempo_prop_elem.csv')"
   ]
  },
  {
   "cell_type": "code",
   "execution_count": 5,
   "metadata": {},
   "outputs": [
    {
     "data": {
      "text/plain": [
       "['Haumea',\n",
       " 43.071601171651814,\n",
       " 0.1952753063562486,\n",
       " 0.4723362594408924,\n",
       " 6.436546566537169,\n",
       " 43.071601171651814,\n",
       " 0.19526523992602737,\n",
       " 0.0030910804667589973,\n",
       " 6.448071399055315,\n",
       " 43.064974200051545,\n",
       " 0.0003231343792292794,\n",
       " 0.0005634573677117782,\n",
       " 6.573997930275843,\n",
       " 43.06449490085648,\n",
       " 0.000132833124040947,\n",
       " 0.0005416757663700114,\n",
       " 6.573962209978486,\n",
       " 43.086415681109976,\n",
       " 0.00012888228165202403,\n",
       " 0.0005431070725583297,\n",
       " 6.575626601429405,\n",
       " 43.05475376305476,\n",
       " 0.00017247366961337682,\n",
       " 0.0005572803730945918,\n",
       " 6.5732227072675515,\n",
       " 43.0742119410687,\n",
       " 0.00013531848431284625,\n",
       " 0.0005414868301235252,\n",
       " 6.574699904854157,\n",
       " 43.08269809657761,\n",
       " 0.00035438123816979245,\n",
       " 0.0005758142849845705,\n",
       " 6.575343414990912,\n",
       " 43.05082240783253,\n",
       " 0.00014446413582961437,\n",
       " 0.0005503571994370801,\n",
       " 6.5729244247990115,\n",
       " 43.08011494111892,\n",
       " 0.0001427125229563513,\n",
       " 0.0005441205744978739,\n",
       " 6.575148096067269,\n",
       " 43.081801410048335,\n",
       " 0.000373266033323908,\n",
       " 0.0005851146781020545,\n",
       " 6.575275207122936,\n",
       " 0.012183617067507098,\n",
       " 0.19505332451205942,\n",
       " 0.0025353016435563924,\n",
       " 0.12639870138614942,\n",
       " 0.014814509458162206,\n",
       " -0.19489197389270346,\n",
       " -0.002505965788656943,\n",
       " 0.12755520237409002]"
      ]
     },
     "execution_count": 5,
     "metadata": {},
     "output_type": "execute_result"
    }
   ],
   "source": [
    "data"
   ]
  },
  {
   "cell_type": "markdown",
   "metadata": {},
   "source": [
    "# Running Multiple Objects"
   ]
  },
  {
   "cell_type": "markdown",
   "metadata": {},
   "source": [
    "# Initializing the List of Objects\n",
    "\n",
    "To run multiple objects, you will start by providing a list of names of objects corresponding to their designations in JPL Horizons. In this case, I am using a group of objects I will call the \"Test\" objects, with the names held in the file \"Test_data.csv\". You can include any data you want in this file, but the file must include a column named \"Name\" witht he object names within.\n",
    "\n",
    "You may initialize all of these objects with the make_file.py function \"make_multi\" with inputs:\n",
    "- (str) filename: The name of the file with the list of object names. \n",
    "- (boolean) rockp: If True, will include all 8 planets in each simulation. Otherwise will only include the 4 giant planets. \n",
    "- (int) clones: The number of clones per object you want to include. "
   ]
  },
  {
   "cell_type": "code",
   "execution_count": 2,
   "metadata": {},
   "outputs": [
    {
     "name": "stdout",
     "output_type": "stream",
     "text": [
      "['jupiter', 'saturn', 'uranus', 'neptune'] 2013 RQ98 0\n",
      "['jupiter', 'saturn', 'uranus', 'neptune'] 2013 RQ155 0\n",
      "['jupiter', 'saturn', 'uranus', 'neptune'] 2013 RJ158 0\n",
      "['jupiter', 'saturn', 'uranus', 'neptune'] 2013 RR155 0\n",
      "['jupiter', 'saturn', 'uranus', 'neptune'] 2013 QX103 0\n",
      "['jupiter', 'saturn', 'uranus', 'neptune'] 2013 RS155 0\n",
      "horizons_api.query_horizons_planets failed\n",
      "Unable to decode JSON results from Horizons API request\n",
      "run_reb.add_planets failed failed at                   horizons_api.query_horizons_planets for  jupiter\n",
      "run_reb.initialize_simulation failed at run_reb.add_planets\n",
      "['jupiter', 'saturn', 'uranus', 'neptune'] 2013 RT155 0\n",
      "horizons_api.query_sb_from_jpl failed\n",
      "Unable to decode JSON results from Horizons API request\n",
      "run_reb.initialize_simulation failed at horizons_api.query_sb_from_jpl\n",
      "['jupiter', 'saturn', 'uranus', 'neptune'] 2013 QR99 0\n",
      "horizons_api.query_sb_from_jpl failed\n",
      "Unable to decode JSON results from Horizons API request\n",
      "run_reb.initialize_simulation failed at horizons_api.query_sb_from_jpl\n",
      "['jupiter', 'saturn', 'uranus', 'neptune'] 2010 JJ210 0\n",
      "horizons_api.query_sb_from_jpl failed\n",
      "Unable to decode JSON results from Horizons API request\n",
      "run_reb.initialize_simulation failed at horizons_api.query_sb_from_jpl\n",
      "['jupiter', 'saturn', 'uranus', 'neptune'] 2013 SG113 0\n",
      "horizons_api.query_sb_from_jpl failed\n",
      "Unable to decode JSON results from Horizons API request\n",
      "run_reb.initialize_simulation failed at horizons_api.query_sb_from_jpl\n",
      "['jupiter', 'saturn', 'uranus', 'neptune'] 2013 RM124 0\n",
      "horizons_api.query_sb_from_jpl failed\n",
      "Unable to decode JSON results from Horizons API request\n",
      "run_reb.initialize_simulation failed at horizons_api.query_sb_from_jpl\n",
      "['jupiter', 'saturn', 'uranus', 'neptune'] 2005 PU21 0\n",
      "horizons_api.query_sb_from_jpl failed\n",
      "Unable to decode JSON results from Horizons API request\n",
      "run_reb.initialize_simulation failed at horizons_api.query_sb_from_jpl\n",
      "['jupiter', 'saturn', 'uranus', 'neptune'] 2013 RU155 0\n",
      "horizons_api.query_sb_from_jpl failed\n",
      "Unable to decode JSON results from Horizons API request\n",
      "run_reb.initialize_simulation failed at horizons_api.query_sb_from_jpl\n",
      "['jupiter', 'saturn', 'uranus', 'neptune'] 2003 QZ111 0\n",
      "horizons_api.query_sb_from_jpl failed\n",
      "Unable to decode JSON results from Horizons API request\n",
      "run_reb.initialize_simulation failed at horizons_api.query_sb_from_jpl\n",
      "['jupiter', 'saturn', 'uranus', 'neptune'] 2013 RM98 0\n",
      "['jupiter', 'saturn', 'uranus', 'neptune'] 2013 RP158 0\n",
      "['jupiter', 'saturn', 'uranus', 'neptune'] 2013 RE124 0\n",
      "['jupiter', 'saturn', 'uranus', 'neptune'] 2013 RO124 0\n",
      "['jupiter', 'saturn', 'uranus', 'neptune'] 2014 PM82 0\n",
      "['jupiter', 'saturn', 'uranus', 'neptune'] 2013 RV155 0\n",
      "['jupiter', 'saturn', 'uranus', 'neptune'] 2013 RS109 0\n",
      "['jupiter', 'saturn', 'uranus', 'neptune'] 2013 RF124 0\n",
      "['jupiter', 'saturn', 'uranus', 'neptune'] 2013 RB109 0\n",
      "['jupiter', 'saturn', 'uranus', 'neptune'] 2013 RP109 0\n",
      "['jupiter', 'saturn', 'uranus', 'neptune'] 2013 RW155 0\n",
      "horizons_api.query_sb_from_jpl failed\n",
      "\n",
      "unable to pull the GM value from the horizons results:\n",
      "\n",
      "*******************************************************************************\n",
      "JPL/DASTCOM            Small-body Index Search Results     2024-Mar-25 12:33:33\n",
      "\n",
      " Comet AND asteroid index search:\n",
      "\n",
      "    DES = K13RF5W;\n",
      "\n",
      " Matching small-bodies: \n",
      "    No matches found.\n",
      "*******************************************************************************\n",
      "\n",
      "run_reb.initialize_simulation failed at horizons_api.query_sb_from_jpl\n",
      "['jupiter', 'saturn', 'uranus', 'neptune'] 2013 TD187 0\n",
      "['jupiter', 'saturn', 'uranus', 'neptune'] 2013 VM46 0\n",
      "['jupiter', 'saturn', 'uranus', 'neptune'] 2013 TF187 0\n",
      "['jupiter', 'saturn', 'uranus', 'neptune'] 2013 RX155 0\n",
      "['jupiter', 'saturn', 'uranus', 'neptune'] 2002 PA149 0\n",
      "['jupiter', 'saturn', 'uranus', 'neptune'] 1997 RT5 0\n",
      "['jupiter', 'saturn', 'uranus', 'neptune'] 2013 RY155 0\n",
      "['jupiter', 'saturn', 'uranus', 'neptune'] 2013 RE109 0\n",
      "['jupiter', 'saturn', 'uranus', 'neptune'] 2013 RF109 0\n",
      "['jupiter', 'saturn', 'uranus', 'neptune'] 2013 TJ187 0\n",
      "['jupiter', 'saturn', 'uranus', 'neptune'] 2001 QF298 0\n",
      "['jupiter', 'saturn', 'uranus', 'neptune'] 2013 SM102 0\n",
      "['jupiter', 'saturn', 'uranus', 'neptune'] 2003 SQ317 0\n",
      "['jupiter', 'saturn', 'uranus', 'neptune'] 2013 SQ99 0\n",
      "['jupiter', 'saturn', 'uranus', 'neptune'] 2013 SA100 0\n",
      "['jupiter', 'saturn', 'uranus', 'neptune'] 2013 RZ155 0\n",
      "['jupiter', 'saturn', 'uranus', 'neptune'] 2015 TP362 0\n",
      "['jupiter', 'saturn', 'uranus', 'neptune'] 2013 RX108 0\n",
      "['jupiter', 'saturn', 'uranus', 'neptune'] 2013 RW124 0\n",
      "['jupiter', 'saturn', 'uranus', 'neptune'] 2013 RA156 0\n",
      "['jupiter', 'saturn', 'uranus', 'neptune'] 2013 RG109 0\n",
      "['jupiter', 'saturn', 'uranus', 'neptune'] 2003 QX111 0\n",
      "['jupiter', 'saturn', 'uranus', 'neptune'] 2014 UE241 0\n",
      "['jupiter', 'saturn', 'uranus', 'neptune'] 2013 RX124 0\n",
      "['jupiter', 'saturn', 'uranus', 'neptune'] 2013 RK158 0\n",
      "['jupiter', 'saturn', 'uranus', 'neptune'] 2013 RD124 0\n",
      "['jupiter', 'saturn', 'uranus', 'neptune'] 2013 RB156 0\n",
      "['jupiter', 'saturn', 'uranus', 'neptune'] 2013 RM109 0\n"
     ]
    },
    {
     "ename": "KeyboardInterrupt",
     "evalue": "",
     "output_type": "error",
     "traceback": [
      "\u001b[0;31m---------------------------------------------------------------------------\u001b[0m",
      "\u001b[0;31mKeyboardInterrupt\u001b[0m                         Traceback (most recent call last)",
      "\u001b[0;32m/tmp/ipykernel_582032/2067342484.py\u001b[0m in \u001b[0;36m<module>\u001b[0;34m\u001b[0m\n\u001b[0;32m----> 1\u001b[0;31m \u001b[0mmake_files\u001b[0m\u001b[0;34m.\u001b[0m\u001b[0mmake_multi\u001b[0m\u001b[0;34m(\u001b[0m\u001b[0;34m'DES_objects'\u001b[0m\u001b[0;34m)\u001b[0m\u001b[0;34m\u001b[0m\u001b[0;34m\u001b[0m\u001b[0m\n\u001b[0m",
      "\u001b[0;32m~/research/SBDynT_dev/src/make_files.py\u001b[0m in \u001b[0;36mmake_multi\u001b[0;34m(filename, rockp, clones)\u001b[0m\n\u001b[1;32m     79\u001b[0m \u001b[0;34m\u001b[0m\u001b[0m\n\u001b[1;32m     80\u001b[0m         \u001b[0;31m# Initialize simulation\u001b[0m\u001b[0;34m\u001b[0m\u001b[0;34m\u001b[0m\u001b[0;34m\u001b[0m\u001b[0m\n\u001b[0;32m---> 81\u001b[0;31m         \u001b[0mmake\u001b[0m\u001b[0;34m(\u001b[0m\u001b[0mstr\u001b[0m\u001b[0;34m(\u001b[0m\u001b[0mdes\u001b[0m\u001b[0;34m)\u001b[0m\u001b[0;34m,\u001b[0m\u001b[0mrockp\u001b[0m\u001b[0;34m,\u001b[0m\u001b[0mclones\u001b[0m\u001b[0;34m,\u001b[0m\u001b[0mfilename\u001b[0m\u001b[0;34m)\u001b[0m\u001b[0;34m\u001b[0m\u001b[0;34m\u001b[0m\u001b[0m\n\u001b[0m\u001b[1;32m     82\u001b[0m \u001b[0;34m\u001b[0m\u001b[0m\n\u001b[1;32m     83\u001b[0m \u001b[0;32mif\u001b[0m \u001b[0m__name__\u001b[0m \u001b[0;34m==\u001b[0m \u001b[0;34m\"__main__\"\u001b[0m\u001b[0;34m:\u001b[0m\u001b[0;34m\u001b[0m\u001b[0;34m\u001b[0m\u001b[0m\n",
      "\u001b[0;32m~/research/SBDynT_dev/src/make_files.py\u001b[0m in \u001b[0;36mmake\u001b[0;34m(des, rocky_planets, clones, filename)\u001b[0m\n\u001b[1;32m     32\u001b[0m     \u001b[0mos\u001b[0m\u001b[0;34m.\u001b[0m\u001b[0mmakedirs\u001b[0m\u001b[0;34m(\u001b[0m\u001b[0mobj_directory\u001b[0m\u001b[0;34m,\u001b[0m \u001b[0mexist_ok\u001b[0m\u001b[0;34m=\u001b[0m\u001b[0;32mTrue\u001b[0m\u001b[0;34m)\u001b[0m\u001b[0;34m\u001b[0m\u001b[0;34m\u001b[0m\u001b[0m\n\u001b[1;32m     33\u001b[0m     \u001b[0mprint\u001b[0m\u001b[0;34m(\u001b[0m\u001b[0mlist\u001b[0m\u001b[0;34m(\u001b[0m\u001b[0mplanet_id\u001b[0m\u001b[0;34m.\u001b[0m\u001b[0mvalues\u001b[0m\u001b[0;34m(\u001b[0m\u001b[0;34m)\u001b[0m\u001b[0;34m)\u001b[0m\u001b[0;34m,\u001b[0m \u001b[0mstr\u001b[0m\u001b[0;34m(\u001b[0m\u001b[0mdes\u001b[0m\u001b[0;34m)\u001b[0m\u001b[0;34m,\u001b[0m \u001b[0mclones\u001b[0m\u001b[0;34m)\u001b[0m\u001b[0;34m\u001b[0m\u001b[0;34m\u001b[0m\u001b[0m\n\u001b[0;32m---> 34\u001b[0;31m     \u001b[0mflag\u001b[0m\u001b[0;34m,\u001b[0m \u001b[0mepoch\u001b[0m\u001b[0;34m,\u001b[0m \u001b[0msim\u001b[0m \u001b[0;34m=\u001b[0m \u001b[0mrun_reb\u001b[0m\u001b[0;34m.\u001b[0m\u001b[0minitialize_simulation\u001b[0m\u001b[0;34m(\u001b[0m\u001b[0mplanets\u001b[0m\u001b[0;34m=\u001b[0m\u001b[0mlist\u001b[0m\u001b[0;34m(\u001b[0m\u001b[0mplanet_id\u001b[0m\u001b[0;34m.\u001b[0m\u001b[0mvalues\u001b[0m\u001b[0;34m(\u001b[0m\u001b[0;34m)\u001b[0m\u001b[0;34m)\u001b[0m\u001b[0;34m,\u001b[0m \u001b[0mdes\u001b[0m\u001b[0;34m=\u001b[0m\u001b[0mstr\u001b[0m\u001b[0;34m(\u001b[0m\u001b[0mdes\u001b[0m\u001b[0;34m)\u001b[0m\u001b[0;34m,\u001b[0m \u001b[0mclones\u001b[0m\u001b[0;34m=\u001b[0m\u001b[0mclones\u001b[0m\u001b[0;34m)\u001b[0m\u001b[0;34m\u001b[0m\u001b[0;34m\u001b[0m\u001b[0m\n\u001b[0m\u001b[1;32m     35\u001b[0m \u001b[0;34m\u001b[0m\u001b[0m\n\u001b[1;32m     36\u001b[0m     \u001b[0;31m# Save the initial state to an archive file\u001b[0m\u001b[0;34m\u001b[0m\u001b[0;34m\u001b[0m\u001b[0;34m\u001b[0m\u001b[0m\n",
      "\u001b[0;32m~/research/SBDynT_dev/src/run_reb.py\u001b[0m in \u001b[0;36minitialize_simulation\u001b[0;34m(planets, des, clones)\u001b[0m\n\u001b[1;32m    165\u001b[0m     \u001b[0;31m# missing planets\u001b[0m\u001b[0;34m\u001b[0m\u001b[0;34m\u001b[0m\u001b[0;34m\u001b[0m\u001b[0m\n\u001b[1;32m    166\u001b[0m     apflag, sim, sx, sy, sz, svx, svy, svz = add_planets(sim, planets=planets,\n\u001b[0;32m--> 167\u001b[0;31m                 epoch=epoch)\n\u001b[0m\u001b[1;32m    168\u001b[0m     \u001b[0;32mif\u001b[0m\u001b[0;34m(\u001b[0m\u001b[0mapflag\u001b[0m \u001b[0;34m<\u001b[0m \u001b[0;36m1\u001b[0m\u001b[0;34m)\u001b[0m\u001b[0;34m:\u001b[0m\u001b[0;34m\u001b[0m\u001b[0;34m\u001b[0m\u001b[0m\n\u001b[1;32m    169\u001b[0m         \u001b[0mprint\u001b[0m\u001b[0;34m(\u001b[0m\u001b[0;34m\"run_reb.initialize_simulation failed at run_reb.add_planets\"\u001b[0m\u001b[0;34m)\u001b[0m\u001b[0;34m\u001b[0m\u001b[0;34m\u001b[0m\u001b[0m\n",
      "\u001b[0;32m~/research/SBDynT_dev/src/run_reb.py\u001b[0m in \u001b[0;36madd_planets\u001b[0;34m(sim, planets, epoch)\u001b[0m\n\u001b[1;32m    108\u001b[0m     \u001b[0;32mfor\u001b[0m \u001b[0mpl\u001b[0m \u001b[0;32min\u001b[0m \u001b[0mplanets\u001b[0m\u001b[0;34m:\u001b[0m\u001b[0;34m\u001b[0m\u001b[0;34m\u001b[0m\u001b[0m\n\u001b[1;32m    109\u001b[0m         \u001b[0mflag\u001b[0m\u001b[0;34m,\u001b[0m \u001b[0mmass\u001b[0m\u001b[0;34m,\u001b[0m \u001b[0mradius\u001b[0m\u001b[0;34m,\u001b[0m \u001b[0;34m[\u001b[0m\u001b[0mx\u001b[0m\u001b[0;34m,\u001b[0m \u001b[0my\u001b[0m\u001b[0;34m,\u001b[0m \u001b[0mz\u001b[0m\u001b[0;34m]\u001b[0m\u001b[0;34m,\u001b[0m \u001b[0;34m[\u001b[0m\u001b[0mvx\u001b[0m\u001b[0;34m,\u001b[0m \u001b[0mvy\u001b[0m\u001b[0;34m,\u001b[0m \u001b[0mvz\u001b[0m\u001b[0;34m]\u001b[0m \u001b[0;34m=\u001b[0m\u001b[0;31m \u001b[0m\u001b[0;31m\\\u001b[0m\u001b[0;34m\u001b[0m\u001b[0;34m\u001b[0m\u001b[0m\n\u001b[0;32m--> 110\u001b[0;31m             \u001b[0mhorizons_api\u001b[0m\u001b[0;34m.\u001b[0m\u001b[0mquery_horizons_planets\u001b[0m\u001b[0;34m(\u001b[0m\u001b[0mobj\u001b[0m\u001b[0;34m=\u001b[0m\u001b[0mpl\u001b[0m\u001b[0;34m,\u001b[0m \u001b[0mepoch\u001b[0m\u001b[0;34m=\u001b[0m\u001b[0mepoch\u001b[0m\u001b[0;34m)\u001b[0m\u001b[0;34m\u001b[0m\u001b[0;34m\u001b[0m\u001b[0m\n\u001b[0m\u001b[1;32m    111\u001b[0m         \u001b[0;32mif\u001b[0m\u001b[0;34m(\u001b[0m\u001b[0mflag\u001b[0m \u001b[0;34m<\u001b[0m \u001b[0;36m1\u001b[0m\u001b[0;34m)\u001b[0m\u001b[0;34m:\u001b[0m\u001b[0;34m\u001b[0m\u001b[0;34m\u001b[0m\u001b[0m\n\u001b[1;32m    112\u001b[0m             print(\"run_reb.add_planets failed failed at \\\n",
      "\u001b[0;32m~/research/SBDynT_dev/src/horizons_api.py\u001b[0m in \u001b[0;36mquery_horizons_planets\u001b[0;34m(obj, epoch)\u001b[0m\n\u001b[1;32m     70\u001b[0m \u001b[0;34m\u001b[0m\u001b[0m\n\u001b[1;32m     71\u001b[0m     \u001b[0;31m# run the query and exit if it fails\u001b[0m\u001b[0;34m\u001b[0m\u001b[0;34m\u001b[0m\u001b[0;34m\u001b[0m\u001b[0m\n\u001b[0;32m---> 72\u001b[0;31m     \u001b[0mresponse\u001b[0m \u001b[0;34m=\u001b[0m \u001b[0mrequests\u001b[0m\u001b[0;34m.\u001b[0m\u001b[0mget\u001b[0m\u001b[0;34m(\u001b[0m\u001b[0murl\u001b[0m\u001b[0;34m)\u001b[0m\u001b[0;34m\u001b[0m\u001b[0;34m\u001b[0m\u001b[0m\n\u001b[0m\u001b[1;32m     73\u001b[0m     \u001b[0;32mtry\u001b[0m\u001b[0;34m:\u001b[0m\u001b[0;34m\u001b[0m\u001b[0;34m\u001b[0m\u001b[0m\n\u001b[1;32m     74\u001b[0m         \u001b[0mdata\u001b[0m \u001b[0;34m=\u001b[0m \u001b[0mjson\u001b[0m\u001b[0;34m.\u001b[0m\u001b[0mloads\u001b[0m\u001b[0;34m(\u001b[0m\u001b[0mresponse\u001b[0m\u001b[0;34m.\u001b[0m\u001b[0mtext\u001b[0m\u001b[0;34m)\u001b[0m\u001b[0;34m\u001b[0m\u001b[0;34m\u001b[0m\u001b[0m\n",
      "\u001b[0;32m~/.SBDynT/lib/python3.7/site-packages/requests/api.py\u001b[0m in \u001b[0;36mget\u001b[0;34m(url, params, **kwargs)\u001b[0m\n\u001b[1;32m     73\u001b[0m     \"\"\"\n\u001b[1;32m     74\u001b[0m \u001b[0;34m\u001b[0m\u001b[0m\n\u001b[0;32m---> 75\u001b[0;31m     \u001b[0;32mreturn\u001b[0m \u001b[0mrequest\u001b[0m\u001b[0;34m(\u001b[0m\u001b[0;34m'get'\u001b[0m\u001b[0;34m,\u001b[0m \u001b[0murl\u001b[0m\u001b[0;34m,\u001b[0m \u001b[0mparams\u001b[0m\u001b[0;34m=\u001b[0m\u001b[0mparams\u001b[0m\u001b[0;34m,\u001b[0m \u001b[0;34m**\u001b[0m\u001b[0mkwargs\u001b[0m\u001b[0;34m)\u001b[0m\u001b[0;34m\u001b[0m\u001b[0;34m\u001b[0m\u001b[0m\n\u001b[0m\u001b[1;32m     76\u001b[0m \u001b[0;34m\u001b[0m\u001b[0m\n\u001b[1;32m     77\u001b[0m \u001b[0;34m\u001b[0m\u001b[0m\n",
      "\u001b[0;32m~/.SBDynT/lib/python3.7/site-packages/requests/api.py\u001b[0m in \u001b[0;36mrequest\u001b[0;34m(method, url, **kwargs)\u001b[0m\n\u001b[1;32m     59\u001b[0m     \u001b[0;31m# cases, and look like a memory leak in others.\u001b[0m\u001b[0;34m\u001b[0m\u001b[0;34m\u001b[0m\u001b[0;34m\u001b[0m\u001b[0m\n\u001b[1;32m     60\u001b[0m     \u001b[0;32mwith\u001b[0m \u001b[0msessions\u001b[0m\u001b[0;34m.\u001b[0m\u001b[0mSession\u001b[0m\u001b[0;34m(\u001b[0m\u001b[0;34m)\u001b[0m \u001b[0;32mas\u001b[0m \u001b[0msession\u001b[0m\u001b[0;34m:\u001b[0m\u001b[0;34m\u001b[0m\u001b[0;34m\u001b[0m\u001b[0m\n\u001b[0;32m---> 61\u001b[0;31m         \u001b[0;32mreturn\u001b[0m \u001b[0msession\u001b[0m\u001b[0;34m.\u001b[0m\u001b[0mrequest\u001b[0m\u001b[0;34m(\u001b[0m\u001b[0mmethod\u001b[0m\u001b[0;34m=\u001b[0m\u001b[0mmethod\u001b[0m\u001b[0;34m,\u001b[0m \u001b[0murl\u001b[0m\u001b[0;34m=\u001b[0m\u001b[0murl\u001b[0m\u001b[0;34m,\u001b[0m \u001b[0;34m**\u001b[0m\u001b[0mkwargs\u001b[0m\u001b[0;34m)\u001b[0m\u001b[0;34m\u001b[0m\u001b[0;34m\u001b[0m\u001b[0m\n\u001b[0m\u001b[1;32m     62\u001b[0m \u001b[0;34m\u001b[0m\u001b[0m\n\u001b[1;32m     63\u001b[0m \u001b[0;34m\u001b[0m\u001b[0m\n",
      "\u001b[0;32m~/.SBDynT/lib/python3.7/site-packages/requests/sessions.py\u001b[0m in \u001b[0;36mrequest\u001b[0;34m(self, method, url, params, data, headers, cookies, files, auth, timeout, allow_redirects, proxies, hooks, stream, verify, cert, json)\u001b[0m\n\u001b[1;32m    527\u001b[0m         }\n\u001b[1;32m    528\u001b[0m         \u001b[0msend_kwargs\u001b[0m\u001b[0;34m.\u001b[0m\u001b[0mupdate\u001b[0m\u001b[0;34m(\u001b[0m\u001b[0msettings\u001b[0m\u001b[0;34m)\u001b[0m\u001b[0;34m\u001b[0m\u001b[0;34m\u001b[0m\u001b[0m\n\u001b[0;32m--> 529\u001b[0;31m         \u001b[0mresp\u001b[0m \u001b[0;34m=\u001b[0m \u001b[0mself\u001b[0m\u001b[0;34m.\u001b[0m\u001b[0msend\u001b[0m\u001b[0;34m(\u001b[0m\u001b[0mprep\u001b[0m\u001b[0;34m,\u001b[0m \u001b[0;34m**\u001b[0m\u001b[0msend_kwargs\u001b[0m\u001b[0;34m)\u001b[0m\u001b[0;34m\u001b[0m\u001b[0;34m\u001b[0m\u001b[0m\n\u001b[0m\u001b[1;32m    530\u001b[0m \u001b[0;34m\u001b[0m\u001b[0m\n\u001b[1;32m    531\u001b[0m         \u001b[0;32mreturn\u001b[0m \u001b[0mresp\u001b[0m\u001b[0;34m\u001b[0m\u001b[0;34m\u001b[0m\u001b[0m\n",
      "\u001b[0;32m~/.SBDynT/lib/python3.7/site-packages/requests/sessions.py\u001b[0m in \u001b[0;36msend\u001b[0;34m(self, request, **kwargs)\u001b[0m\n\u001b[1;32m    643\u001b[0m \u001b[0;34m\u001b[0m\u001b[0m\n\u001b[1;32m    644\u001b[0m         \u001b[0;31m# Send the request\u001b[0m\u001b[0;34m\u001b[0m\u001b[0;34m\u001b[0m\u001b[0;34m\u001b[0m\u001b[0m\n\u001b[0;32m--> 645\u001b[0;31m         \u001b[0mr\u001b[0m \u001b[0;34m=\u001b[0m \u001b[0madapter\u001b[0m\u001b[0;34m.\u001b[0m\u001b[0msend\u001b[0m\u001b[0;34m(\u001b[0m\u001b[0mrequest\u001b[0m\u001b[0;34m,\u001b[0m \u001b[0;34m**\u001b[0m\u001b[0mkwargs\u001b[0m\u001b[0;34m)\u001b[0m\u001b[0;34m\u001b[0m\u001b[0;34m\u001b[0m\u001b[0m\n\u001b[0m\u001b[1;32m    646\u001b[0m \u001b[0;34m\u001b[0m\u001b[0m\n\u001b[1;32m    647\u001b[0m         \u001b[0;31m# Total elapsed time of the request (approximately)\u001b[0m\u001b[0;34m\u001b[0m\u001b[0;34m\u001b[0m\u001b[0;34m\u001b[0m\u001b[0m\n",
      "\u001b[0;32m~/.SBDynT/lib/python3.7/site-packages/requests/adapters.py\u001b[0m in \u001b[0;36msend\u001b[0;34m(self, request, stream, timeout, verify, cert, proxies)\u001b[0m\n\u001b[1;32m    448\u001b[0m                     \u001b[0mdecode_content\u001b[0m\u001b[0;34m=\u001b[0m\u001b[0;32mFalse\u001b[0m\u001b[0;34m,\u001b[0m\u001b[0;34m\u001b[0m\u001b[0;34m\u001b[0m\u001b[0m\n\u001b[1;32m    449\u001b[0m                     \u001b[0mretries\u001b[0m\u001b[0;34m=\u001b[0m\u001b[0mself\u001b[0m\u001b[0;34m.\u001b[0m\u001b[0mmax_retries\u001b[0m\u001b[0;34m,\u001b[0m\u001b[0;34m\u001b[0m\u001b[0;34m\u001b[0m\u001b[0m\n\u001b[0;32m--> 450\u001b[0;31m                     \u001b[0mtimeout\u001b[0m\u001b[0;34m=\u001b[0m\u001b[0mtimeout\u001b[0m\u001b[0;34m\u001b[0m\u001b[0;34m\u001b[0m\u001b[0m\n\u001b[0m\u001b[1;32m    451\u001b[0m                 )\n\u001b[1;32m    452\u001b[0m \u001b[0;34m\u001b[0m\u001b[0m\n",
      "\u001b[0;32m~/.SBDynT/lib/python3.7/site-packages/urllib3/connectionpool.py\u001b[0m in \u001b[0;36murlopen\u001b[0;34m(self, method, url, body, headers, retries, redirect, assert_same_host, timeout, pool_timeout, release_conn, chunked, body_pos, **response_kw)\u001b[0m\n\u001b[1;32m    708\u001b[0m                 \u001b[0mbody\u001b[0m\u001b[0;34m=\u001b[0m\u001b[0mbody\u001b[0m\u001b[0;34m,\u001b[0m\u001b[0;34m\u001b[0m\u001b[0;34m\u001b[0m\u001b[0m\n\u001b[1;32m    709\u001b[0m                 \u001b[0mheaders\u001b[0m\u001b[0;34m=\u001b[0m\u001b[0mheaders\u001b[0m\u001b[0;34m,\u001b[0m\u001b[0;34m\u001b[0m\u001b[0;34m\u001b[0m\u001b[0m\n\u001b[0;32m--> 710\u001b[0;31m                 \u001b[0mchunked\u001b[0m\u001b[0;34m=\u001b[0m\u001b[0mchunked\u001b[0m\u001b[0;34m,\u001b[0m\u001b[0;34m\u001b[0m\u001b[0;34m\u001b[0m\u001b[0m\n\u001b[0m\u001b[1;32m    711\u001b[0m             )\n\u001b[1;32m    712\u001b[0m \u001b[0;34m\u001b[0m\u001b[0m\n",
      "\u001b[0;32m~/.SBDynT/lib/python3.7/site-packages/urllib3/connectionpool.py\u001b[0m in \u001b[0;36m_make_request\u001b[0;34m(self, conn, method, url, timeout, chunked, **httplib_request_kw)\u001b[0m\n\u001b[1;32m    447\u001b[0m                     \u001b[0;31m# Python 3 (including for exceptions like SystemExit).\u001b[0m\u001b[0;34m\u001b[0m\u001b[0;34m\u001b[0m\u001b[0;34m\u001b[0m\u001b[0m\n\u001b[1;32m    448\u001b[0m                     \u001b[0;31m# Otherwise it looks like a bug in the code.\u001b[0m\u001b[0;34m\u001b[0m\u001b[0;34m\u001b[0m\u001b[0;34m\u001b[0m\u001b[0m\n\u001b[0;32m--> 449\u001b[0;31m                     \u001b[0msix\u001b[0m\u001b[0;34m.\u001b[0m\u001b[0mraise_from\u001b[0m\u001b[0;34m(\u001b[0m\u001b[0me\u001b[0m\u001b[0;34m,\u001b[0m \u001b[0;32mNone\u001b[0m\u001b[0;34m)\u001b[0m\u001b[0;34m\u001b[0m\u001b[0;34m\u001b[0m\u001b[0m\n\u001b[0m\u001b[1;32m    450\u001b[0m         \u001b[0;32mexcept\u001b[0m \u001b[0;34m(\u001b[0m\u001b[0mSocketTimeout\u001b[0m\u001b[0;34m,\u001b[0m \u001b[0mBaseSSLError\u001b[0m\u001b[0;34m,\u001b[0m \u001b[0mSocketError\u001b[0m\u001b[0;34m)\u001b[0m \u001b[0;32mas\u001b[0m \u001b[0me\u001b[0m\u001b[0;34m:\u001b[0m\u001b[0;34m\u001b[0m\u001b[0;34m\u001b[0m\u001b[0m\n\u001b[1;32m    451\u001b[0m             \u001b[0mself\u001b[0m\u001b[0;34m.\u001b[0m\u001b[0m_raise_timeout\u001b[0m\u001b[0;34m(\u001b[0m\u001b[0merr\u001b[0m\u001b[0;34m=\u001b[0m\u001b[0me\u001b[0m\u001b[0;34m,\u001b[0m \u001b[0murl\u001b[0m\u001b[0;34m=\u001b[0m\u001b[0murl\u001b[0m\u001b[0;34m,\u001b[0m \u001b[0mtimeout_value\u001b[0m\u001b[0;34m=\u001b[0m\u001b[0mread_timeout\u001b[0m\u001b[0;34m)\u001b[0m\u001b[0;34m\u001b[0m\u001b[0;34m\u001b[0m\u001b[0m\n",
      "\u001b[0;32m~/.SBDynT/lib/python3.7/site-packages/urllib3/packages/six.py\u001b[0m in \u001b[0;36mraise_from\u001b[0;34m(value, from_value)\u001b[0m\n",
      "\u001b[0;32m~/.SBDynT/lib/python3.7/site-packages/urllib3/connectionpool.py\u001b[0m in \u001b[0;36m_make_request\u001b[0;34m(self, conn, method, url, timeout, chunked, **httplib_request_kw)\u001b[0m\n\u001b[1;32m    442\u001b[0m                 \u001b[0;31m# Python 3\u001b[0m\u001b[0;34m\u001b[0m\u001b[0;34m\u001b[0m\u001b[0;34m\u001b[0m\u001b[0m\n\u001b[1;32m    443\u001b[0m                 \u001b[0;32mtry\u001b[0m\u001b[0;34m:\u001b[0m\u001b[0;34m\u001b[0m\u001b[0;34m\u001b[0m\u001b[0m\n\u001b[0;32m--> 444\u001b[0;31m                     \u001b[0mhttplib_response\u001b[0m \u001b[0;34m=\u001b[0m \u001b[0mconn\u001b[0m\u001b[0;34m.\u001b[0m\u001b[0mgetresponse\u001b[0m\u001b[0;34m(\u001b[0m\u001b[0;34m)\u001b[0m\u001b[0;34m\u001b[0m\u001b[0;34m\u001b[0m\u001b[0m\n\u001b[0m\u001b[1;32m    445\u001b[0m                 \u001b[0;32mexcept\u001b[0m \u001b[0mBaseException\u001b[0m \u001b[0;32mas\u001b[0m \u001b[0me\u001b[0m\u001b[0;34m:\u001b[0m\u001b[0;34m\u001b[0m\u001b[0;34m\u001b[0m\u001b[0m\n\u001b[1;32m    446\u001b[0m                     \u001b[0;31m# Remove the TypeError from the exception chain in\u001b[0m\u001b[0;34m\u001b[0m\u001b[0;34m\u001b[0m\u001b[0;34m\u001b[0m\u001b[0m\n",
      "\u001b[0;32m/opt/tljh/user/lib/python3.7/http/client.py\u001b[0m in \u001b[0;36mgetresponse\u001b[0;34m(self)\u001b[0m\n\u001b[1;32m   1319\u001b[0m         \u001b[0;32mtry\u001b[0m\u001b[0;34m:\u001b[0m\u001b[0;34m\u001b[0m\u001b[0;34m\u001b[0m\u001b[0m\n\u001b[1;32m   1320\u001b[0m             \u001b[0;32mtry\u001b[0m\u001b[0;34m:\u001b[0m\u001b[0;34m\u001b[0m\u001b[0;34m\u001b[0m\u001b[0m\n\u001b[0;32m-> 1321\u001b[0;31m                 \u001b[0mresponse\u001b[0m\u001b[0;34m.\u001b[0m\u001b[0mbegin\u001b[0m\u001b[0;34m(\u001b[0m\u001b[0;34m)\u001b[0m\u001b[0;34m\u001b[0m\u001b[0;34m\u001b[0m\u001b[0m\n\u001b[0m\u001b[1;32m   1322\u001b[0m             \u001b[0;32mexcept\u001b[0m \u001b[0mConnectionError\u001b[0m\u001b[0;34m:\u001b[0m\u001b[0;34m\u001b[0m\u001b[0;34m\u001b[0m\u001b[0m\n\u001b[1;32m   1323\u001b[0m                 \u001b[0mself\u001b[0m\u001b[0;34m.\u001b[0m\u001b[0mclose\u001b[0m\u001b[0;34m(\u001b[0m\u001b[0;34m)\u001b[0m\u001b[0;34m\u001b[0m\u001b[0;34m\u001b[0m\u001b[0m\n",
      "\u001b[0;32m/opt/tljh/user/lib/python3.7/http/client.py\u001b[0m in \u001b[0;36mbegin\u001b[0;34m(self)\u001b[0m\n\u001b[1;32m    294\u001b[0m         \u001b[0;31m# read until we get a non-100 response\u001b[0m\u001b[0;34m\u001b[0m\u001b[0;34m\u001b[0m\u001b[0;34m\u001b[0m\u001b[0m\n\u001b[1;32m    295\u001b[0m         \u001b[0;32mwhile\u001b[0m \u001b[0;32mTrue\u001b[0m\u001b[0;34m:\u001b[0m\u001b[0;34m\u001b[0m\u001b[0;34m\u001b[0m\u001b[0m\n\u001b[0;32m--> 296\u001b[0;31m             \u001b[0mversion\u001b[0m\u001b[0;34m,\u001b[0m \u001b[0mstatus\u001b[0m\u001b[0;34m,\u001b[0m \u001b[0mreason\u001b[0m \u001b[0;34m=\u001b[0m \u001b[0mself\u001b[0m\u001b[0;34m.\u001b[0m\u001b[0m_read_status\u001b[0m\u001b[0;34m(\u001b[0m\u001b[0;34m)\u001b[0m\u001b[0;34m\u001b[0m\u001b[0;34m\u001b[0m\u001b[0m\n\u001b[0m\u001b[1;32m    297\u001b[0m             \u001b[0;32mif\u001b[0m \u001b[0mstatus\u001b[0m \u001b[0;34m!=\u001b[0m \u001b[0mCONTINUE\u001b[0m\u001b[0;34m:\u001b[0m\u001b[0;34m\u001b[0m\u001b[0;34m\u001b[0m\u001b[0m\n\u001b[1;32m    298\u001b[0m                 \u001b[0;32mbreak\u001b[0m\u001b[0;34m\u001b[0m\u001b[0;34m\u001b[0m\u001b[0m\n",
      "\u001b[0;32m/opt/tljh/user/lib/python3.7/http/client.py\u001b[0m in \u001b[0;36m_read_status\u001b[0;34m(self)\u001b[0m\n\u001b[1;32m    255\u001b[0m \u001b[0;34m\u001b[0m\u001b[0m\n\u001b[1;32m    256\u001b[0m     \u001b[0;32mdef\u001b[0m \u001b[0m_read_status\u001b[0m\u001b[0;34m(\u001b[0m\u001b[0mself\u001b[0m\u001b[0;34m)\u001b[0m\u001b[0;34m:\u001b[0m\u001b[0;34m\u001b[0m\u001b[0;34m\u001b[0m\u001b[0m\n\u001b[0;32m--> 257\u001b[0;31m         \u001b[0mline\u001b[0m \u001b[0;34m=\u001b[0m \u001b[0mstr\u001b[0m\u001b[0;34m(\u001b[0m\u001b[0mself\u001b[0m\u001b[0;34m.\u001b[0m\u001b[0mfp\u001b[0m\u001b[0;34m.\u001b[0m\u001b[0mreadline\u001b[0m\u001b[0;34m(\u001b[0m\u001b[0m_MAXLINE\u001b[0m \u001b[0;34m+\u001b[0m \u001b[0;36m1\u001b[0m\u001b[0;34m)\u001b[0m\u001b[0;34m,\u001b[0m \u001b[0;34m\"iso-8859-1\"\u001b[0m\u001b[0;34m)\u001b[0m\u001b[0;34m\u001b[0m\u001b[0;34m\u001b[0m\u001b[0m\n\u001b[0m\u001b[1;32m    258\u001b[0m         \u001b[0;32mif\u001b[0m \u001b[0mlen\u001b[0m\u001b[0;34m(\u001b[0m\u001b[0mline\u001b[0m\u001b[0;34m)\u001b[0m \u001b[0;34m>\u001b[0m \u001b[0m_MAXLINE\u001b[0m\u001b[0;34m:\u001b[0m\u001b[0;34m\u001b[0m\u001b[0;34m\u001b[0m\u001b[0m\n\u001b[1;32m    259\u001b[0m             \u001b[0;32mraise\u001b[0m \u001b[0mLineTooLong\u001b[0m\u001b[0;34m(\u001b[0m\u001b[0;34m\"status line\"\u001b[0m\u001b[0;34m)\u001b[0m\u001b[0;34m\u001b[0m\u001b[0;34m\u001b[0m\u001b[0m\n",
      "\u001b[0;32m/opt/tljh/user/lib/python3.7/socket.py\u001b[0m in \u001b[0;36mreadinto\u001b[0;34m(self, b)\u001b[0m\n\u001b[1;32m    587\u001b[0m         \u001b[0;32mwhile\u001b[0m \u001b[0;32mTrue\u001b[0m\u001b[0;34m:\u001b[0m\u001b[0;34m\u001b[0m\u001b[0;34m\u001b[0m\u001b[0m\n\u001b[1;32m    588\u001b[0m             \u001b[0;32mtry\u001b[0m\u001b[0;34m:\u001b[0m\u001b[0;34m\u001b[0m\u001b[0;34m\u001b[0m\u001b[0m\n\u001b[0;32m--> 589\u001b[0;31m                 \u001b[0;32mreturn\u001b[0m \u001b[0mself\u001b[0m\u001b[0;34m.\u001b[0m\u001b[0m_sock\u001b[0m\u001b[0;34m.\u001b[0m\u001b[0mrecv_into\u001b[0m\u001b[0;34m(\u001b[0m\u001b[0mb\u001b[0m\u001b[0;34m)\u001b[0m\u001b[0;34m\u001b[0m\u001b[0;34m\u001b[0m\u001b[0m\n\u001b[0m\u001b[1;32m    590\u001b[0m             \u001b[0;32mexcept\u001b[0m \u001b[0mtimeout\u001b[0m\u001b[0;34m:\u001b[0m\u001b[0;34m\u001b[0m\u001b[0;34m\u001b[0m\u001b[0m\n\u001b[1;32m    591\u001b[0m                 \u001b[0mself\u001b[0m\u001b[0;34m.\u001b[0m\u001b[0m_timeout_occurred\u001b[0m \u001b[0;34m=\u001b[0m \u001b[0;32mTrue\u001b[0m\u001b[0;34m\u001b[0m\u001b[0;34m\u001b[0m\u001b[0m\n",
      "\u001b[0;32m/opt/tljh/user/lib/python3.7/ssl.py\u001b[0m in \u001b[0;36mrecv_into\u001b[0;34m(self, buffer, nbytes, flags)\u001b[0m\n\u001b[1;32m   1050\u001b[0m                   \u001b[0;34m\"non-zero flags not allowed in calls to recv_into() on %s\"\u001b[0m \u001b[0;34m%\u001b[0m\u001b[0;34m\u001b[0m\u001b[0;34m\u001b[0m\u001b[0m\n\u001b[1;32m   1051\u001b[0m                   self.__class__)\n\u001b[0;32m-> 1052\u001b[0;31m             \u001b[0;32mreturn\u001b[0m \u001b[0mself\u001b[0m\u001b[0;34m.\u001b[0m\u001b[0mread\u001b[0m\u001b[0;34m(\u001b[0m\u001b[0mnbytes\u001b[0m\u001b[0;34m,\u001b[0m \u001b[0mbuffer\u001b[0m\u001b[0;34m)\u001b[0m\u001b[0;34m\u001b[0m\u001b[0;34m\u001b[0m\u001b[0m\n\u001b[0m\u001b[1;32m   1053\u001b[0m         \u001b[0;32melse\u001b[0m\u001b[0;34m:\u001b[0m\u001b[0;34m\u001b[0m\u001b[0;34m\u001b[0m\u001b[0m\n\u001b[1;32m   1054\u001b[0m             \u001b[0;32mreturn\u001b[0m \u001b[0msuper\u001b[0m\u001b[0;34m(\u001b[0m\u001b[0;34m)\u001b[0m\u001b[0;34m.\u001b[0m\u001b[0mrecv_into\u001b[0m\u001b[0;34m(\u001b[0m\u001b[0mbuffer\u001b[0m\u001b[0;34m,\u001b[0m \u001b[0mnbytes\u001b[0m\u001b[0;34m,\u001b[0m \u001b[0mflags\u001b[0m\u001b[0;34m)\u001b[0m\u001b[0;34m\u001b[0m\u001b[0;34m\u001b[0m\u001b[0m\n",
      "\u001b[0;32m/opt/tljh/user/lib/python3.7/ssl.py\u001b[0m in \u001b[0;36mread\u001b[0;34m(self, len, buffer)\u001b[0m\n\u001b[1;32m    909\u001b[0m         \u001b[0;32mtry\u001b[0m\u001b[0;34m:\u001b[0m\u001b[0;34m\u001b[0m\u001b[0;34m\u001b[0m\u001b[0m\n\u001b[1;32m    910\u001b[0m             \u001b[0;32mif\u001b[0m \u001b[0mbuffer\u001b[0m \u001b[0;32mis\u001b[0m \u001b[0;32mnot\u001b[0m \u001b[0;32mNone\u001b[0m\u001b[0;34m:\u001b[0m\u001b[0;34m\u001b[0m\u001b[0;34m\u001b[0m\u001b[0m\n\u001b[0;32m--> 911\u001b[0;31m                 \u001b[0;32mreturn\u001b[0m \u001b[0mself\u001b[0m\u001b[0;34m.\u001b[0m\u001b[0m_sslobj\u001b[0m\u001b[0;34m.\u001b[0m\u001b[0mread\u001b[0m\u001b[0;34m(\u001b[0m\u001b[0mlen\u001b[0m\u001b[0;34m,\u001b[0m \u001b[0mbuffer\u001b[0m\u001b[0;34m)\u001b[0m\u001b[0;34m\u001b[0m\u001b[0;34m\u001b[0m\u001b[0m\n\u001b[0m\u001b[1;32m    912\u001b[0m             \u001b[0;32melse\u001b[0m\u001b[0;34m:\u001b[0m\u001b[0;34m\u001b[0m\u001b[0;34m\u001b[0m\u001b[0m\n\u001b[1;32m    913\u001b[0m                 \u001b[0;32mreturn\u001b[0m \u001b[0mself\u001b[0m\u001b[0;34m.\u001b[0m\u001b[0m_sslobj\u001b[0m\u001b[0;34m.\u001b[0m\u001b[0mread\u001b[0m\u001b[0;34m(\u001b[0m\u001b[0mlen\u001b[0m\u001b[0;34m)\u001b[0m\u001b[0;34m\u001b[0m\u001b[0;34m\u001b[0m\u001b[0m\n",
      "\u001b[0;31mKeyboardInterrupt\u001b[0m: "
     ]
    }
   ],
   "source": [
    "make_files.make_multi('DES_objects')"
   ]
  },
  {
   "cell_type": "markdown",
   "metadata": {},
   "source": [
    "# Running Integrations for List of Objects\n",
    "\n",
    "To integrate multiple objects, you may use the integrate.py function \"integrate_multi\" with inputs:\n",
    "- (str) filename: The name of the file in the data/data_files directory with the names of objects.\n",
    "- (float) tmax: The number of years to run the integration for. The default is set to 10 Myr for 8_p simulations, and 100 Myr for 4_p simulations, corresponding to asteroid vs. TNO simulations.\n",
    "- (float) tout: The interval of years to save for. Default set to save elements in archive every 1000 years."
   ]
  },
  {
   "cell_type": "code",
   "execution_count": 3,
   "metadata": {},
   "outputs": [
    {
     "name": "stdout",
     "output_type": "stream",
     "text": [
      "Obj # 0\n",
      "../data/Test/1\n",
      "Obj # 1\n",
      "../data/Test/2\n",
      "Obj # 2\n",
      "../data/Test/3\n",
      "Obj # 3\n",
      "../data/Test/4\n",
      "Obj # 4\n",
      "../data/Test/6\n",
      "Obj # 5\n",
      "../data/Test/7\n",
      "Obj # 6\n",
      "../data/Test/8\n",
      "Obj # 7\n",
      "../data/Test/9\n",
      "Obj # 8\n",
      "../data/Test/10\n",
      "Obj # 9\n",
      "../data/Test/11\n",
      "Obj # 10\n",
      "../data/Test/12\n",
      "Obj # 11\n",
      "../data/Test/13\n",
      "Obj # 12\n",
      "../data/Test/14\n",
      "Obj # 13\n",
      "../data/Test/15\n",
      "Obj # 14\n",
      "../data/Test/16\n",
      "Obj # 15\n",
      "../data/Test/17\n",
      "Obj # 16\n",
      "../data/Test/18\n",
      "Obj # 17\n",
      "../data/Test/19\n",
      "Obj # 18\n",
      "../data/Test/20\n",
      "Obj # 19\n",
      "../data/Test/21\n",
      "Obj # 20\n",
      "../data/Test/22\n",
      "Obj # 21\n",
      "../data/Test/23\n",
      "Obj # 22\n",
      "../data/Test/24\n",
      "Obj # 23\n",
      "../data/Test/25\n"
     ]
    }
   ],
   "source": [
    "integrate.integrate_multi('DES_objects',1e5,1e2)"
   ]
  },
  {
   "cell_type": "markdown",
   "metadata": {},
   "source": [
    "# Calculating Proper Elements for a List of Objects\n",
    "\n",
    "You can calculate the proper elements for a list of objects with the prop_elem.py function prop_multi, with inputs:\n",
    "- filename (str): The name of the file with the list of names."
   ]
  },
  {
   "cell_type": "code",
   "execution_count": 5,
   "metadata": {},
   "outputs": [],
   "source": [
    "prop_elem.prop_multi('Test')"
   ]
  },
  {
   "cell_type": "code",
   "execution_count": 10,
   "metadata": {},
   "outputs": [
    {
     "name": "stdout",
     "output_type": "stream",
     "text": [
      "<rebound.particle.Particle object at 0x7f54a8088ea0, m=1.0000059769986274 x=-0.0037976966049083094 y=0.007442406877138113 z=2.29261831059801e-05 vx=-0.003068842034508753 vy=-0.000713971652731558 vz=8.427789926795217e-05>\n",
      "<rebound.particle.Particle object at 0x7f54a8088268, m=0.0009547919099366768 x=0.5223485954575768 y=-5.193583547161092 z=0.009853506315345952 vx=2.708687198371589 vy=0.4071903430596803 vz=-0.06228310629805021>\n"
     ]
    }
   ],
   "source": [
    "sim = rebound.Simulation('../data/Test/1/archive_init.bin')\n",
    "print(sim.particles[0])\n",
    "print(sim.particles['jupiter'])"
   ]
  },
  {
   "cell_type": "code",
   "execution_count": null,
   "metadata": {},
   "outputs": [],
   "source": [
    "prop_elem.prop_multi()"
   ]
  }
 ],
 "metadata": {
  "kernelspec": {
   "display_name": "SBDynT",
   "language": "python",
   "name": "sbdynt"
  },
  "language_info": {
   "codemirror_mode": {
    "name": "ipython",
    "version": 3
   },
   "file_extension": ".py",
   "mimetype": "text/x-python",
   "name": "python",
   "nbconvert_exporter": "python",
   "pygments_lexer": "ipython3",
   "version": "3.7.3"
  }
 },
 "nbformat": 4,
 "nbformat_minor": 5
}
