{
 "cells": [
  {
   "cell_type": "code",
   "execution_count": 1,
   "id": "663f3e19",
   "metadata": {},
   "outputs": [],
   "source": [
    "import numpy as np\n",
    "import rebound\n",
    "import matplotlib.pyplot as plt\n",
    "import os\n",
    "import pandas as pd\n",
    "import sys\n",
    "\n",
    "sys.path.insert(0, '/Users/kvolk/Documents/GitHub/SBDynT/src')\n",
    "import sbdynt as sbd\n",
    "import proper_elements"
   ]
  },
  {
   "cell_type": "code",
   "execution_count": 2,
   "id": "fca82112-8170-4cf6-ab9f-ccd10ab64e37",
   "metadata": {},
   "outputs": [
    {
     "name": "stdout",
     "output_type": "stream",
     "text": [
      "OrderedDict([('data', array([[ 4.07080469e-18, -1.22505886e-17, -9.08199241e-16,\n",
      "        -4.22347324e-17, -1.86478672e-16,  7.91742850e-18],\n",
      "       [-1.22505886e-17,  3.94100135e-17,  3.00918773e-15,\n",
      "         1.05475115e-16,  8.42674047e-16, -2.36027106e-17],\n",
      "       [-9.08199241e-16,  3.00918773e-15,  1.70351396e-11,\n",
      "         1.80835447e-13,  3.19456418e-12, -1.10616609e-16],\n",
      "       [-4.22347324e-17,  1.05475115e-16,  1.80835447e-13,\n",
      "         1.40116851e-12, -1.33724077e-12, -3.16774880e-15],\n",
      "       [-1.86478672e-16,  8.42674047e-16,  3.19456418e-12,\n",
      "        -1.33724077e-12,  1.98511981e-12,  2.79623087e-15],\n",
      "       [ 7.91742850e-18, -2.36027106e-17, -1.10616609e-16,\n",
      "        -3.16774880e-15,  2.79623087e-15,  3.60579566e-14]])), ('labels', ['e', 'q', 'tp', 'node', 'peri', 'i']), ('epoch', <Quantity 2457997.5 d>), ('elements', OrderedDict([('e', 0.1521473051781986), ('e_sig', 2.01762352435107e-09), ('q', <Quantity 2.35259311 AU>), ('q_sig', <Quantity 6.27773952e-09 AU>), ('tp', <Quantity 2457318.70558509 d>), ('tp_sig', <Quantity 4.12736473e-06 d>), ('om', <Quantity 144.30099209 deg>), ('om_sig', <Quantity 1.18370964e-06 deg>), ('w', <Quantity 344.22719321 deg>), ('w_sig', <Quantity 1.4089428e-06 deg>), ('i', <Quantity 9.43117375 deg>), ('i_sig', <Quantity 1.89889327e-07 deg>)]))]) 0.1521473051781986\n"
     ]
    }
   ],
   "source": [
    "flag, epoch, sim = sbd.initialize_simulation(des='28', clones=0)"
   ]
  },
  {
   "cell_type": "code",
   "execution_count": null,
   "id": "f99f3123-d887-4717-8f09-33d47cf7f03c",
   "metadata": {},
   "outputs": [],
   "source": [
    "sim.status()"
   ]
  },
  {
   "cell_type": "markdown",
   "id": "b053db8a",
   "metadata": {},
   "source": [
    "# Running a Single Object and Producing Proper Elements"
   ]
  },
  {
   "cell_type": "markdown",
   "id": "29574927",
   "metadata": {},
   "source": [
    "# Initializing your data\n",
    "\n",
    "SBDynT allows you to start an integration by producing a Rebound SimulationArchive with all of the particles needed for the simulation. You do so with the \"make_files.py\" script.\n",
    "\n",
    "The make function in this script takes 4 inputs,\n",
    "- (str) obj_directory: The name of the destination folder with the archive file.\n",
    "- (boolean) rocky_planets: If True, will include all 8 planets in integration, otherwise will just use gas giants. The default is False.\n",
    "- (str) des: The name/designation of the object in question according to JPL Horizons naming coventions in the Small Body Database.\n",
    "- (int) clones: The number of clones you want to include in the run. Defualt is set to 0.\n",
    "\n",
    "This will produce a small archive.bin file contianing the particles representing the Sun, 8 planets, and the primary object, plus any clones you include in the run."
   ]
  },
  {
   "cell_type": "code",
   "execution_count": null,
   "id": "78920e31",
   "metadata": {},
   "outputs": [],
   "source": [
    "make_files.make('Haumea',True)"
   ]
  },
  {
   "cell_type": "markdown",
   "id": "1aba6c3f",
   "metadata": {},
   "source": [
    "# Integrating A Single or Multiple Simulations\n",
    "\n",
    "The integrate.py script can take the produced archive.bin from make_file, and can then run Rebound integrations for a specified amount of time on the files. You do so with the integrate function, with the following inputs:\n",
    "- (str) objname: The name of the object you are running, or if you are running a list of multiple objects, it will be the integer index of the object in the file list.\n",
    "- (float) tmax: The number of years to run the integration for. Default is set to 10 Myr.\n",
    "- (float) tout: The desired increment of years to save in your archive.bin. Default is set to save data once every 1000 years. \n",
    "- (str) filename: The name of the file containing the list of object names you are integrating. If you are only running a single object, this string can be left alone, since the defualt is the \"Single\" filename.\n",
    "\n",
    "Below, I run the Haumea system, which I initizalied above, for a 100,000 year period, saving data every 100 years. "
   ]
  },
  {
   "cell_type": "code",
   "execution_count": null,
   "id": "1037bdc0",
   "metadata": {},
   "outputs": [],
   "source": [
    "integrate.integrate('Haumea',1e5,1e2)"
   ]
  },
  {
   "cell_type": "markdown",
   "id": "5c65fd5d",
   "metadata": {},
   "source": [
    "# Producing Proper Elements\n",
    "\n",
    "Proper elements can be produced for a single object, or for a given list of objects with finished integrations, using the prop_elem.py script. You cna do so using the prop_calc function with the following inputs:\n",
    "- (str) objname: The name of the object. \n",
    "- (str) filename: The name of the run objects. The default is \"Single\", representing the single objects. \n"
   ]
  },
  {
   "cell_type": "code",
   "execution_count": null,
   "id": "cd65e938",
   "metadata": {},
   "outputs": [],
   "source": [
    "data = prop_elem.prop_calc('Haumea')\n",
    "\n",
    "#print(len(data),len(data[0]),data)\n",
    "#column_names = ['Objname','ObsEcc','ObsSin(Inc)','PropEcc','PropSin(Inc)','PropSMA','0_2PE','1_3PE','2_4PE','3_5PE','4_6PE','5_7PE','6_8PE','7_9PE','8_10PE']\n",
    "#data_df = pd.DataFrame(np.array([data]),columns = column_names)\n",
    "#data_df.to_csv('../data/Single/Lempo/Lempo_prop_elem.csv')"
   ]
  },
  {
   "cell_type": "code",
   "execution_count": null,
   "id": "4f6c41b9",
   "metadata": {},
   "outputs": [],
   "source": [
    "data"
   ]
  },
  {
   "cell_type": "markdown",
   "id": "8636ff08",
   "metadata": {},
   "source": [
    "# Running Multiple Objects"
   ]
  },
  {
   "cell_type": "markdown",
   "id": "5a033bb9",
   "metadata": {},
   "source": [
    "# Initializing the List of Objects\n",
    "\n",
    "To run multiple objects, you will start by providing a list of names of objects corresponding to their designations in JPL Horizons. In this case, I am using a group of objects I will call the \"Test\" objects, with the names held in the file \"Test_data.csv\". You can include any data you want in this file, but the file must include a column named \"Name\" witht he object names within.\n",
    "\n",
    "You may initialize all of these objects with the make_file.py function \"make_multi\" with inputs:\n",
    "- (str) filename: The name of the file with the list of object names. \n",
    "- (boolean) rockp: If True, will include all 8 planets in each simulation. Otherwise will only include the 4 giant planets. \n",
    "- (int) clones: The number of clones per object you want to include. "
   ]
  },
  {
   "cell_type": "code",
   "execution_count": null,
   "id": "95bf43db",
   "metadata": {},
   "outputs": [],
   "source": [
    "make_files.make_multi('DES_objects')"
   ]
  },
  {
   "cell_type": "markdown",
   "id": "9a33d856",
   "metadata": {},
   "source": [
    "# Running Integrations for List of Objects\n",
    "\n",
    "To integrate multiple objects, you may use the integrate.py function \"integrate_multi\" with inputs:\n",
    "- (str) filename: The name of the file in the data/data_files directory with the names of objects.\n",
    "- (float) tmax: The number of years to run the integration for. The default is set to 10 Myr for 8_p simulations, and 100 Myr for 4_p simulations, corresponding to asteroid vs. TNO simulations.\n",
    "- (float) tout: The interval of years to save for. Default set to save elements in archive every 1000 years."
   ]
  },
  {
   "cell_type": "code",
   "execution_count": null,
   "id": "3801c336",
   "metadata": {},
   "outputs": [],
   "source": [
    "integrate.integrate_multi('DES_objects',1e5,1e2)"
   ]
  },
  {
   "cell_type": "markdown",
   "id": "32a56557",
   "metadata": {},
   "source": [
    "# Calculating Proper Elements for a List of Objects\n",
    "\n",
    "You can calculate the proper elements for a list of objects with the prop_elem.py function prop_multi, with inputs:\n",
    "- filename (str): The name of the file with the list of names."
   ]
  },
  {
   "cell_type": "code",
   "execution_count": null,
   "id": "d500603e",
   "metadata": {},
   "outputs": [],
   "source": [
    "prop_elem.prop_multi('Test')"
   ]
  },
  {
   "cell_type": "code",
   "execution_count": null,
   "id": "564baa43",
   "metadata": {},
   "outputs": [],
   "source": [
    "sim = rebound.Simulation('../data/Test/1/archive_init.bin')\n",
    "print(sim.particles[0])\n",
    "print(sim.particles['jupiter'])"
   ]
  },
  {
   "cell_type": "code",
   "execution_count": null,
   "id": "0944248b",
   "metadata": {},
   "outputs": [],
   "source": [
    "prop_elem.prop_multi()"
   ]
  }
 ],
 "metadata": {
  "kernelspec": {
   "display_name": "Python 3 (ipykernel)",
   "language": "python",
   "name": "python3"
  },
  "language_info": {
   "codemirror_mode": {
    "name": "ipython",
    "version": 3
   },
   "file_extension": ".py",
   "mimetype": "text/x-python",
   "name": "python",
   "nbconvert_exporter": "python",
   "pygments_lexer": "ipython3",
   "version": "3.9.7"
  }
 },
 "nbformat": 4,
 "nbformat_minor": 5
}
