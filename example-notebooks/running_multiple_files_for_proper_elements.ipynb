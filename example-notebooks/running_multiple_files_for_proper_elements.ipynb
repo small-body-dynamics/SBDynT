{
 "cells": [
  {
   "cell_type": "code",
   "execution_count": null,
   "id": "3e073e3d",
   "metadata": {},
   "outputs": [],
   "source": [
    "import numpy as np\n",
    "import rebound\n",
    "import matplotlib.pyplot as plt\n",
    "import os\n",
    "import pandas as pd\n",
    "\n",
    "os.chdir('../src/')\n",
    "\n",
    "import make_files\n",
    "import integrate\n",
    "import prop_elem"
   ]
  },
  {
   "cell_type": "markdown",
   "id": "25277bfe",
   "metadata": {},
   "source": [
    "# Running a Single Object and Producing Proper Elements"
   ]
  },
  {
   "cell_type": "markdown",
   "id": "91417b96",
   "metadata": {},
   "source": [
    "# Initializing your data\n",
    "\n",
    "SBDynT allows you to start an integration by producing a Rebound SimulationArchive with all of the particles needed for the simulation. You do so with the \"make_files.py\" script.\n",
    "\n",
    "The make function in this script takes 3 inputs,\n",
    "- (str) obj_directory: The name of the destination folder with the archive file.\n",
    "- (str) des: The name/designation of the object in question according to JPL Horizons naming coventions in the Small Body Database.\n",
    "- (int) clones: The number of clones you want to include in the run. Defualt is set to 0.\n",
    "\n",
    "This will produce a small archive.bin file contianing the particles representing the Sun, 8 planets, and the primary object, plus any clones you include in the run."
   ]
  },
  {
   "cell_type": "code",
   "execution_count": 3,
   "id": "8ba8129a",
   "metadata": {},
   "outputs": [],
   "source": [
    "make_files.make('Lempo')"
   ]
  },
  {
   "cell_type": "markdown",
   "id": "316bf9e0",
   "metadata": {},
   "source": [
    "# Integrating A Single or Multiple Simulations\n",
    "\n",
    "The integrate.py script can take the produced archive.bin from make_file, and can then run Rebound integrations for a specified amount of time on the files. You do so with the integrate function, with the following inputs:\n",
    "- (str) objname: The name of the object you are running, or if you are running a list of multiple objects, it will be the integer index of the object in the file list.\n",
    "- (float) tmax: The number of years to run the integration for. Default is set to 10 Myr.\n",
    "- (float) tout: The desired increment of years to save in your archive.bin. Default is set to save data once every 1000 years. \n",
    "- (str) filename: The name of the file containing the list of object names you are integrating. If you are only running a single object, this string can be left alone, since the defualt is the \"Single\" filename.\n",
    "\n",
    "Below, I run the Lempo system, whihc I initizalied above, for a 100,000 year period, saving data every 100 years. "
   ]
  },
  {
   "cell_type": "code",
   "execution_count": 4,
   "id": "76d13867",
   "metadata": {},
   "outputs": [],
   "source": [
    "integrate.integrate('Lempo',1e5,1e2)"
   ]
  },
  {
   "cell_type": "markdown",
   "id": "874d6f82",
   "metadata": {},
   "source": [
    "# Producing Proper Elements\n",
    "\n",
    "Proper elements can be produced for a single object, or for a given list of objects with finished integrations, using the prop_elem.py script. You cna do so using the prop_calc function with the following inputs:\n",
    "- (str) objname: The name of the object. \n",
    "- (str) filename: The name of the run objects. The default is \"Single\", representing the single objects. \n"
   ]
  },
  {
   "cell_type": "code",
   "execution_count": 5,
   "id": "80c9fa55",
   "metadata": {},
   "outputs": [],
   "source": [
    "data = prop_elem.prop_calc('Lempo')\n",
    "\n",
    "#print(len(data),len(data[0]),data)\n",
    "column_names = ['Objname','ObsEcc','ObsSin(Inc)','PropEcc','PropSin(Inc)','PropSMA','0_2PE','1_3PE','2_4PE','3_5PE','4_6PE','5_7PE','6_8PE','7_9PE','8_10PE']\n",
    "data_df = pd.DataFrame(np.array([data]),columns = column_names)\n",
    "data_df.to_csv('../data/Single/Lempo/Lempo_prop_elem.csv')"
   ]
  },
  {
   "cell_type": "code",
   "execution_count": null,
   "id": "f435b028",
   "metadata": {},
   "outputs": [],
   "source": []
  },
  {
   "cell_type": "markdown",
   "id": "8f8b9ea9",
   "metadata": {},
   "source": [
    "# Running Multiple Objects"
   ]
  },
  {
   "cell_type": "markdown",
   "id": "20644efa",
   "metadata": {},
   "source": [
    "# Initializing the List of Objects\n",
    "\n",
    "To run multiple objects, you will start by providing a list of names of objects corresponding to their designations in JPL Horizons. In this case, I am using a group of objects I will call the \"Test\" objects, with the names held in the file \"Test_data.csv\". You can include any data you want in this file, but the file must include a column named \"Name\" witht he object names within.\n",
    "\n",
    "You may initizlize all fo these objects with the make_file.py function \"multi_make\" with inputs:\n",
    "- (str) filename: "
   ]
  },
  {
   "cell_type": "code",
   "execution_count": 1,
   "id": "ee435653",
   "metadata": {},
   "outputs": [
    {
     "ename": "NameError",
     "evalue": "name 'make_files' is not defined",
     "output_type": "error",
     "traceback": [
      "\u001b[1;31m---------------------------------------------------------------------------\u001b[0m",
      "\u001b[1;31mNameError\u001b[0m                                 Traceback (most recent call last)",
      "\u001b[1;32m<ipython-input-1-10b640207310>\u001b[0m in \u001b[0;36m<module>\u001b[1;34m\u001b[0m\n\u001b[1;32m----> 1\u001b[1;33m \u001b[0mmake_files\u001b[0m\u001b[1;33m.\u001b[0m\u001b[0mmulti_make\u001b[0m\u001b[1;33m(\u001b[0m\u001b[1;34m'DEEP'\u001b[0m\u001b[1;33m)\u001b[0m\u001b[1;33m\u001b[0m\u001b[1;33m\u001b[0m\u001b[0m\n\u001b[0m",
      "\u001b[1;31mNameError\u001b[0m: name 'make_files' is not defined"
     ]
    }
   ],
   "source": [
    "make_files.multi_make('DEEP')"
   ]
  },
  {
   "cell_type": "code",
   "execution_count": null,
   "id": "a4c7d0d2",
   "metadata": {},
   "outputs": [
    {
     "name": "stdout",
     "output_type": "stream",
     "text": [
      "Obj # 0\n",
      "Obj # 1\n"
     ]
    }
   ],
   "source": [
    "integrate.integrate_multi('Test',1e5,1e2)"
   ]
  },
  {
   "cell_type": "code",
   "execution_count": 2,
   "id": "26a7f369",
   "metadata": {},
   "outputs": [],
   "source": [
    "prop_elem.prop_multi('Test')"
   ]
  },
  {
   "cell_type": "code",
   "execution_count": null,
   "id": "a6f40b55",
   "metadata": {},
   "outputs": [],
   "source": []
  }
 ],
 "metadata": {
  "kernelspec": {
   "display_name": "Python 3",
   "language": "python",
   "name": "python3"
  }
 },
 "nbformat": 4,
 "nbformat_minor": 5
}
