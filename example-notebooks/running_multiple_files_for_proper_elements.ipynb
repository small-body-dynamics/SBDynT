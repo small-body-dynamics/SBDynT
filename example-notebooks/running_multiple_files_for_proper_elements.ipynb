{
 "cells": [
  {
   "cell_type": "code",
   "execution_count": 13,
   "metadata": {},
   "outputs": [],
   "source": [
    "import numpy as np\n",
    "import rebound\n",
    "import matplotlib.pyplot as plt\n",
    "import os\n",
    "import pandas as pd\n",
    "\n",
    "os.chdir('../src/')\n",
    "\n",
    "import make_files\n",
    "import integrate\n",
    "import prop_elem"
   ]
  },
  {
   "cell_type": "markdown",
   "metadata": {},
   "source": [
    "# Running a Single Object and Producing Proper Elements"
   ]
  },
  {
   "cell_type": "markdown",
   "metadata": {},
   "source": [
    "# Initializing your data\n",
    "\n",
    "SBDynT allows you to start an integration by producing a Rebound SimulationArchive with all of the particles needed for the simulation. You do so with the \"make_files.py\" script.\n",
    "\n",
    "The make function in this script takes 3 inputs,\n",
    "- (str) obj_directory: The name of the destination folder with the archive file.\n",
    "- (boolean) rocky_planets: If True, will include all 8 planets in integration, otherwise will just use gas giants. The default is False.\n",
    "- (str) des: The name/designation of the object in question according to JPL Horizons naming coventions in the Small Body Database.\n",
    "- (int) clones: The number of clones you want to include in the run. Defualt is set to 0.\n",
    "\n",
    "This will produce a small archive.bin file contianing the particles representing the Sun, 8 planets, and the primary object, plus any clones you include in the run."
   ]
  },
  {
   "cell_type": "code",
   "execution_count": 14,
   "metadata": {},
   "outputs": [
    {
     "ename": "OSError",
     "evalue": "[Errno 28] No space left on device: '../data/Single/4'",
     "output_type": "error",
     "traceback": [
      "\u001b[0;31m---------------------------------------------------------------------------\u001b[0m",
      "\u001b[0;31mOSError\u001b[0m                                   Traceback (most recent call last)",
      "\u001b[0;32m/tmp/ipykernel_3680659/77848429.py\u001b[0m in \u001b[0;36m<module>\u001b[0;34m\u001b[0m\n\u001b[0;32m----> 1\u001b[0;31m \u001b[0mmake_files\u001b[0m\u001b[0;34m.\u001b[0m\u001b[0mmake\u001b[0m\u001b[0;34m(\u001b[0m\u001b[0;34m'4'\u001b[0m\u001b[0;34m,\u001b[0m\u001b[0;32mTrue\u001b[0m\u001b[0;34m)\u001b[0m\u001b[0;34m\u001b[0m\u001b[0;34m\u001b[0m\u001b[0m\n\u001b[0m",
      "\u001b[0;32m~/research/SBDynT_dev/src/make_files.py\u001b[0m in \u001b[0;36mmake\u001b[0;34m(des, rocky_planets, clones, filename)\u001b[0m\n\u001b[1;32m     30\u001b[0m     \u001b[0mobj_directory\u001b[0m \u001b[0;34m=\u001b[0m \u001b[0;34m'../data/'\u001b[0m\u001b[0;34m+\u001b[0m\u001b[0mfilename\u001b[0m\u001b[0;34m+\u001b[0m\u001b[0;34m'/'\u001b[0m\u001b[0;34m+\u001b[0m\u001b[0mstr\u001b[0m\u001b[0;34m(\u001b[0m\u001b[0mdes\u001b[0m\u001b[0;34m)\u001b[0m\u001b[0;34m\u001b[0m\u001b[0;34m\u001b[0m\u001b[0m\n\u001b[1;32m     31\u001b[0m     \u001b[0;31m#print(obj_directory,filename)\u001b[0m\u001b[0;34m\u001b[0m\u001b[0;34m\u001b[0m\u001b[0;34m\u001b[0m\u001b[0m\n\u001b[0;32m---> 32\u001b[0;31m     \u001b[0mos\u001b[0m\u001b[0;34m.\u001b[0m\u001b[0mmakedirs\u001b[0m\u001b[0;34m(\u001b[0m\u001b[0mobj_directory\u001b[0m\u001b[0;34m,\u001b[0m \u001b[0mexist_ok\u001b[0m\u001b[0;34m=\u001b[0m\u001b[0;32mTrue\u001b[0m\u001b[0;34m)\u001b[0m\u001b[0;34m\u001b[0m\u001b[0;34m\u001b[0m\u001b[0m\n\u001b[0m\u001b[1;32m     33\u001b[0m     \u001b[0mflag\u001b[0m\u001b[0;34m,\u001b[0m \u001b[0mepoch\u001b[0m\u001b[0;34m,\u001b[0m \u001b[0msim\u001b[0m \u001b[0;34m=\u001b[0m \u001b[0mrun_reb\u001b[0m\u001b[0;34m.\u001b[0m\u001b[0minitialize_simulation\u001b[0m\u001b[0;34m(\u001b[0m\u001b[0mplanets\u001b[0m\u001b[0;34m=\u001b[0m\u001b[0mlist\u001b[0m\u001b[0;34m(\u001b[0m\u001b[0mplanet_id\u001b[0m\u001b[0;34m.\u001b[0m\u001b[0mvalues\u001b[0m\u001b[0;34m(\u001b[0m\u001b[0;34m)\u001b[0m\u001b[0;34m)\u001b[0m\u001b[0;34m,\u001b[0m \u001b[0mdes\u001b[0m\u001b[0;34m=\u001b[0m\u001b[0mstr\u001b[0m\u001b[0;34m(\u001b[0m\u001b[0mdes\u001b[0m\u001b[0;34m)\u001b[0m\u001b[0;34m,\u001b[0m \u001b[0mclones\u001b[0m\u001b[0;34m=\u001b[0m\u001b[0mclones\u001b[0m\u001b[0;34m)\u001b[0m\u001b[0;34m\u001b[0m\u001b[0;34m\u001b[0m\u001b[0m\n\u001b[1;32m     34\u001b[0m \u001b[0;34m\u001b[0m\u001b[0m\n",
      "\u001b[0;32m/opt/tljh/user/lib/python3.7/os.py\u001b[0m in \u001b[0;36mmakedirs\u001b[0;34m(name, mode, exist_ok)\u001b[0m\n\u001b[1;32m    219\u001b[0m             \u001b[0;32mreturn\u001b[0m\u001b[0;34m\u001b[0m\u001b[0;34m\u001b[0m\u001b[0m\n\u001b[1;32m    220\u001b[0m     \u001b[0;32mtry\u001b[0m\u001b[0;34m:\u001b[0m\u001b[0;34m\u001b[0m\u001b[0;34m\u001b[0m\u001b[0m\n\u001b[0;32m--> 221\u001b[0;31m         \u001b[0mmkdir\u001b[0m\u001b[0;34m(\u001b[0m\u001b[0mname\u001b[0m\u001b[0;34m,\u001b[0m \u001b[0mmode\u001b[0m\u001b[0;34m)\u001b[0m\u001b[0;34m\u001b[0m\u001b[0;34m\u001b[0m\u001b[0m\n\u001b[0m\u001b[1;32m    222\u001b[0m     \u001b[0;32mexcept\u001b[0m \u001b[0mOSError\u001b[0m\u001b[0;34m:\u001b[0m\u001b[0;34m\u001b[0m\u001b[0;34m\u001b[0m\u001b[0m\n\u001b[1;32m    223\u001b[0m         \u001b[0;31m# Cannot rely on checking for EEXIST, since the operating system\u001b[0m\u001b[0;34m\u001b[0m\u001b[0;34m\u001b[0m\u001b[0;34m\u001b[0m\u001b[0m\n",
      "\u001b[0;31mOSError\u001b[0m: [Errno 28] No space left on device: '../data/Single/4'"
     ]
    }
   ],
   "source": [
    "make_files.make('4',True)"
   ]
  },
  {
   "cell_type": "markdown",
   "metadata": {},
   "source": [
    "# Integrating A Single or Multiple Simulations\n",
    "\n",
    "The integrate.py script can take the produced archive.bin from make_file, and can then run Rebound integrations for a specified amount of time on the files. You do so with the integrate function, with the following inputs:\n",
    "- (str) objname: The name of the object you are running, or if you are running a list of multiple objects, it will be the integer index of the object in the file list.\n",
    "- (float) tmax: The number of years to run the integration for. Default is set to 10 Myr.\n",
    "- (float) tout: The desired increment of years to save in your archive.bin. Default is set to save data once every 1000 years. \n",
    "- (str) filename: The name of the file containing the list of object names you are integrating. If you are only running a single object, this string can be left alone, since the defualt is the \"Single\" filename.\n",
    "\n",
    "Below, I run the Lempo system, whihc I initizalied above, for a 100,000 year period, saving data every 100 years. "
   ]
  },
  {
   "cell_type": "code",
   "execution_count": 3,
   "metadata": {},
   "outputs": [
    {
     "name": "stdout",
     "output_type": "stream",
     "text": [
      "../data/Single/Ceres\n"
     ]
    }
   ],
   "source": [
    "integrate.integrate('Ceres',1e5,1e2)"
   ]
  },
  {
   "cell_type": "markdown",
   "metadata": {},
   "source": [
    "# Producing Proper Elements\n",
    "\n",
    "Proper elements can be produced for a single object, or for a given list of objects with finished integrations, using the prop_elem.py script. You cna do so using the prop_calc function with the following inputs:\n",
    "- (str) objname: The name of the object. \n",
    "- (str) filename: The name of the run objects. The default is \"Single\", representing the single objects. \n"
   ]
  },
  {
   "cell_type": "code",
   "execution_count": 4,
   "metadata": {},
   "outputs": [],
   "source": [
    "data = prop_elem.prop_calc('Ceres')\n",
    "\n",
    "#print(len(data),len(data[0]),data)\n",
    "#column_names = ['Objname','ObsEcc','ObsSin(Inc)','PropEcc','PropSin(Inc)','PropSMA','0_2PE','1_3PE','2_4PE','3_5PE','4_6PE','5_7PE','6_8PE','7_9PE','8_10PE']\n",
    "#data_df = pd.DataFrame(np.array([data]),columns = column_names)\n",
    "#data_df.to_csv('../data/Single/Lempo/Lempo_prop_elem.csv')"
   ]
  },
  {
   "cell_type": "code",
   "execution_count": 5,
   "metadata": {},
   "outputs": [
    {
     "data": {
      "text/plain": [
       "['Ceres',\n",
       " 0.11002763434242448,\n",
       " 0.16875904088129376,\n",
       " 0.10805555950865717,\n",
       " 0.16257286492562137,\n",
       " 2.7634612976354727,\n",
       " [0.10991269046445719, 0.17004937235603648, 2.763867105554864],\n",
       " [0.11800913739708978, 0.16978135456639667, 2.7635172831077766],\n",
       " [0.105770697675245, 0.16205661722035486, 2.7627266056209474],\n",
       " [0.09620486627088608, 0.16235384307024275, 2.7632298662428947],\n",
       " [0.0941339718779901, 0.16982664169678532, 2.763925655185832],\n",
       " [0.1069139323610776, 0.1697305468089185, 2.763574541240828],\n",
       " [0.1164143839628528, 0.16264821546146657, 2.7630354207724657],\n",
       " [0.10393897836758498, 0.16288942065086293, 2.763174568258164],\n",
       " [0.09472074878871686, 0.16973376632887366, 2.763763851541569]]"
      ]
     },
     "execution_count": 5,
     "metadata": {},
     "output_type": "execute_result"
    }
   ],
   "source": [
    "data"
   ]
  },
  {
   "cell_type": "markdown",
   "metadata": {},
   "source": [
    "# Running Multiple Objects"
   ]
  },
  {
   "cell_type": "markdown",
   "metadata": {},
   "source": [
    "# Initializing the List of Objects\n",
    "\n",
    "To run multiple objects, you will start by providing a list of names of objects corresponding to their designations in JPL Horizons. In this case, I am using a group of objects I will call the \"Test\" objects, with the names held in the file \"Test_data.csv\". You can include any data you want in this file, but the file must include a column named \"Name\" witht he object names within.\n",
    "\n",
    "You may initialize all of these objects with the make_file.py function \"make_multi\" with inputs:\n",
    "- (str) filename: The name of the file with the list of object names. \n",
    "- (boolean) rockp: If True, will include all 8 planets in each simulation. Otherwise will only include the 4 giant planets. \n",
    "- (int) clones: The number of clones per object you want to include. "
   ]
  },
  {
   "cell_type": "code",
   "execution_count": 2,
   "metadata": {},
   "outputs": [],
   "source": [
    "make_files.make_multi('Test')"
   ]
  },
  {
   "cell_type": "markdown",
   "metadata": {},
   "source": [
    "# Running Integrations for List of Objects\n",
    "\n",
    "To integrate multiple objects, you may use the integrate.py function \"integrate_multi\" with inputs:\n",
    "- (str) filename: The name of the file in the data/data_files directory with the names of objects.\n",
    "- (float) tmax: The number of years to run the integration for. The default is set to 10 Myr for 8_p simulations, and 100 Myr for 4_p simulations, corresponding to asteroid vs. TNO simulations.\n",
    "- (float) tout: The interval of years to save for. Default set to save elements in archive every 1000 years."
   ]
  },
  {
   "cell_type": "code",
   "execution_count": 3,
   "metadata": {},
   "outputs": [
    {
     "name": "stdout",
     "output_type": "stream",
     "text": [
      "Obj # 0\n",
      "../data/Test/1\n",
      "Obj # 1\n",
      "../data/Test/2\n",
      "Obj # 2\n",
      "../data/Test/3\n",
      "Obj # 3\n",
      "../data/Test/4\n",
      "Obj # 4\n",
      "../data/Test/6\n",
      "Obj # 5\n",
      "../data/Test/7\n",
      "Obj # 6\n",
      "../data/Test/8\n",
      "Obj # 7\n",
      "../data/Test/9\n",
      "Obj # 8\n",
      "../data/Test/10\n",
      "Obj # 9\n",
      "../data/Test/11\n",
      "Obj # 10\n",
      "../data/Test/12\n",
      "Obj # 11\n",
      "../data/Test/13\n",
      "Obj # 12\n",
      "../data/Test/14\n",
      "Obj # 13\n",
      "../data/Test/15\n",
      "Obj # 14\n",
      "../data/Test/16\n",
      "Obj # 15\n",
      "../data/Test/17\n",
      "Obj # 16\n",
      "../data/Test/18\n",
      "Obj # 17\n",
      "../data/Test/19\n",
      "Obj # 18\n",
      "../data/Test/20\n",
      "Obj # 19\n",
      "../data/Test/21\n",
      "Obj # 20\n",
      "../data/Test/22\n",
      "Obj # 21\n",
      "../data/Test/23\n",
      "Obj # 22\n",
      "../data/Test/24\n",
      "Obj # 23\n",
      "../data/Test/25\n"
     ]
    }
   ],
   "source": [
    "integrate.integrate_multi('Test',1e5,1e2)"
   ]
  },
  {
   "cell_type": "markdown",
   "metadata": {},
   "source": [
    "# Calculating Proper Elements for a List of Objects\n",
    "\n",
    "You can calculate the proper elements for a list of objects with the prop_elem.py function prop_multi, with inputs:\n",
    "- filename (str): The name of the file with the list of names."
   ]
  },
  {
   "cell_type": "code",
   "execution_count": 5,
   "metadata": {},
   "outputs": [],
   "source": [
    "prop_elem.prop_multi('Test')"
   ]
  },
  {
   "cell_type": "code",
   "execution_count": 10,
   "metadata": {},
   "outputs": [
    {
     "name": "stdout",
     "output_type": "stream",
     "text": [
      "<rebound.particle.Particle object at 0x7f54a8088ea0, m=1.0000059769986274 x=-0.0037976966049083094 y=0.007442406877138113 z=2.29261831059801e-05 vx=-0.003068842034508753 vy=-0.000713971652731558 vz=8.427789926795217e-05>\n",
      "<rebound.particle.Particle object at 0x7f54a8088268, m=0.0009547919099366768 x=0.5223485954575768 y=-5.193583547161092 z=0.009853506315345952 vx=2.708687198371589 vy=0.4071903430596803 vz=-0.06228310629805021>\n"
     ]
    }
   ],
   "source": [
    "sim = rebound.Simulation('../data/Test/1/archive_init.bin')\n",
    "print(sim.particles[0])\n",
    "print(sim.particles['jupiter'])"
   ]
  },
  {
   "cell_type": "code",
   "execution_count": null,
   "metadata": {},
   "outputs": [],
   "source": [
    "prop_elem.prop_multi()"
   ]
  }
 ],
 "metadata": {
  "kernelspec": {
   "display_name": "SBDynT",
   "language": "python",
   "name": "sbdynt"
  },
  "language_info": {
   "codemirror_mode": {
    "name": "ipython",
    "version": 3
   },
   "file_extension": ".py",
   "mimetype": "text/x-python",
   "name": "python",
   "nbconvert_exporter": "python",
   "pygments_lexer": "ipython3",
   "version": "3.7.3"
  }
 },
 "nbformat": 4,
 "nbformat_minor": 5
}
