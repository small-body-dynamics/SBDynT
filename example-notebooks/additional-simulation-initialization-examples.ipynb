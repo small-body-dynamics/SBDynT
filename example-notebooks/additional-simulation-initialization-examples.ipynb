{
 "cells": [
  {
   "cell_type": "code",
   "execution_count": 1,
   "id": "3c8ab114",
   "metadata": {},
   "outputs": [],
   "source": [
    "import rebound\n",
    "import sys\n",
    "#change the next line to reflect where you have downloaded the source code\n",
    "sys.path.insert(0, '/Users/kvolk/Documents/GitHub/SBDynT/src')\n",
    "import sbdynt as sbd"
   ]
  },
  {
   "cell_type": "markdown",
   "id": "7b7dc01a",
   "metadata": {},
   "source": [
    "**Example of setting up an integration with just the planets at a spefied epoch**\n",
    "\n",
    "Note that if not all planets are included in a simulation, we correct for that, so this routine also returns the necessary cartesian correction to the heliocentric position and velocity vectors of any small bodies you want to add to the simulation. \n",
    "\n",
    "You must use these corrections *before* using a sim.move_to_com() command!\n",
    "\n",
    "\n"
   ]
  },
  {
   "cell_type": "code",
   "execution_count": 2,
   "id": "bbd001d1",
   "metadata": {},
   "outputs": [
    {
     "name": "stdout",
     "output_type": "stream",
     "text": [
      "Only the giant planets are included, so the corrections are non-zero: \n",
      "0.0 0.0 0.0\n",
      "0 0.0 0.0\n"
     ]
    }
   ],
   "source": [
    "sim= rebound.Simulation()\n",
    "epoch = 2457217.5\n",
    "flag, sim, dx, dy, dz, dvx, dvy, dvz = sbd.add_planets(sim,epoch=epoch)\n",
    "if(flag):\n",
    "    print(\"Only the giant planets are included, so the corrections are non-zero: \")\n",
    "    print(dx,dy,dz)\n",
    "    print(dvx,dvy,dvz)"
   ]
  },
  {
   "cell_type": "code",
   "execution_count": 3,
   "id": "cf7f9474",
   "metadata": {},
   "outputs": [
    {
     "name": "stdout",
     "output_type": "stream",
     "text": [
      "Only the giant planets are included, so the corrections are non-zero: \n",
      "-1.0867896335706758e-06 4.111305404909633e-06 1.1748741478494982e-08\n",
      "-3.209377390988975e-05 -7.75337397002884e-06 7.561184199213491e-07\n"
     ]
    }
   ],
   "source": [
    "sim= rebound.Simulation()\n",
    "flag, sim, dx, dy, dz, dvx, dvy, dvz = sbd.add_planets(sim,planets=['Jupiter','Saturn','Uranus', 'Neptune'],\n",
    "                                                       epoch=epoch)\n",
    "if(flag):\n",
    "    print(\"Only the giant planets are included, so the corrections are non-zero: \")\n",
    "    print(dx,dy,dz)\n",
    "    print(dvx,dvy,dvz)\n",
    "    \n",
    "    "
   ]
  },
  {
   "cell_type": "code",
   "execution_count": 4,
   "id": "c4c79332",
   "metadata": {},
   "outputs": [
    {
     "name": "stdout",
     "output_type": "stream",
     "text": [
      "Added heliocentric orbit: \n",
      "a= 39.407558424179285\n",
      "e= 0.19123915322497717\n",
      "i= 0.12799646211122345\n",
      "node= -2.376673552898542\n",
      "aperi= 3.034146810180969\n",
      "mean anomaly= 0.15671648069789423\n",
      "---------------------------------\n",
      "REBOUND version:     \t4.3.2\n",
      "REBOUND built on:    \tFeb 19 2024 21:28:11\n",
      "Number of particles: \t6\n",
      "Selected integrator: \tias15\n",
      "Simulation time:     \t0.0000000000000000e+00\n",
      "Current timestep:    \t0.400000\n",
      "---------------------------------\n",
      "<rebound.particle.Particle object at 0x7f94bea20840, m=1.0000059769986274 x=0.00346106016231451 y=0.0002763191852440362 z=-0.00015320621456877916 vx=0.0008681058230389302 vy=0.0023024789190979247 vz=-2.337071977160678e-05>\n",
      "<rebound.particle.Particle object at 0x7f94bea207c0, m=0.0009547919099366768 x=-4.640079009063582 y=2.709933685630652 z=0.09249943531696177 vx=-1.4224164878812873 vy=-2.2502849100954925 vz=0.04117886591796361>\n",
      "<rebound.particle.Particle object at 0x7f94bea20840, m=0.0002858856700231729 x=-4.527081593730463 y=-8.893180388894034 z=0.33480063198292653 vx=1.7044567379097002 vy=-0.9303393869988008 vz=-0.05165803566676291>\n",
      "<rebound.particle.Particle object at 0x7f94bea207c0, m=4.3662496132004074e-05 x=19.0873661231142 y=5.947404367703717 z=-0.2251943186472506 vx=-0.4378473452878478 vy=1.3045667967979382 vz=0.010518936289208814>\n",
      "<rebound.particle.Particle object at 0x7f94bea20840, m=5.151383772628657e-05 x=27.760594405829092 y=-11.278314876866611 z=-0.4075165060602012 vx=0.42393453729074515 vy=1.069056488764797 vz=-0.03178523536799897>\n",
      "<rebound.particle.Particle object at 0x7f94bea207c0, m=0.0 x=20.126487462944084 y=24.891216868924175 z=-0.5178510176650237 vx=-0.905111010432001 vy=0.7898085790215303 vz=-0.15388536910048556>\n",
      "---------------------------------\n"
     ]
    }
   ],
   "source": [
    "#when adding small bodies by observed heliocentric orbit, you should convert to cartesian using the GM\n",
    "#value for the sun used for that heliocentric orbit fit and then add them to the simulation using \n",
    "#the above corrections\n",
    "\n",
    "#Example, suppose you have an orbit calculated at the above epoch using Find_Orb with the following\n",
    "#orbital elements:\n",
    "epoch = 2457217.5\n",
    "a = 39.4060972335126 #(semimajor axis in au)\n",
    "ec = 0.19121388131996062 #(eccentricity)\n",
    "inc=0.1279988198070029 #radians! (inclination relative to the ecliptic)\n",
    "node = -2.3766713138417384 #radians! (longitude of ascending node)\n",
    "argperi = 3.033977870435759 #radians! (argument of pericenter)\n",
    "ma = 0.15683745626851575 #radians! (mean anomaly)\n",
    "\n",
    "#You need the value of GMsun used by Find_Orb, which we have in a constants file\n",
    "import hard_coded_constants as const\n",
    "\n",
    "# We need to convert the Find_Orb orbit to heliocentric\n",
    "# cartesian variables using Find_Orb's assumed solar GM\n",
    "# which is in km^2/s^2, so have to convert a to km first\n",
    "a = a/const.kmtoau\n",
    "#now we use a built-in tool to convert to heliocentric cartesian\n",
    "aeiflag, x, y, z, vx, vy, vz = sbd.aei_to_xv(GM=const.find_orb_sunGM, \n",
    "                a=a, e=ec, inc=inc, node=node, argperi=argperi, ma=ma)\n",
    "# those positions and velocities are in km and km/s, so need to convert\n",
    "# to au/year\n",
    "x=x*const.kmtoau\n",
    "y=y*const.kmtoau\n",
    "z=z*const.kmtoau\n",
    "vx=vx*const.kmtoau/const.stoyear\n",
    "vy=vy*const.kmtoau/const.stoyear\n",
    "vz=vz*const.kmtoau/const.stoyear\n",
    "\n",
    "#now we can apply the corrections from add_planets to make them heliocentric\n",
    "x+=dx; y+=dy; z+=dz;\n",
    "vx+=dvx; vy+=dvy; vz+=dvz;\n",
    "\n",
    "#finally we can add a test particle to sim with that corrected orbit:\n",
    "sim.add(m=0., x=x, y=y, z=z, vx=vx, vy=vy, vz=vz, hash=\"test-orbit\")\n",
    "\n",
    "#now we can move to com\n",
    "sim.move_to_com()\n",
    "\n",
    "helio_orbit = sim.particles[\"test-orbit\"].orbit(sim.particles[0])\n",
    "\n",
    "print(\"Added heliocentric orbit: \")\n",
    "print(\"a=\",helio_orbit.a)\n",
    "print(\"e=\",helio_orbit.e)\n",
    "print(\"i=\",helio_orbit.inc)\n",
    "print(\"node=\",helio_orbit.Omega)\n",
    "print(\"aperi=\",helio_orbit.omega)\n",
    "print(\"mean anomaly=\",helio_orbit.M)\n",
    "\n",
    "\n",
    "sim.status(showAllFields=False)\n"
   ]
  },
  {
   "cell_type": "code",
   "execution_count": 5,
   "id": "5d3f5925",
   "metadata": {},
   "outputs": [
    {
     "name": "stdout",
     "output_type": "stream",
     "text": [
      "Added heliocentric orbit: \n",
      "a= 39.407558424179285\n",
      "e= 0.19123915322497717\n",
      "i= 0.12799646211122345\n",
      "node= -2.376673552898542\n",
      "aperi= 3.034146810180969\n",
      "mean anomaly= 0.15671648069789423\n"
     ]
    }
   ],
   "source": [
    "# We have made a routine to do all the above for you for Find_Orb orbits! \n",
    "# Similar routines for other orbit fitting codes will be made at a future date\n",
    "sim= rebound.Simulation()\n",
    "obj_name='example'\n",
    "#Find_orb orbital elements:\n",
    "epoch = 2457217.5\n",
    "a = 39.4060972335126 #(semimajor axis in au)\n",
    "ec = 0.19121388131996062 #(eccentricity)\n",
    "inc=0.1279988198070029 #radians! (inclination relative to the ecliptic)\n",
    "node = -2.3766713138417384 #radians! (longitude of ascending node)\n",
    "argperi = 3.033977870435759 #radians! (argument of pericenter)\n",
    "ma = 0.15683745626851575 #radians! (mean anomaly)\n",
    "\n",
    "flag, sim = sbd.initialize_from_heliocentric_Find_Orb_orbit(sim,des=obj_name,\n",
    "                                                           a=a,e=ec,inc=inc,node=node,\n",
    "                                                           aperi=argperi,ma=ma,\n",
    "                                                           planets = ['jupiter','saturn','uranus','neptune'],\n",
    "                                                           epoch=epoch)\n",
    "\n",
    "helio_orbit = sim.particles[obj_name].orbit(sim.particles[0])\n",
    "\n",
    "print(\"Added heliocentric orbit: \")\n",
    "print(\"a=\",helio_orbit.a)\n",
    "print(\"e=\",helio_orbit.e)\n",
    "print(\"i=\",helio_orbit.inc)\n",
    "print(\"node=\",helio_orbit.Omega)\n",
    "print(\"aperi=\",helio_orbit.omega)\n",
    "print(\"mean anomaly=\",helio_orbit.M)"
   ]
  }
 ],
 "metadata": {
  "kernelspec": {
   "display_name": "Python 3 (ipykernel)",
   "language": "python",
   "name": "python3"
  },
  "language_info": {
   "codemirror_mode": {
    "name": "ipython",
    "version": 3
   },
   "file_extension": ".py",
   "mimetype": "text/x-python",
   "name": "python",
   "nbconvert_exporter": "python",
   "pygments_lexer": "ipython3",
   "version": "3.9.7"
  }
 },
 "nbformat": 4,
 "nbformat_minor": 5
}
