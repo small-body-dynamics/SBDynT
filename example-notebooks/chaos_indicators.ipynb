{
 "cells": [
  {
   "cell_type": "code",
   "execution_count": 1,
   "metadata": {},
   "outputs": [],
   "source": [
    "import rebound\n",
    "import pandas as pd\n",
    "import numpy as np\n",
    "import os\n",
    "import sys\n",
    "os.chdir('../src/')"
   ]
  },
  {
   "cell_type": "markdown",
   "metadata": {},
   "source": [
    "# Defining Chaos - The Indicators Available\n",
    "\n",
    "Chaos can be defed in many ways and on different timescales. While all bodies display chaos over very long timescales, typically a researcher is interested in shorter timescales. \n",
    "\n",
    "We define chaos in SBDynT as systems for which small changes in the initial conditions of the small body lead to large differences in the trajectory of the small body in element space. In addition, systems that display instbalities (scattering events, resonant crossing, ejecton or collision) in the orbit can also be defined as chaotic. \n",
    "\n",
    "With the consderations in mid, SBDynT produces 4 different chaos indicators on different timescales, which can be modified by the user if desired. \n",
    "\n",
    "1) Mean Exponential Growth Factor (MEGNO) - 20,000 years\n",
    "MEGNO is ncluded direclty into the REBOUND functionality when using the WHFast or IAS15 ntegrators. It is not provided for the MErcurius integrator natvely n REBOUND. When MEGNO is calculated for a system including the Sun, 4 giant planets, and a sigle small body, MEGNO can grow unreasonably large after only a period of 100000 years, even for stable systems. For this reason, we calculate MEGNO on a short timescale of 20000 years. MEGNO values greater than 2.5 are flagged as chaotic by SBDynT.\n",
    "\n",
    "2) RMS of the Orbital Element Evolution of a Small Body with Clones - 1 Myr\n",
    "SBDynT will produce a simulation of the small body and 10 clones. The best-fit orbit is then used to produce residuals of the clone's orbtal elements to the primary orbit. The Root-Mean Square of those reisduals is then used to identify chaotic diffusion in the clone's trajectories over time. A 1% RMS n the Semi-major axs will trip this flag. \n",
    "\n",
    "3) Diffusion in the proper semi-major axis - 100 Myr\n",
    "If the user has already performed a 100 Myr integration of the body, SBDynT can calcuate the proper elements and the errors assocaited with the proper element calculations. The RMS of proper semi-major axis value is then idicative of chaos in the system. In partucalr, this method is good at identifying systems which experience evolving semi-major axis or scattering events (instability n the orbits). A 1% or greater diffuson in semi-major axis will trip this flag.\n",
    "\n",
    "4) Information entropy in semi-major axis and eccentricity - 100 Myr\n",
    "Infromation entropy (or Shannon entorpy) is a method used to identify how much uncertainty in data there is in a system. \n",
    "You can take bns of the probablity of the object exisitng at a certan semi-mjor axis and eccentricity n the system. \n",
    "Low entropy will correspond to a system where you can easily define which bin the elements wll be found in (they cluster at a certain eccentricity or semi-major axis.) Hgh entropy wll correspond to systems where the elements are very evenly distributed throughout the bins. Typcally in entropy, low entropy corresponds to low chaos and high entropy to high chaos. H:owever, since the range of the bins is dependent on the range of semi-major axis, stable, low chaos orbtis will actually have very high entropy values (since the values wll cover the entre range) and vce versa.\n",
    "The etropy flag is tripped for objects wth entropy 90% below the maximum entropy value (for 100x100 bins and using base 10, this limit is 4, so entropy below 3.6 will trip this flag).\n",
    "\n"
   ]
  },
  {
   "cell_type": "code",
   "execution_count": null,
   "metadata": {},
   "outputs": [],
   "source": []
  }
 ],
 "metadata": {
  "kernelspec": {
   "display_name": "SBDynT",
   "language": "python",
   "name": "sbdynt"
  },
  "language_info": {
   "codemirror_mode": {
    "name": "ipython",
    "version": 3
   },
   "file_extension": ".py",
   "mimetype": "text/x-python",
   "name": "python",
   "nbconvert_exporter": "python",
   "pygments_lexer": "ipython3",
   "version": "3.7.3"
  }
 },
 "nbformat": 4,
 "nbformat_minor": 4
}
