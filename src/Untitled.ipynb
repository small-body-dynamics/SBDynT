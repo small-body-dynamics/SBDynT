{
 "cells": [
  {
   "cell_type": "code",
   "execution_count": 1,
   "metadata": {},
   "outputs": [
    {
     "name": "stderr",
     "output_type": "stream",
     "text": [
      "/home/byu.local/djspenc/.SBDynT/lib/python3.7/site-packages/rebound/simulationarchive.py:142: RuntimeWarning: You have to reset function pointers after creating a reb_simulation struct with a binary file.\n",
      "  warnings.warn(message, RuntimeWarning)\n"
     ]
    }
   ],
   "source": [
    "import ctypes\n",
    "import rebound\n",
    "import numpy as np\n",
    "import tools\n",
    "import pandas as pd\n",
    "sim = rebound.Simulationarchive('../data/Single/156/archive.bin')\n",
    "fullfile='../data/Single/156/archive.bin'\n",
    "flag2, a_init, e_init, inc_init, lan_init, aop_init, M_init, t_init = tools.read_sa_for_sbody(sbody = str('156'), archivefile=fullfile,nclones=0,tmin=(sim[-1].t),tmax=0)\n",
    "h_init = e_init*np.sin(aop_init+lan_init)\n",
    "k_init = e_init*np.cos(aop_init+lan_init)\n",
    "# Load the shared object file"
   ]
  },
  {
   "cell_type": "code",
   "execution_count": 12,
   "metadata": {},
   "outputs": [
    {
     "name": "stdout",
     "output_type": "stream",
     "text": [
      "converting\n",
      "3 100001\n"
     ]
    }
   ],
   "source": [
    "import ctypes\n",
    "from numpy.ctypeslib import ndpointer \n",
    "_doublepp = ndpointer(dtype=np.uintp, ndim=1, flags='C') \n",
    "\n",
    "fmft = ctypes.cdll.LoadLibrary('./fmft.so')\n",
    "\n",
    "#_foobar = fmft.foobar \n",
    "#_foobar.argtypes = [ctypes.c_int, ctypes.c_int, _doublepp, _doublepp] \n",
    "#_foobar.restype = None \n",
    "\n",
    "fmft = ctypes.cdll.LoadLibrary('./fmft.so')\n",
    "n = len(h_init)\n",
    "fmft.fmft.argtypes = [np.ctypeslib.ndpointer(dtype=np.float64,ndim=2,shape=(3,10)), \n",
    "                          ctypes.c_int, \n",
    "                          ctypes.c_double, \n",
    "                          ctypes.c_double, \n",
    "                          ctypes.c_int, \n",
    "                          np.ctypeslib.ndpointer(dtype=np.float64,ndim=2,shape=(3,n)), \n",
    "                          ctypes.c_long]\n",
    "fmft.fmft.restype = None\n",
    "\n",
    "nfreq=10\n",
    "maxfreq=ctypes.c_double(1/1000)\n",
    "minfreq=ctypes.c_double(1/10000000)\n",
    "flag = 2\n",
    "ndata=8192\n",
    "# Create input and output numpy arrays\n",
    "print('converting')\n",
    "input_array = np.array([t_init,k_init,h_init])\n",
    "output_array = np.zeros((3, 10))\n",
    "\n",
    "# Convert numpy arrays to ctypes pointers\n",
    "#input_ptr = (ctypes.POINTER(ctypes.c_double))()\n",
    "#output_ptr = (ctypes.POINTER(ctypes.c_double))()\n",
    "\n",
    "#for i in range(len(input_array)):\n",
    "#    input_ptr[i] = input_array[i].ctypes.data_as(ctypes.POINTER(ctypes.c_double))\n",
    "#for i in range(len(output_array)):\n",
    "#    output_ptr[i] = output_array[i].ctypes.data_as(ctypes.POINTER(ctypes.c_double))\n",
    "\n",
    "# Call the C function\n",
    "print(len(input_array),len(input_array[0]))\n"
   ]
  },
  {
   "cell_type": "code",
   "execution_count": null,
   "metadata": {},
   "outputs": [],
   "source": [
    "print('running fmft')\n",
    "outs= fmft.fmft(output_array, nfreq, minfreq, maxfreq, flag, input_array, ndata)\n",
    "\n",
    "# Print the output array\n",
    "print(\"Output array:\")\n",
    "print(output_array)\n",
    "\n",
    "#fmft(double **output, int nfreq, double minfreq, double maxfreq, int flag, double **input, long ndata)"
   ]
  },
  {
   "cell_type": "code",
   "execution_count": null,
   "metadata": {},
   "outputs": [
    {
     "name": "stderr",
     "output_type": "stream",
     "text": [
      "/home/byu.local/djspenc/.SBDynT/lib/python3.7/site-packages/rebound/simulationarchive.py:142: RuntimeWarning: You have to reset function pointers after creating a reb_simulation struct with a binary file.\n",
      "  warnings.warn(message, RuntimeWarning)\n"
     ]
    }
   ],
   "source": [
    "import ctypes\n",
    "import rebound\n",
    "import numpy as np\n",
    "import tools\n",
    "import pandas as pd\n",
    "sim = rebound.Simulationarchive('../data/Single/156/archive.bin')\n",
    "fullfile='../data/Single/156/archive.bin'\n",
    "flag2, a_init, e_init, inc_init, lan_init, aop_init, M_init, t_init = tools.read_sa_for_sbody(sbody = str('156'), archivefile=fullfile,nclones=0,tmin=(sim[-1].t),tmax=0)\n",
    "h_init = e_init*np.sin(aop_init+lan_init)\n",
    "k_init = e_init*np.cos(aop_init+lan_init)\n",
    "print('read file')\n",
    "import ctypes\n",
    "from numpy.ctypeslib import ndpointer \n",
    "\n",
    "fmft = ctypes.cdll.LoadLibrary('./fmft.so')\n",
    "\n",
    "#_foobar = fmft.foobar \n",
    "#_foobar.argtypes = [ctypes.c_int, ctypes.c_int, _doublepp, _doublepp] \n",
    "#_foobar.restype = None \n",
    "\n",
    "fmft = ctypes.cdll.LoadLibrary('./fmft.so')\n",
    "n = len(h_init)\n",
    "\n",
    "flag = 2\n",
    "fmft.fmft.argtypes = [ctypes.c_int,\n",
    "                      np.ctypeslib.ndpointer(dtype=np.float64,ndim=2,shape=(3*flag,10)), \n",
    "                      ctypes.c_int, \n",
    "                      ctypes.c_double, \n",
    "                      ctypes.c_double, \n",
    "                      ctypes.c_int, \n",
    "                      np.ctypeslib.ndpointer(dtype=np.float64,ndim=2,shape=(3,n)), \n",
    "                      ctypes.c_long]\n",
    "fmft.fmft.restype = None\n",
    "\n",
    "nfreq=10\n",
    "maxfreq=ctypes.c_double(1/1000)\n",
    "minfreq=ctypes.c_double(1/10000000)\n",
    "#flag = 2\n",
    "ndata=8192*2*2*2*2\n",
    "# Create input and output numpy arrays\n",
    "print('converting')\n",
    "input_array = np.array([t_init,k_init,h_init])\n",
    "output_array = np.zeros((3*flag, 10))\n",
    "\n",
    "# Convert numpy arrays to ctypes pointers\n",
    "#input_ptr = (ctypes.POINTER(ctypes.c_double))()\n",
    "#output_ptr = (ctypes.POINTER(ctypes.c_double))()\n",
    "\n",
    "#for i in range(len(input_array)):\n",
    "#    input_ptr[i] = input_array[i].ctypes.data_as(ctypes.POINTER(ctypes.c_double))\n",
    "#for i in range(len(output_array)):\n",
    "#    output_ptr[i] = output_array[i].ctypes.data_as(ctypes.POINTER(ctypes.c_double))\n",
    "\n",
    "# Call the C function\n",
    "print(len(input_array),len(input_array[0]))\n",
    "\n",
    "print('running fmft')\n",
    "fmft.fmft(n,output_array, nfreq, minfreq, maxfreq, flag, input_array, ndata)\n",
    "\n",
    "# Print the output array\n",
    "print(\"Output array:\")\n",
    "print(output_array)\n"
   ]
  },
  {
   "cell_type": "code",
   "execution_count": null,
   "metadata": {},
   "outputs": [],
   "source": []
  }
 ],
 "metadata": {
  "kernelspec": {
   "display_name": "SBDynT",
   "language": "python",
   "name": "sbdynt"
  },
  "language_info": {
   "codemirror_mode": {
    "name": "ipython",
    "version": 3
   },
   "file_extension": ".py",
   "mimetype": "text/x-python",
   "name": "python",
   "nbconvert_exporter": "python",
   "pygments_lexer": "ipython3",
   "version": "3.7.3"
  }
 },
 "nbformat": 4,
 "nbformat_minor": 4
}
